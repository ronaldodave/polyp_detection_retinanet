{
 "cells": [
  {
   "cell_type": "markdown",
   "id": "face9a9e-a158-44c9-b718-543e822eef42",
   "metadata": {},
   "source": [
    "# Train RetinaNet (Backbone = ResNet50)"
   ]
  },
  {
   "cell_type": "code",
   "execution_count": 1,
   "id": "4c2ea816-9c4a-4926-9340-1357f84d6d0e",
   "metadata": {},
   "outputs": [],
   "source": [
    "import tensorflow as tf\n",
    "import numpy as np\n",
    "from keras_retinanet import models\n",
    "from keras_retinanet.preprocessing.csv_generator import CSVGenerator\n",
    "from keras_retinanet.utils.transform import random_transform_generator\n",
    "from keras_retinanet.utils.image import random_visual_effect_generator\n",
    "from train_retinanet import create_models, create_callbacks, plot_history"
   ]
  },
  {
   "cell_type": "code",
   "execution_count": 2,
   "id": "826517f1-7a19-47ed-9047-6240059de6f7",
   "metadata": {},
   "outputs": [],
   "source": [
    "np.random.seed(1) \n",
    "tf.random.set_seed(1)"
   ]
  },
  {
   "cell_type": "code",
   "execution_count": 3,
   "id": "140f2809-b0e3-4c18-98b2-b4bf2cdaf3e2",
   "metadata": {},
   "outputs": [
    {
     "data": {
      "text/plain": [
       "True"
      ]
     },
     "execution_count": 3,
     "metadata": {},
     "output_type": "execute_result"
    }
   ],
   "source": [
    "tf.test.is_built_with_cuda()  "
   ]
  },
  {
   "cell_type": "code",
   "execution_count": 4,
   "id": "4bd0858d-1272-4e23-acd3-f5562be4e1c0",
   "metadata": {},
   "outputs": [
    {
     "name": "stdout",
     "output_type": "stream",
     "text": [
      "Num GPUs Available:  1\n"
     ]
    }
   ],
   "source": [
    "print(\"Num GPUs Available: \", len(tf.config.experimental.list_physical_devices('GPU'))) #print no of GPU device"
   ]
  },
  {
   "cell_type": "code",
   "execution_count": 5,
   "id": "6b094f45-451c-45de-83f9-b44d151abb2e",
   "metadata": {},
   "outputs": [],
   "source": [
    "backbone = models.backbone('resnet50')\n",
    "weights = backbone.download_imagenet()"
   ]
  },
  {
   "cell_type": "code",
   "execution_count": 6,
   "id": "d5a53e04-7e96-4a09-abc4-8871d7aab442",
   "metadata": {
    "tags": []
   },
   "outputs": [],
   "source": [
    "train_generator = CSVGenerator(\n",
    "    csv_data_file='./dataset/train.csv',\n",
    "    csv_class_file='./dataset/class.csv',\n",
    "    no_resize = True,\n",
    "    preprocess_image  = backbone.preprocess_image\n",
    ")\n",
    "\n",
    "val_generator = CSVGenerator(\n",
    "    csv_data_file='./dataset/validation.csv',\n",
    "    csv_class_file='./dataset/class.csv',\n",
    "    no_resize = True,\n",
    "    preprocess_image  = backbone.preprocess_image\n",
    ")"
   ]
  },
  {
   "cell_type": "code",
   "execution_count": 7,
   "id": "ab3284df-9dd5-4dd4-9db3-698ec72d378d",
   "metadata": {},
   "outputs": [],
   "source": [
    "lr = 1e-3\n",
    "epochs = 50\n",
    "steps = 400"
   ]
  },
  {
   "cell_type": "markdown",
   "id": "f97ca0ed-7a3d-477a-bac8-6ba0898f2b9e",
   "metadata": {},
   "source": [
    "## Without Data Augmentation"
   ]
  },
  {
   "cell_type": "code",
   "execution_count": 8,
   "id": "aa16e46c-2fee-4e38-af5a-ecc687b9f990",
   "metadata": {},
   "outputs": [],
   "source": [
    "training_model, prediction_model = create_models(backbone_retinanet=backbone.retinanet,\n",
    "                                          num_classes=1,\n",
    "                                          weights=weights,\n",
    "                                          freeze_backbone=True,\n",
    "                                          lr=lr\n",
    "                                          )"
   ]
  },
  {
   "cell_type": "code",
   "execution_count": 9,
   "id": "a1847331-07dd-497a-832e-12840239cef7",
   "metadata": {},
   "outputs": [],
   "source": [
    "log_file = './result/retinanet_resnet50_log.csv'\n",
    "model_path = './result/retinanet_resnet50.h5'\n",
    "callback = create_callbacks(training_model, prediction_model, val_generator, model_path, log_file)"
   ]
  },
  {
   "cell_type": "code",
   "execution_count": 10,
   "id": "02f45885-f552-4946-8bd6-dbb29996181d",
   "metadata": {
    "collapsed": true,
    "jupyter": {
     "outputs_hidden": true
    },
    "tags": []
   },
   "outputs": [
    {
     "name": "stdout",
     "output_type": "stream",
     "text": [
      "Model: \"retinanet-bbox\"\n",
      "__________________________________________________________________________________________________\n",
      "Layer (type)                    Output Shape         Param #     Connected to                     \n",
      "==================================================================================================\n",
      "input_1 (InputLayer)            [(None, None, None,  0                                            \n",
      "__________________________________________________________________________________________________\n",
      "conv1 (Conv2D)                  (None, None, None, 6 9408        input_1[0][0]                    \n",
      "__________________________________________________________________________________________________\n",
      "bn_conv1 (BatchNormalization)   (None, None, None, 6 256         conv1[0][0]                      \n",
      "__________________________________________________________________________________________________\n",
      "conv1_relu (Activation)         (None, None, None, 6 0           bn_conv1[0][0]                   \n",
      "__________________________________________________________________________________________________\n",
      "pool1 (MaxPooling2D)            (None, None, None, 6 0           conv1_relu[0][0]                 \n",
      "__________________________________________________________________________________________________\n",
      "res2a_branch2a (Conv2D)         (None, None, None, 6 4096        pool1[0][0]                      \n",
      "__________________________________________________________________________________________________\n",
      "bn2a_branch2a (BatchNormalizati (None, None, None, 6 256         res2a_branch2a[0][0]             \n",
      "__________________________________________________________________________________________________\n",
      "res2a_branch2a_relu (Activation (None, None, None, 6 0           bn2a_branch2a[0][0]              \n",
      "__________________________________________________________________________________________________\n",
      "padding2a_branch2b (ZeroPadding (None, None, None, 6 0           res2a_branch2a_relu[0][0]        \n",
      "__________________________________________________________________________________________________\n",
      "res2a_branch2b (Conv2D)         (None, None, None, 6 36864       padding2a_branch2b[0][0]         \n",
      "__________________________________________________________________________________________________\n",
      "bn2a_branch2b (BatchNormalizati (None, None, None, 6 256         res2a_branch2b[0][0]             \n",
      "__________________________________________________________________________________________________\n",
      "res2a_branch2b_relu (Activation (None, None, None, 6 0           bn2a_branch2b[0][0]              \n",
      "__________________________________________________________________________________________________\n",
      "res2a_branch2c (Conv2D)         (None, None, None, 2 16384       res2a_branch2b_relu[0][0]        \n",
      "__________________________________________________________________________________________________\n",
      "res2a_branch1 (Conv2D)          (None, None, None, 2 16384       pool1[0][0]                      \n",
      "__________________________________________________________________________________________________\n",
      "bn2a_branch2c (BatchNormalizati (None, None, None, 2 1024        res2a_branch2c[0][0]             \n",
      "__________________________________________________________________________________________________\n",
      "bn2a_branch1 (BatchNormalizatio (None, None, None, 2 1024        res2a_branch1[0][0]              \n",
      "__________________________________________________________________________________________________\n",
      "res2a (Add)                     (None, None, None, 2 0           bn2a_branch2c[0][0]              \n",
      "                                                                 bn2a_branch1[0][0]               \n",
      "__________________________________________________________________________________________________\n",
      "res2a_relu (Activation)         (None, None, None, 2 0           res2a[0][0]                      \n",
      "__________________________________________________________________________________________________\n",
      "res2b_branch2a (Conv2D)         (None, None, None, 6 16384       res2a_relu[0][0]                 \n",
      "__________________________________________________________________________________________________\n",
      "bn2b_branch2a (BatchNormalizati (None, None, None, 6 256         res2b_branch2a[0][0]             \n",
      "__________________________________________________________________________________________________\n",
      "res2b_branch2a_relu (Activation (None, None, None, 6 0           bn2b_branch2a[0][0]              \n",
      "__________________________________________________________________________________________________\n",
      "padding2b_branch2b (ZeroPadding (None, None, None, 6 0           res2b_branch2a_relu[0][0]        \n",
      "__________________________________________________________________________________________________\n",
      "res2b_branch2b (Conv2D)         (None, None, None, 6 36864       padding2b_branch2b[0][0]         \n",
      "__________________________________________________________________________________________________\n",
      "bn2b_branch2b (BatchNormalizati (None, None, None, 6 256         res2b_branch2b[0][0]             \n",
      "__________________________________________________________________________________________________\n",
      "res2b_branch2b_relu (Activation (None, None, None, 6 0           bn2b_branch2b[0][0]              \n",
      "__________________________________________________________________________________________________\n",
      "res2b_branch2c (Conv2D)         (None, None, None, 2 16384       res2b_branch2b_relu[0][0]        \n",
      "__________________________________________________________________________________________________\n",
      "bn2b_branch2c (BatchNormalizati (None, None, None, 2 1024        res2b_branch2c[0][0]             \n",
      "__________________________________________________________________________________________________\n",
      "res2b (Add)                     (None, None, None, 2 0           bn2b_branch2c[0][0]              \n",
      "                                                                 res2a_relu[0][0]                 \n",
      "__________________________________________________________________________________________________\n",
      "res2b_relu (Activation)         (None, None, None, 2 0           res2b[0][0]                      \n",
      "__________________________________________________________________________________________________\n",
      "res2c_branch2a (Conv2D)         (None, None, None, 6 16384       res2b_relu[0][0]                 \n",
      "__________________________________________________________________________________________________\n",
      "bn2c_branch2a (BatchNormalizati (None, None, None, 6 256         res2c_branch2a[0][0]             \n",
      "__________________________________________________________________________________________________\n",
      "res2c_branch2a_relu (Activation (None, None, None, 6 0           bn2c_branch2a[0][0]              \n",
      "__________________________________________________________________________________________________\n",
      "padding2c_branch2b (ZeroPadding (None, None, None, 6 0           res2c_branch2a_relu[0][0]        \n",
      "__________________________________________________________________________________________________\n",
      "res2c_branch2b (Conv2D)         (None, None, None, 6 36864       padding2c_branch2b[0][0]         \n",
      "__________________________________________________________________________________________________\n",
      "bn2c_branch2b (BatchNormalizati (None, None, None, 6 256         res2c_branch2b[0][0]             \n",
      "__________________________________________________________________________________________________\n",
      "res2c_branch2b_relu (Activation (None, None, None, 6 0           bn2c_branch2b[0][0]              \n",
      "__________________________________________________________________________________________________\n",
      "res2c_branch2c (Conv2D)         (None, None, None, 2 16384       res2c_branch2b_relu[0][0]        \n",
      "__________________________________________________________________________________________________\n",
      "bn2c_branch2c (BatchNormalizati (None, None, None, 2 1024        res2c_branch2c[0][0]             \n",
      "__________________________________________________________________________________________________\n",
      "res2c (Add)                     (None, None, None, 2 0           bn2c_branch2c[0][0]              \n",
      "                                                                 res2b_relu[0][0]                 \n",
      "__________________________________________________________________________________________________\n",
      "res2c_relu (Activation)         (None, None, None, 2 0           res2c[0][0]                      \n",
      "__________________________________________________________________________________________________\n",
      "res3a_branch2a (Conv2D)         (None, None, None, 1 32768       res2c_relu[0][0]                 \n",
      "__________________________________________________________________________________________________\n",
      "bn3a_branch2a (BatchNormalizati (None, None, None, 1 512         res3a_branch2a[0][0]             \n",
      "__________________________________________________________________________________________________\n",
      "res3a_branch2a_relu (Activation (None, None, None, 1 0           bn3a_branch2a[0][0]              \n",
      "__________________________________________________________________________________________________\n",
      "padding3a_branch2b (ZeroPadding (None, None, None, 1 0           res3a_branch2a_relu[0][0]        \n",
      "__________________________________________________________________________________________________\n",
      "res3a_branch2b (Conv2D)         (None, None, None, 1 147456      padding3a_branch2b[0][0]         \n",
      "__________________________________________________________________________________________________\n",
      "bn3a_branch2b (BatchNormalizati (None, None, None, 1 512         res3a_branch2b[0][0]             \n",
      "__________________________________________________________________________________________________\n",
      "res3a_branch2b_relu (Activation (None, None, None, 1 0           bn3a_branch2b[0][0]              \n",
      "__________________________________________________________________________________________________\n",
      "res3a_branch2c (Conv2D)         (None, None, None, 5 65536       res3a_branch2b_relu[0][0]        \n",
      "__________________________________________________________________________________________________\n",
      "res3a_branch1 (Conv2D)          (None, None, None, 5 131072      res2c_relu[0][0]                 \n",
      "__________________________________________________________________________________________________\n",
      "bn3a_branch2c (BatchNormalizati (None, None, None, 5 2048        res3a_branch2c[0][0]             \n",
      "__________________________________________________________________________________________________\n",
      "bn3a_branch1 (BatchNormalizatio (None, None, None, 5 2048        res3a_branch1[0][0]              \n",
      "__________________________________________________________________________________________________\n",
      "res3a (Add)                     (None, None, None, 5 0           bn3a_branch2c[0][0]              \n",
      "                                                                 bn3a_branch1[0][0]               \n",
      "__________________________________________________________________________________________________\n",
      "res3a_relu (Activation)         (None, None, None, 5 0           res3a[0][0]                      \n",
      "__________________________________________________________________________________________________\n",
      "res3b_branch2a (Conv2D)         (None, None, None, 1 65536       res3a_relu[0][0]                 \n",
      "__________________________________________________________________________________________________\n",
      "bn3b_branch2a (BatchNormalizati (None, None, None, 1 512         res3b_branch2a[0][0]             \n",
      "__________________________________________________________________________________________________\n",
      "res3b_branch2a_relu (Activation (None, None, None, 1 0           bn3b_branch2a[0][0]              \n",
      "__________________________________________________________________________________________________\n",
      "padding3b_branch2b (ZeroPadding (None, None, None, 1 0           res3b_branch2a_relu[0][0]        \n",
      "__________________________________________________________________________________________________\n",
      "res3b_branch2b (Conv2D)         (None, None, None, 1 147456      padding3b_branch2b[0][0]         \n",
      "__________________________________________________________________________________________________\n",
      "bn3b_branch2b (BatchNormalizati (None, None, None, 1 512         res3b_branch2b[0][0]             \n",
      "__________________________________________________________________________________________________\n",
      "res3b_branch2b_relu (Activation (None, None, None, 1 0           bn3b_branch2b[0][0]              \n",
      "__________________________________________________________________________________________________\n",
      "res3b_branch2c (Conv2D)         (None, None, None, 5 65536       res3b_branch2b_relu[0][0]        \n",
      "__________________________________________________________________________________________________\n",
      "bn3b_branch2c (BatchNormalizati (None, None, None, 5 2048        res3b_branch2c[0][0]             \n",
      "__________________________________________________________________________________________________\n",
      "res3b (Add)                     (None, None, None, 5 0           bn3b_branch2c[0][0]              \n",
      "                                                                 res3a_relu[0][0]                 \n",
      "__________________________________________________________________________________________________\n",
      "res3b_relu (Activation)         (None, None, None, 5 0           res3b[0][0]                      \n",
      "__________________________________________________________________________________________________\n",
      "res3c_branch2a (Conv2D)         (None, None, None, 1 65536       res3b_relu[0][0]                 \n",
      "__________________________________________________________________________________________________\n",
      "bn3c_branch2a (BatchNormalizati (None, None, None, 1 512         res3c_branch2a[0][0]             \n",
      "__________________________________________________________________________________________________\n",
      "res3c_branch2a_relu (Activation (None, None, None, 1 0           bn3c_branch2a[0][0]              \n",
      "__________________________________________________________________________________________________\n",
      "padding3c_branch2b (ZeroPadding (None, None, None, 1 0           res3c_branch2a_relu[0][0]        \n",
      "__________________________________________________________________________________________________\n",
      "res3c_branch2b (Conv2D)         (None, None, None, 1 147456      padding3c_branch2b[0][0]         \n",
      "__________________________________________________________________________________________________\n",
      "bn3c_branch2b (BatchNormalizati (None, None, None, 1 512         res3c_branch2b[0][0]             \n",
      "__________________________________________________________________________________________________\n",
      "res3c_branch2b_relu (Activation (None, None, None, 1 0           bn3c_branch2b[0][0]              \n",
      "__________________________________________________________________________________________________\n",
      "res3c_branch2c (Conv2D)         (None, None, None, 5 65536       res3c_branch2b_relu[0][0]        \n",
      "__________________________________________________________________________________________________\n",
      "bn3c_branch2c (BatchNormalizati (None, None, None, 5 2048        res3c_branch2c[0][0]             \n",
      "__________________________________________________________________________________________________\n",
      "res3c (Add)                     (None, None, None, 5 0           bn3c_branch2c[0][0]              \n",
      "                                                                 res3b_relu[0][0]                 \n",
      "__________________________________________________________________________________________________\n",
      "res3c_relu (Activation)         (None, None, None, 5 0           res3c[0][0]                      \n",
      "__________________________________________________________________________________________________\n",
      "res3d_branch2a (Conv2D)         (None, None, None, 1 65536       res3c_relu[0][0]                 \n",
      "__________________________________________________________________________________________________\n",
      "bn3d_branch2a (BatchNormalizati (None, None, None, 1 512         res3d_branch2a[0][0]             \n",
      "__________________________________________________________________________________________________\n",
      "res3d_branch2a_relu (Activation (None, None, None, 1 0           bn3d_branch2a[0][0]              \n",
      "__________________________________________________________________________________________________\n",
      "padding3d_branch2b (ZeroPadding (None, None, None, 1 0           res3d_branch2a_relu[0][0]        \n",
      "__________________________________________________________________________________________________\n",
      "res3d_branch2b (Conv2D)         (None, None, None, 1 147456      padding3d_branch2b[0][0]         \n",
      "__________________________________________________________________________________________________\n",
      "bn3d_branch2b (BatchNormalizati (None, None, None, 1 512         res3d_branch2b[0][0]             \n",
      "__________________________________________________________________________________________________\n",
      "res3d_branch2b_relu (Activation (None, None, None, 1 0           bn3d_branch2b[0][0]              \n",
      "__________________________________________________________________________________________________\n",
      "res3d_branch2c (Conv2D)         (None, None, None, 5 65536       res3d_branch2b_relu[0][0]        \n",
      "__________________________________________________________________________________________________\n",
      "bn3d_branch2c (BatchNormalizati (None, None, None, 5 2048        res3d_branch2c[0][0]             \n",
      "__________________________________________________________________________________________________\n",
      "res3d (Add)                     (None, None, None, 5 0           bn3d_branch2c[0][0]              \n",
      "                                                                 res3c_relu[0][0]                 \n",
      "__________________________________________________________________________________________________\n",
      "res3d_relu (Activation)         (None, None, None, 5 0           res3d[0][0]                      \n",
      "__________________________________________________________________________________________________\n",
      "res4a_branch2a (Conv2D)         (None, None, None, 2 131072      res3d_relu[0][0]                 \n",
      "__________________________________________________________________________________________________\n",
      "bn4a_branch2a (BatchNormalizati (None, None, None, 2 1024        res4a_branch2a[0][0]             \n",
      "__________________________________________________________________________________________________\n",
      "res4a_branch2a_relu (Activation (None, None, None, 2 0           bn4a_branch2a[0][0]              \n",
      "__________________________________________________________________________________________________\n",
      "padding4a_branch2b (ZeroPadding (None, None, None, 2 0           res4a_branch2a_relu[0][0]        \n",
      "__________________________________________________________________________________________________\n",
      "res4a_branch2b (Conv2D)         (None, None, None, 2 589824      padding4a_branch2b[0][0]         \n",
      "__________________________________________________________________________________________________\n",
      "bn4a_branch2b (BatchNormalizati (None, None, None, 2 1024        res4a_branch2b[0][0]             \n",
      "__________________________________________________________________________________________________\n",
      "res4a_branch2b_relu (Activation (None, None, None, 2 0           bn4a_branch2b[0][0]              \n",
      "__________________________________________________________________________________________________\n",
      "res4a_branch2c (Conv2D)         (None, None, None, 1 262144      res4a_branch2b_relu[0][0]        \n",
      "__________________________________________________________________________________________________\n",
      "res4a_branch1 (Conv2D)          (None, None, None, 1 524288      res3d_relu[0][0]                 \n",
      "__________________________________________________________________________________________________\n",
      "bn4a_branch2c (BatchNormalizati (None, None, None, 1 4096        res4a_branch2c[0][0]             \n",
      "__________________________________________________________________________________________________\n",
      "bn4a_branch1 (BatchNormalizatio (None, None, None, 1 4096        res4a_branch1[0][0]              \n",
      "__________________________________________________________________________________________________\n",
      "res4a (Add)                     (None, None, None, 1 0           bn4a_branch2c[0][0]              \n",
      "                                                                 bn4a_branch1[0][0]               \n",
      "__________________________________________________________________________________________________\n",
      "res4a_relu (Activation)         (None, None, None, 1 0           res4a[0][0]                      \n",
      "__________________________________________________________________________________________________\n",
      "res4b_branch2a (Conv2D)         (None, None, None, 2 262144      res4a_relu[0][0]                 \n",
      "__________________________________________________________________________________________________\n",
      "bn4b_branch2a (BatchNormalizati (None, None, None, 2 1024        res4b_branch2a[0][0]             \n",
      "__________________________________________________________________________________________________\n",
      "res4b_branch2a_relu (Activation (None, None, None, 2 0           bn4b_branch2a[0][0]              \n",
      "__________________________________________________________________________________________________\n",
      "padding4b_branch2b (ZeroPadding (None, None, None, 2 0           res4b_branch2a_relu[0][0]        \n",
      "__________________________________________________________________________________________________\n",
      "res4b_branch2b (Conv2D)         (None, None, None, 2 589824      padding4b_branch2b[0][0]         \n",
      "__________________________________________________________________________________________________\n",
      "bn4b_branch2b (BatchNormalizati (None, None, None, 2 1024        res4b_branch2b[0][0]             \n",
      "__________________________________________________________________________________________________\n",
      "res4b_branch2b_relu (Activation (None, None, None, 2 0           bn4b_branch2b[0][0]              \n",
      "__________________________________________________________________________________________________\n",
      "res4b_branch2c (Conv2D)         (None, None, None, 1 262144      res4b_branch2b_relu[0][0]        \n",
      "__________________________________________________________________________________________________\n",
      "bn4b_branch2c (BatchNormalizati (None, None, None, 1 4096        res4b_branch2c[0][0]             \n",
      "__________________________________________________________________________________________________\n",
      "res4b (Add)                     (None, None, None, 1 0           bn4b_branch2c[0][0]              \n",
      "                                                                 res4a_relu[0][0]                 \n",
      "__________________________________________________________________________________________________\n",
      "res4b_relu (Activation)         (None, None, None, 1 0           res4b[0][0]                      \n",
      "__________________________________________________________________________________________________\n",
      "res4c_branch2a (Conv2D)         (None, None, None, 2 262144      res4b_relu[0][0]                 \n",
      "__________________________________________________________________________________________________\n",
      "bn4c_branch2a (BatchNormalizati (None, None, None, 2 1024        res4c_branch2a[0][0]             \n",
      "__________________________________________________________________________________________________\n",
      "res4c_branch2a_relu (Activation (None, None, None, 2 0           bn4c_branch2a[0][0]              \n",
      "__________________________________________________________________________________________________\n",
      "padding4c_branch2b (ZeroPadding (None, None, None, 2 0           res4c_branch2a_relu[0][0]        \n",
      "__________________________________________________________________________________________________\n",
      "res4c_branch2b (Conv2D)         (None, None, None, 2 589824      padding4c_branch2b[0][0]         \n",
      "__________________________________________________________________________________________________\n",
      "bn4c_branch2b (BatchNormalizati (None, None, None, 2 1024        res4c_branch2b[0][0]             \n",
      "__________________________________________________________________________________________________\n",
      "res4c_branch2b_relu (Activation (None, None, None, 2 0           bn4c_branch2b[0][0]              \n",
      "__________________________________________________________________________________________________\n",
      "res4c_branch2c (Conv2D)         (None, None, None, 1 262144      res4c_branch2b_relu[0][0]        \n",
      "__________________________________________________________________________________________________\n",
      "bn4c_branch2c (BatchNormalizati (None, None, None, 1 4096        res4c_branch2c[0][0]             \n",
      "__________________________________________________________________________________________________\n",
      "res4c (Add)                     (None, None, None, 1 0           bn4c_branch2c[0][0]              \n",
      "                                                                 res4b_relu[0][0]                 \n",
      "__________________________________________________________________________________________________\n",
      "res4c_relu (Activation)         (None, None, None, 1 0           res4c[0][0]                      \n",
      "__________________________________________________________________________________________________\n",
      "res4d_branch2a (Conv2D)         (None, None, None, 2 262144      res4c_relu[0][0]                 \n",
      "__________________________________________________________________________________________________\n",
      "bn4d_branch2a (BatchNormalizati (None, None, None, 2 1024        res4d_branch2a[0][0]             \n",
      "__________________________________________________________________________________________________\n",
      "res4d_branch2a_relu (Activation (None, None, None, 2 0           bn4d_branch2a[0][0]              \n",
      "__________________________________________________________________________________________________\n",
      "padding4d_branch2b (ZeroPadding (None, None, None, 2 0           res4d_branch2a_relu[0][0]        \n",
      "__________________________________________________________________________________________________\n",
      "res4d_branch2b (Conv2D)         (None, None, None, 2 589824      padding4d_branch2b[0][0]         \n",
      "__________________________________________________________________________________________________\n",
      "bn4d_branch2b (BatchNormalizati (None, None, None, 2 1024        res4d_branch2b[0][0]             \n",
      "__________________________________________________________________________________________________\n",
      "res4d_branch2b_relu (Activation (None, None, None, 2 0           bn4d_branch2b[0][0]              \n",
      "__________________________________________________________________________________________________\n",
      "res4d_branch2c (Conv2D)         (None, None, None, 1 262144      res4d_branch2b_relu[0][0]        \n",
      "__________________________________________________________________________________________________\n",
      "bn4d_branch2c (BatchNormalizati (None, None, None, 1 4096        res4d_branch2c[0][0]             \n",
      "__________________________________________________________________________________________________\n",
      "res4d (Add)                     (None, None, None, 1 0           bn4d_branch2c[0][0]              \n",
      "                                                                 res4c_relu[0][0]                 \n",
      "__________________________________________________________________________________________________\n",
      "res4d_relu (Activation)         (None, None, None, 1 0           res4d[0][0]                      \n",
      "__________________________________________________________________________________________________\n",
      "res4e_branch2a (Conv2D)         (None, None, None, 2 262144      res4d_relu[0][0]                 \n",
      "__________________________________________________________________________________________________\n",
      "bn4e_branch2a (BatchNormalizati (None, None, None, 2 1024        res4e_branch2a[0][0]             \n",
      "__________________________________________________________________________________________________\n",
      "res4e_branch2a_relu (Activation (None, None, None, 2 0           bn4e_branch2a[0][0]              \n",
      "__________________________________________________________________________________________________\n",
      "padding4e_branch2b (ZeroPadding (None, None, None, 2 0           res4e_branch2a_relu[0][0]        \n",
      "__________________________________________________________________________________________________\n",
      "res4e_branch2b (Conv2D)         (None, None, None, 2 589824      padding4e_branch2b[0][0]         \n",
      "__________________________________________________________________________________________________\n",
      "bn4e_branch2b (BatchNormalizati (None, None, None, 2 1024        res4e_branch2b[0][0]             \n",
      "__________________________________________________________________________________________________\n",
      "res4e_branch2b_relu (Activation (None, None, None, 2 0           bn4e_branch2b[0][0]              \n",
      "__________________________________________________________________________________________________\n",
      "res4e_branch2c (Conv2D)         (None, None, None, 1 262144      res4e_branch2b_relu[0][0]        \n",
      "__________________________________________________________________________________________________\n",
      "bn4e_branch2c (BatchNormalizati (None, None, None, 1 4096        res4e_branch2c[0][0]             \n",
      "__________________________________________________________________________________________________\n",
      "res4e (Add)                     (None, None, None, 1 0           bn4e_branch2c[0][0]              \n",
      "                                                                 res4d_relu[0][0]                 \n",
      "__________________________________________________________________________________________________\n",
      "res4e_relu (Activation)         (None, None, None, 1 0           res4e[0][0]                      \n",
      "__________________________________________________________________________________________________\n",
      "res4f_branch2a (Conv2D)         (None, None, None, 2 262144      res4e_relu[0][0]                 \n",
      "__________________________________________________________________________________________________\n",
      "bn4f_branch2a (BatchNormalizati (None, None, None, 2 1024        res4f_branch2a[0][0]             \n",
      "__________________________________________________________________________________________________\n",
      "res4f_branch2a_relu (Activation (None, None, None, 2 0           bn4f_branch2a[0][0]              \n",
      "__________________________________________________________________________________________________\n",
      "padding4f_branch2b (ZeroPadding (None, None, None, 2 0           res4f_branch2a_relu[0][0]        \n",
      "__________________________________________________________________________________________________\n",
      "res4f_branch2b (Conv2D)         (None, None, None, 2 589824      padding4f_branch2b[0][0]         \n",
      "__________________________________________________________________________________________________\n",
      "bn4f_branch2b (BatchNormalizati (None, None, None, 2 1024        res4f_branch2b[0][0]             \n",
      "__________________________________________________________________________________________________\n",
      "res4f_branch2b_relu (Activation (None, None, None, 2 0           bn4f_branch2b[0][0]              \n",
      "__________________________________________________________________________________________________\n",
      "res4f_branch2c (Conv2D)         (None, None, None, 1 262144      res4f_branch2b_relu[0][0]        \n",
      "__________________________________________________________________________________________________\n",
      "bn4f_branch2c (BatchNormalizati (None, None, None, 1 4096        res4f_branch2c[0][0]             \n",
      "__________________________________________________________________________________________________\n",
      "res4f (Add)                     (None, None, None, 1 0           bn4f_branch2c[0][0]              \n",
      "                                                                 res4e_relu[0][0]                 \n",
      "__________________________________________________________________________________________________\n",
      "res4f_relu (Activation)         (None, None, None, 1 0           res4f[0][0]                      \n",
      "__________________________________________________________________________________________________\n",
      "res5a_branch2a (Conv2D)         (None, None, None, 5 524288      res4f_relu[0][0]                 \n",
      "__________________________________________________________________________________________________\n",
      "bn5a_branch2a (BatchNormalizati (None, None, None, 5 2048        res5a_branch2a[0][0]             \n",
      "__________________________________________________________________________________________________\n",
      "res5a_branch2a_relu (Activation (None, None, None, 5 0           bn5a_branch2a[0][0]              \n",
      "__________________________________________________________________________________________________\n",
      "padding5a_branch2b (ZeroPadding (None, None, None, 5 0           res5a_branch2a_relu[0][0]        \n",
      "__________________________________________________________________________________________________\n",
      "res5a_branch2b (Conv2D)         (None, None, None, 5 2359296     padding5a_branch2b[0][0]         \n",
      "__________________________________________________________________________________________________\n",
      "bn5a_branch2b (BatchNormalizati (None, None, None, 5 2048        res5a_branch2b[0][0]             \n",
      "__________________________________________________________________________________________________\n",
      "res5a_branch2b_relu (Activation (None, None, None, 5 0           bn5a_branch2b[0][0]              \n",
      "__________________________________________________________________________________________________\n",
      "res5a_branch2c (Conv2D)         (None, None, None, 2 1048576     res5a_branch2b_relu[0][0]        \n",
      "__________________________________________________________________________________________________\n",
      "res5a_branch1 (Conv2D)          (None, None, None, 2 2097152     res4f_relu[0][0]                 \n",
      "__________________________________________________________________________________________________\n",
      "bn5a_branch2c (BatchNormalizati (None, None, None, 2 8192        res5a_branch2c[0][0]             \n",
      "__________________________________________________________________________________________________\n",
      "bn5a_branch1 (BatchNormalizatio (None, None, None, 2 8192        res5a_branch1[0][0]              \n",
      "__________________________________________________________________________________________________\n",
      "res5a (Add)                     (None, None, None, 2 0           bn5a_branch2c[0][0]              \n",
      "                                                                 bn5a_branch1[0][0]               \n",
      "__________________________________________________________________________________________________\n",
      "res5a_relu (Activation)         (None, None, None, 2 0           res5a[0][0]                      \n",
      "__________________________________________________________________________________________________\n",
      "res5b_branch2a (Conv2D)         (None, None, None, 5 1048576     res5a_relu[0][0]                 \n",
      "__________________________________________________________________________________________________\n",
      "bn5b_branch2a (BatchNormalizati (None, None, None, 5 2048        res5b_branch2a[0][0]             \n",
      "__________________________________________________________________________________________________\n",
      "res5b_branch2a_relu (Activation (None, None, None, 5 0           bn5b_branch2a[0][0]              \n",
      "__________________________________________________________________________________________________\n",
      "padding5b_branch2b (ZeroPadding (None, None, None, 5 0           res5b_branch2a_relu[0][0]        \n",
      "__________________________________________________________________________________________________\n",
      "res5b_branch2b (Conv2D)         (None, None, None, 5 2359296     padding5b_branch2b[0][0]         \n",
      "__________________________________________________________________________________________________\n",
      "bn5b_branch2b (BatchNormalizati (None, None, None, 5 2048        res5b_branch2b[0][0]             \n",
      "__________________________________________________________________________________________________\n",
      "res5b_branch2b_relu (Activation (None, None, None, 5 0           bn5b_branch2b[0][0]              \n",
      "__________________________________________________________________________________________________\n",
      "res5b_branch2c (Conv2D)         (None, None, None, 2 1048576     res5b_branch2b_relu[0][0]        \n",
      "__________________________________________________________________________________________________\n",
      "bn5b_branch2c (BatchNormalizati (None, None, None, 2 8192        res5b_branch2c[0][0]             \n",
      "__________________________________________________________________________________________________\n",
      "res5b (Add)                     (None, None, None, 2 0           bn5b_branch2c[0][0]              \n",
      "                                                                 res5a_relu[0][0]                 \n",
      "__________________________________________________________________________________________________\n",
      "res5b_relu (Activation)         (None, None, None, 2 0           res5b[0][0]                      \n",
      "__________________________________________________________________________________________________\n",
      "res5c_branch2a (Conv2D)         (None, None, None, 5 1048576     res5b_relu[0][0]                 \n",
      "__________________________________________________________________________________________________\n",
      "bn5c_branch2a (BatchNormalizati (None, None, None, 5 2048        res5c_branch2a[0][0]             \n",
      "__________________________________________________________________________________________________\n",
      "res5c_branch2a_relu (Activation (None, None, None, 5 0           bn5c_branch2a[0][0]              \n",
      "__________________________________________________________________________________________________\n",
      "padding5c_branch2b (ZeroPadding (None, None, None, 5 0           res5c_branch2a_relu[0][0]        \n",
      "__________________________________________________________________________________________________\n",
      "res5c_branch2b (Conv2D)         (None, None, None, 5 2359296     padding5c_branch2b[0][0]         \n",
      "__________________________________________________________________________________________________\n",
      "bn5c_branch2b (BatchNormalizati (None, None, None, 5 2048        res5c_branch2b[0][0]             \n",
      "__________________________________________________________________________________________________\n",
      "res5c_branch2b_relu (Activation (None, None, None, 5 0           bn5c_branch2b[0][0]              \n",
      "__________________________________________________________________________________________________\n",
      "res5c_branch2c (Conv2D)         (None, None, None, 2 1048576     res5c_branch2b_relu[0][0]        \n",
      "__________________________________________________________________________________________________\n",
      "bn5c_branch2c (BatchNormalizati (None, None, None, 2 8192        res5c_branch2c[0][0]             \n",
      "__________________________________________________________________________________________________\n",
      "res5c (Add)                     (None, None, None, 2 0           bn5c_branch2c[0][0]              \n",
      "                                                                 res5b_relu[0][0]                 \n",
      "__________________________________________________________________________________________________\n",
      "res5c_relu (Activation)         (None, None, None, 2 0           res5c[0][0]                      \n",
      "__________________________________________________________________________________________________\n",
      "C5_reduced (Conv2D)             (None, None, None, 2 524544      res5c_relu[0][0]                 \n",
      "__________________________________________________________________________________________________\n",
      "P5_upsampled (UpsampleLike)     (None, None, None, 2 0           C5_reduced[0][0]                 \n",
      "                                                                 res4f_relu[0][0]                 \n",
      "__________________________________________________________________________________________________\n",
      "C4_reduced (Conv2D)             (None, None, None, 2 262400      res4f_relu[0][0]                 \n",
      "__________________________________________________________________________________________________\n",
      "P4_merged (Add)                 (None, None, None, 2 0           P5_upsampled[0][0]               \n",
      "                                                                 C4_reduced[0][0]                 \n",
      "__________________________________________________________________________________________________\n",
      "P4_upsampled (UpsampleLike)     (None, None, None, 2 0           P4_merged[0][0]                  \n",
      "                                                                 res3d_relu[0][0]                 \n",
      "__________________________________________________________________________________________________\n",
      "C3_reduced (Conv2D)             (None, None, None, 2 131328      res3d_relu[0][0]                 \n",
      "__________________________________________________________________________________________________\n",
      "P6 (Conv2D)                     (None, None, None, 2 4718848     res5c_relu[0][0]                 \n",
      "__________________________________________________________________________________________________\n",
      "P3_merged (Add)                 (None, None, None, 2 0           P4_upsampled[0][0]               \n",
      "                                                                 C3_reduced[0][0]                 \n",
      "__________________________________________________________________________________________________\n",
      "C6_relu (Activation)            (None, None, None, 2 0           P6[0][0]                         \n",
      "__________________________________________________________________________________________________\n",
      "P3 (Conv2D)                     (None, None, None, 2 590080      P3_merged[0][0]                  \n",
      "__________________________________________________________________________________________________\n",
      "P4 (Conv2D)                     (None, None, None, 2 590080      P4_merged[0][0]                  \n",
      "__________________________________________________________________________________________________\n",
      "P5 (Conv2D)                     (None, None, None, 2 590080      C5_reduced[0][0]                 \n",
      "__________________________________________________________________________________________________\n",
      "P7 (Conv2D)                     (None, None, None, 2 590080      C6_relu[0][0]                    \n",
      "__________________________________________________________________________________________________\n",
      "anchors_0 (Anchors)             (None, None, 4)      0           P3[0][0]                         \n",
      "__________________________________________________________________________________________________\n",
      "anchors_1 (Anchors)             (None, None, 4)      0           P4[0][0]                         \n",
      "__________________________________________________________________________________________________\n",
      "anchors_2 (Anchors)             (None, None, 4)      0           P5[0][0]                         \n",
      "__________________________________________________________________________________________________\n",
      "anchors_3 (Anchors)             (None, None, 4)      0           P6[0][0]                         \n",
      "__________________________________________________________________________________________________\n",
      "anchors_4 (Anchors)             (None, None, 4)      0           P7[0][0]                         \n",
      "__________________________________________________________________________________________________\n",
      "regression_submodel (Functional (None, None, 4)      2443300     P3[0][0]                         \n",
      "                                                                 P4[0][0]                         \n",
      "                                                                 P5[0][0]                         \n",
      "                                                                 P6[0][0]                         \n",
      "                                                                 P7[0][0]                         \n",
      "__________________________________________________________________________________________________\n",
      "anchors (Concatenate)           (None, None, 4)      0           anchors_0[0][0]                  \n",
      "                                                                 anchors_1[0][0]                  \n",
      "                                                                 anchors_2[0][0]                  \n",
      "                                                                 anchors_3[0][0]                  \n",
      "                                                                 anchors_4[0][0]                  \n",
      "__________________________________________________________________________________________________\n",
      "regression (Concatenate)        (None, None, 4)      0           regression_submodel[0][0]        \n",
      "                                                                 regression_submodel[1][0]        \n",
      "                                                                 regression_submodel[2][0]        \n",
      "                                                                 regression_submodel[3][0]        \n",
      "                                                                 regression_submodel[4][0]        \n",
      "__________________________________________________________________________________________________\n",
      "boxes (RegressBoxes)            (None, None, 4)      0           anchors[0][0]                    \n",
      "                                                                 regression[0][0]                 \n",
      "__________________________________________________________________________________________________\n",
      "classification_submodel (Functi (None, None, 1)      2381065     P3[0][0]                         \n",
      "                                                                 P4[0][0]                         \n",
      "                                                                 P5[0][0]                         \n",
      "                                                                 P6[0][0]                         \n",
      "                                                                 P7[0][0]                         \n",
      "__________________________________________________________________________________________________\n",
      "clipped_boxes (ClipBoxes)       (None, None, 4)      0           input_1[0][0]                    \n",
      "                                                                 boxes[0][0]                      \n",
      "__________________________________________________________________________________________________\n",
      "classification (Concatenate)    (None, None, 1)      0           classification_submodel[0][0]    \n",
      "                                                                 classification_submodel[1][0]    \n",
      "                                                                 classification_submodel[2][0]    \n",
      "                                                                 classification_submodel[3][0]    \n",
      "                                                                 classification_submodel[4][0]    \n",
      "__________________________________________________________________________________________________\n",
      "filtered_detections (FilterDete [(None, 300, 4), (No 0           clipped_boxes[0][0]              \n",
      "                                                                 classification[0][0]             \n",
      "==================================================================================================\n",
      "Total params: 36,382,957\n",
      "Trainable params: 12,821,805\n",
      "Non-trainable params: 23,561,152\n",
      "__________________________________________________________________________________________________\n"
     ]
    }
   ],
   "source": [
    "prediction_model.summary()"
   ]
  },
  {
   "cell_type": "code",
   "execution_count": 11,
   "id": "5a2f3166-c5ce-45a6-bf30-7c27858c1673",
   "metadata": {
    "tags": []
   },
   "outputs": [
    {
     "name": "stdout",
     "output_type": "stream",
     "text": [
      "Model: \"retinanet\"\n",
      "__________________________________________________________________________________________________\n",
      "Layer (type)                    Output Shape         Param #     Connected to                     \n",
      "==================================================================================================\n",
      "input_1 (InputLayer)            [(None, None, None,  0                                            \n",
      "__________________________________________________________________________________________________\n",
      "conv1 (Conv2D)                  (None, None, None, 6 9408        input_1[0][0]                    \n",
      "__________________________________________________________________________________________________\n",
      "bn_conv1 (BatchNormalization)   (None, None, None, 6 256         conv1[0][0]                      \n",
      "__________________________________________________________________________________________________\n",
      "conv1_relu (Activation)         (None, None, None, 6 0           bn_conv1[0][0]                   \n",
      "__________________________________________________________________________________________________\n",
      "pool1 (MaxPooling2D)            (None, None, None, 6 0           conv1_relu[0][0]                 \n",
      "__________________________________________________________________________________________________\n",
      "res2a_branch2a (Conv2D)         (None, None, None, 6 4096        pool1[0][0]                      \n",
      "__________________________________________________________________________________________________\n",
      "bn2a_branch2a (BatchNormalizati (None, None, None, 6 256         res2a_branch2a[0][0]             \n",
      "__________________________________________________________________________________________________\n",
      "res2a_branch2a_relu (Activation (None, None, None, 6 0           bn2a_branch2a[0][0]              \n",
      "__________________________________________________________________________________________________\n",
      "padding2a_branch2b (ZeroPadding (None, None, None, 6 0           res2a_branch2a_relu[0][0]        \n",
      "__________________________________________________________________________________________________\n",
      "res2a_branch2b (Conv2D)         (None, None, None, 6 36864       padding2a_branch2b[0][0]         \n",
      "__________________________________________________________________________________________________\n",
      "bn2a_branch2b (BatchNormalizati (None, None, None, 6 256         res2a_branch2b[0][0]             \n",
      "__________________________________________________________________________________________________\n",
      "res2a_branch2b_relu (Activation (None, None, None, 6 0           bn2a_branch2b[0][0]              \n",
      "__________________________________________________________________________________________________\n",
      "res2a_branch2c (Conv2D)         (None, None, None, 2 16384       res2a_branch2b_relu[0][0]        \n",
      "__________________________________________________________________________________________________\n",
      "res2a_branch1 (Conv2D)          (None, None, None, 2 16384       pool1[0][0]                      \n",
      "__________________________________________________________________________________________________\n",
      "bn2a_branch2c (BatchNormalizati (None, None, None, 2 1024        res2a_branch2c[0][0]             \n",
      "__________________________________________________________________________________________________\n",
      "bn2a_branch1 (BatchNormalizatio (None, None, None, 2 1024        res2a_branch1[0][0]              \n",
      "__________________________________________________________________________________________________\n",
      "res2a (Add)                     (None, None, None, 2 0           bn2a_branch2c[0][0]              \n",
      "                                                                 bn2a_branch1[0][0]               \n",
      "__________________________________________________________________________________________________\n",
      "res2a_relu (Activation)         (None, None, None, 2 0           res2a[0][0]                      \n",
      "__________________________________________________________________________________________________\n",
      "res2b_branch2a (Conv2D)         (None, None, None, 6 16384       res2a_relu[0][0]                 \n",
      "__________________________________________________________________________________________________\n",
      "bn2b_branch2a (BatchNormalizati (None, None, None, 6 256         res2b_branch2a[0][0]             \n",
      "__________________________________________________________________________________________________\n",
      "res2b_branch2a_relu (Activation (None, None, None, 6 0           bn2b_branch2a[0][0]              \n",
      "__________________________________________________________________________________________________\n",
      "padding2b_branch2b (ZeroPadding (None, None, None, 6 0           res2b_branch2a_relu[0][0]        \n",
      "__________________________________________________________________________________________________\n",
      "res2b_branch2b (Conv2D)         (None, None, None, 6 36864       padding2b_branch2b[0][0]         \n",
      "__________________________________________________________________________________________________\n",
      "bn2b_branch2b (BatchNormalizati (None, None, None, 6 256         res2b_branch2b[0][0]             \n",
      "__________________________________________________________________________________________________\n",
      "res2b_branch2b_relu (Activation (None, None, None, 6 0           bn2b_branch2b[0][0]              \n",
      "__________________________________________________________________________________________________\n",
      "res2b_branch2c (Conv2D)         (None, None, None, 2 16384       res2b_branch2b_relu[0][0]        \n",
      "__________________________________________________________________________________________________\n",
      "bn2b_branch2c (BatchNormalizati (None, None, None, 2 1024        res2b_branch2c[0][0]             \n",
      "__________________________________________________________________________________________________\n",
      "res2b (Add)                     (None, None, None, 2 0           bn2b_branch2c[0][0]              \n",
      "                                                                 res2a_relu[0][0]                 \n",
      "__________________________________________________________________________________________________\n",
      "res2b_relu (Activation)         (None, None, None, 2 0           res2b[0][0]                      \n",
      "__________________________________________________________________________________________________\n",
      "res2c_branch2a (Conv2D)         (None, None, None, 6 16384       res2b_relu[0][0]                 \n",
      "__________________________________________________________________________________________________\n",
      "bn2c_branch2a (BatchNormalizati (None, None, None, 6 256         res2c_branch2a[0][0]             \n",
      "__________________________________________________________________________________________________\n",
      "res2c_branch2a_relu (Activation (None, None, None, 6 0           bn2c_branch2a[0][0]              \n",
      "__________________________________________________________________________________________________\n",
      "padding2c_branch2b (ZeroPadding (None, None, None, 6 0           res2c_branch2a_relu[0][0]        \n",
      "__________________________________________________________________________________________________\n",
      "res2c_branch2b (Conv2D)         (None, None, None, 6 36864       padding2c_branch2b[0][0]         \n",
      "__________________________________________________________________________________________________\n",
      "bn2c_branch2b (BatchNormalizati (None, None, None, 6 256         res2c_branch2b[0][0]             \n",
      "__________________________________________________________________________________________________\n",
      "res2c_branch2b_relu (Activation (None, None, None, 6 0           bn2c_branch2b[0][0]              \n",
      "__________________________________________________________________________________________________\n",
      "res2c_branch2c (Conv2D)         (None, None, None, 2 16384       res2c_branch2b_relu[0][0]        \n",
      "__________________________________________________________________________________________________\n",
      "bn2c_branch2c (BatchNormalizati (None, None, None, 2 1024        res2c_branch2c[0][0]             \n",
      "__________________________________________________________________________________________________\n",
      "res2c (Add)                     (None, None, None, 2 0           bn2c_branch2c[0][0]              \n",
      "                                                                 res2b_relu[0][0]                 \n",
      "__________________________________________________________________________________________________\n",
      "res2c_relu (Activation)         (None, None, None, 2 0           res2c[0][0]                      \n",
      "__________________________________________________________________________________________________\n",
      "res3a_branch2a (Conv2D)         (None, None, None, 1 32768       res2c_relu[0][0]                 \n",
      "__________________________________________________________________________________________________\n",
      "bn3a_branch2a (BatchNormalizati (None, None, None, 1 512         res3a_branch2a[0][0]             \n",
      "__________________________________________________________________________________________________\n",
      "res3a_branch2a_relu (Activation (None, None, None, 1 0           bn3a_branch2a[0][0]              \n",
      "__________________________________________________________________________________________________\n",
      "padding3a_branch2b (ZeroPadding (None, None, None, 1 0           res3a_branch2a_relu[0][0]        \n",
      "__________________________________________________________________________________________________\n",
      "res3a_branch2b (Conv2D)         (None, None, None, 1 147456      padding3a_branch2b[0][0]         \n",
      "__________________________________________________________________________________________________\n",
      "bn3a_branch2b (BatchNormalizati (None, None, None, 1 512         res3a_branch2b[0][0]             \n",
      "__________________________________________________________________________________________________\n",
      "res3a_branch2b_relu (Activation (None, None, None, 1 0           bn3a_branch2b[0][0]              \n",
      "__________________________________________________________________________________________________\n",
      "res3a_branch2c (Conv2D)         (None, None, None, 5 65536       res3a_branch2b_relu[0][0]        \n",
      "__________________________________________________________________________________________________\n",
      "res3a_branch1 (Conv2D)          (None, None, None, 5 131072      res2c_relu[0][0]                 \n",
      "__________________________________________________________________________________________________\n",
      "bn3a_branch2c (BatchNormalizati (None, None, None, 5 2048        res3a_branch2c[0][0]             \n",
      "__________________________________________________________________________________________________\n",
      "bn3a_branch1 (BatchNormalizatio (None, None, None, 5 2048        res3a_branch1[0][0]              \n",
      "__________________________________________________________________________________________________\n",
      "res3a (Add)                     (None, None, None, 5 0           bn3a_branch2c[0][0]              \n",
      "                                                                 bn3a_branch1[0][0]               \n",
      "__________________________________________________________________________________________________\n",
      "res3a_relu (Activation)         (None, None, None, 5 0           res3a[0][0]                      \n",
      "__________________________________________________________________________________________________\n",
      "res3b_branch2a (Conv2D)         (None, None, None, 1 65536       res3a_relu[0][0]                 \n",
      "__________________________________________________________________________________________________\n",
      "bn3b_branch2a (BatchNormalizati (None, None, None, 1 512         res3b_branch2a[0][0]             \n",
      "__________________________________________________________________________________________________\n",
      "res3b_branch2a_relu (Activation (None, None, None, 1 0           bn3b_branch2a[0][0]              \n",
      "__________________________________________________________________________________________________\n",
      "padding3b_branch2b (ZeroPadding (None, None, None, 1 0           res3b_branch2a_relu[0][0]        \n",
      "__________________________________________________________________________________________________\n",
      "res3b_branch2b (Conv2D)         (None, None, None, 1 147456      padding3b_branch2b[0][0]         \n",
      "__________________________________________________________________________________________________\n",
      "bn3b_branch2b (BatchNormalizati (None, None, None, 1 512         res3b_branch2b[0][0]             \n",
      "__________________________________________________________________________________________________\n",
      "res3b_branch2b_relu (Activation (None, None, None, 1 0           bn3b_branch2b[0][0]              \n",
      "__________________________________________________________________________________________________\n",
      "res3b_branch2c (Conv2D)         (None, None, None, 5 65536       res3b_branch2b_relu[0][0]        \n",
      "__________________________________________________________________________________________________\n",
      "bn3b_branch2c (BatchNormalizati (None, None, None, 5 2048        res3b_branch2c[0][0]             \n",
      "__________________________________________________________________________________________________\n",
      "res3b (Add)                     (None, None, None, 5 0           bn3b_branch2c[0][0]              \n",
      "                                                                 res3a_relu[0][0]                 \n",
      "__________________________________________________________________________________________________\n",
      "res3b_relu (Activation)         (None, None, None, 5 0           res3b[0][0]                      \n",
      "__________________________________________________________________________________________________\n",
      "res3c_branch2a (Conv2D)         (None, None, None, 1 65536       res3b_relu[0][0]                 \n",
      "__________________________________________________________________________________________________\n",
      "bn3c_branch2a (BatchNormalizati (None, None, None, 1 512         res3c_branch2a[0][0]             \n",
      "__________________________________________________________________________________________________\n",
      "res3c_branch2a_relu (Activation (None, None, None, 1 0           bn3c_branch2a[0][0]              \n",
      "__________________________________________________________________________________________________\n",
      "padding3c_branch2b (ZeroPadding (None, None, None, 1 0           res3c_branch2a_relu[0][0]        \n",
      "__________________________________________________________________________________________________\n",
      "res3c_branch2b (Conv2D)         (None, None, None, 1 147456      padding3c_branch2b[0][0]         \n",
      "__________________________________________________________________________________________________\n",
      "bn3c_branch2b (BatchNormalizati (None, None, None, 1 512         res3c_branch2b[0][0]             \n",
      "__________________________________________________________________________________________________\n",
      "res3c_branch2b_relu (Activation (None, None, None, 1 0           bn3c_branch2b[0][0]              \n",
      "__________________________________________________________________________________________________\n",
      "res3c_branch2c (Conv2D)         (None, None, None, 5 65536       res3c_branch2b_relu[0][0]        \n",
      "__________________________________________________________________________________________________\n",
      "bn3c_branch2c (BatchNormalizati (None, None, None, 5 2048        res3c_branch2c[0][0]             \n",
      "__________________________________________________________________________________________________\n",
      "res3c (Add)                     (None, None, None, 5 0           bn3c_branch2c[0][0]              \n",
      "                                                                 res3b_relu[0][0]                 \n",
      "__________________________________________________________________________________________________\n",
      "res3c_relu (Activation)         (None, None, None, 5 0           res3c[0][0]                      \n",
      "__________________________________________________________________________________________________\n",
      "res3d_branch2a (Conv2D)         (None, None, None, 1 65536       res3c_relu[0][0]                 \n",
      "__________________________________________________________________________________________________\n",
      "bn3d_branch2a (BatchNormalizati (None, None, None, 1 512         res3d_branch2a[0][0]             \n",
      "__________________________________________________________________________________________________\n",
      "res3d_branch2a_relu (Activation (None, None, None, 1 0           bn3d_branch2a[0][0]              \n",
      "__________________________________________________________________________________________________\n",
      "padding3d_branch2b (ZeroPadding (None, None, None, 1 0           res3d_branch2a_relu[0][0]        \n",
      "__________________________________________________________________________________________________\n",
      "res3d_branch2b (Conv2D)         (None, None, None, 1 147456      padding3d_branch2b[0][0]         \n",
      "__________________________________________________________________________________________________\n",
      "bn3d_branch2b (BatchNormalizati (None, None, None, 1 512         res3d_branch2b[0][0]             \n",
      "__________________________________________________________________________________________________\n",
      "res3d_branch2b_relu (Activation (None, None, None, 1 0           bn3d_branch2b[0][0]              \n",
      "__________________________________________________________________________________________________\n",
      "res3d_branch2c (Conv2D)         (None, None, None, 5 65536       res3d_branch2b_relu[0][0]        \n",
      "__________________________________________________________________________________________________\n",
      "bn3d_branch2c (BatchNormalizati (None, None, None, 5 2048        res3d_branch2c[0][0]             \n",
      "__________________________________________________________________________________________________\n",
      "res3d (Add)                     (None, None, None, 5 0           bn3d_branch2c[0][0]              \n",
      "                                                                 res3c_relu[0][0]                 \n",
      "__________________________________________________________________________________________________\n",
      "res3d_relu (Activation)         (None, None, None, 5 0           res3d[0][0]                      \n",
      "__________________________________________________________________________________________________\n",
      "res4a_branch2a (Conv2D)         (None, None, None, 2 131072      res3d_relu[0][0]                 \n",
      "__________________________________________________________________________________________________\n",
      "bn4a_branch2a (BatchNormalizati (None, None, None, 2 1024        res4a_branch2a[0][0]             \n",
      "__________________________________________________________________________________________________\n",
      "res4a_branch2a_relu (Activation (None, None, None, 2 0           bn4a_branch2a[0][0]              \n",
      "__________________________________________________________________________________________________\n",
      "padding4a_branch2b (ZeroPadding (None, None, None, 2 0           res4a_branch2a_relu[0][0]        \n",
      "__________________________________________________________________________________________________\n",
      "res4a_branch2b (Conv2D)         (None, None, None, 2 589824      padding4a_branch2b[0][0]         \n",
      "__________________________________________________________________________________________________\n",
      "bn4a_branch2b (BatchNormalizati (None, None, None, 2 1024        res4a_branch2b[0][0]             \n",
      "__________________________________________________________________________________________________\n",
      "res4a_branch2b_relu (Activation (None, None, None, 2 0           bn4a_branch2b[0][0]              \n",
      "__________________________________________________________________________________________________\n",
      "res4a_branch2c (Conv2D)         (None, None, None, 1 262144      res4a_branch2b_relu[0][0]        \n",
      "__________________________________________________________________________________________________\n",
      "res4a_branch1 (Conv2D)          (None, None, None, 1 524288      res3d_relu[0][0]                 \n",
      "__________________________________________________________________________________________________\n",
      "bn4a_branch2c (BatchNormalizati (None, None, None, 1 4096        res4a_branch2c[0][0]             \n",
      "__________________________________________________________________________________________________\n",
      "bn4a_branch1 (BatchNormalizatio (None, None, None, 1 4096        res4a_branch1[0][0]              \n",
      "__________________________________________________________________________________________________\n",
      "res4a (Add)                     (None, None, None, 1 0           bn4a_branch2c[0][0]              \n",
      "                                                                 bn4a_branch1[0][0]               \n",
      "__________________________________________________________________________________________________\n",
      "res4a_relu (Activation)         (None, None, None, 1 0           res4a[0][0]                      \n",
      "__________________________________________________________________________________________________\n",
      "res4b_branch2a (Conv2D)         (None, None, None, 2 262144      res4a_relu[0][0]                 \n",
      "__________________________________________________________________________________________________\n",
      "bn4b_branch2a (BatchNormalizati (None, None, None, 2 1024        res4b_branch2a[0][0]             \n",
      "__________________________________________________________________________________________________\n",
      "res4b_branch2a_relu (Activation (None, None, None, 2 0           bn4b_branch2a[0][0]              \n",
      "__________________________________________________________________________________________________\n",
      "padding4b_branch2b (ZeroPadding (None, None, None, 2 0           res4b_branch2a_relu[0][0]        \n",
      "__________________________________________________________________________________________________\n",
      "res4b_branch2b (Conv2D)         (None, None, None, 2 589824      padding4b_branch2b[0][0]         \n",
      "__________________________________________________________________________________________________\n",
      "bn4b_branch2b (BatchNormalizati (None, None, None, 2 1024        res4b_branch2b[0][0]             \n",
      "__________________________________________________________________________________________________\n",
      "res4b_branch2b_relu (Activation (None, None, None, 2 0           bn4b_branch2b[0][0]              \n",
      "__________________________________________________________________________________________________\n",
      "res4b_branch2c (Conv2D)         (None, None, None, 1 262144      res4b_branch2b_relu[0][0]        \n",
      "__________________________________________________________________________________________________\n",
      "bn4b_branch2c (BatchNormalizati (None, None, None, 1 4096        res4b_branch2c[0][0]             \n",
      "__________________________________________________________________________________________________\n",
      "res4b (Add)                     (None, None, None, 1 0           bn4b_branch2c[0][0]              \n",
      "                                                                 res4a_relu[0][0]                 \n",
      "__________________________________________________________________________________________________\n",
      "res4b_relu (Activation)         (None, None, None, 1 0           res4b[0][0]                      \n",
      "__________________________________________________________________________________________________\n",
      "res4c_branch2a (Conv2D)         (None, None, None, 2 262144      res4b_relu[0][0]                 \n",
      "__________________________________________________________________________________________________\n",
      "bn4c_branch2a (BatchNormalizati (None, None, None, 2 1024        res4c_branch2a[0][0]             \n",
      "__________________________________________________________________________________________________\n",
      "res4c_branch2a_relu (Activation (None, None, None, 2 0           bn4c_branch2a[0][0]              \n",
      "__________________________________________________________________________________________________\n",
      "padding4c_branch2b (ZeroPadding (None, None, None, 2 0           res4c_branch2a_relu[0][0]        \n",
      "__________________________________________________________________________________________________\n",
      "res4c_branch2b (Conv2D)         (None, None, None, 2 589824      padding4c_branch2b[0][0]         \n",
      "__________________________________________________________________________________________________\n",
      "bn4c_branch2b (BatchNormalizati (None, None, None, 2 1024        res4c_branch2b[0][0]             \n",
      "__________________________________________________________________________________________________\n",
      "res4c_branch2b_relu (Activation (None, None, None, 2 0           bn4c_branch2b[0][0]              \n",
      "__________________________________________________________________________________________________\n",
      "res4c_branch2c (Conv2D)         (None, None, None, 1 262144      res4c_branch2b_relu[0][0]        \n",
      "__________________________________________________________________________________________________\n",
      "bn4c_branch2c (BatchNormalizati (None, None, None, 1 4096        res4c_branch2c[0][0]             \n",
      "__________________________________________________________________________________________________\n",
      "res4c (Add)                     (None, None, None, 1 0           bn4c_branch2c[0][0]              \n",
      "                                                                 res4b_relu[0][0]                 \n",
      "__________________________________________________________________________________________________\n",
      "res4c_relu (Activation)         (None, None, None, 1 0           res4c[0][0]                      \n",
      "__________________________________________________________________________________________________\n",
      "res4d_branch2a (Conv2D)         (None, None, None, 2 262144      res4c_relu[0][0]                 \n",
      "__________________________________________________________________________________________________\n",
      "bn4d_branch2a (BatchNormalizati (None, None, None, 2 1024        res4d_branch2a[0][0]             \n",
      "__________________________________________________________________________________________________\n",
      "res4d_branch2a_relu (Activation (None, None, None, 2 0           bn4d_branch2a[0][0]              \n",
      "__________________________________________________________________________________________________\n",
      "padding4d_branch2b (ZeroPadding (None, None, None, 2 0           res4d_branch2a_relu[0][0]        \n",
      "__________________________________________________________________________________________________\n",
      "res4d_branch2b (Conv2D)         (None, None, None, 2 589824      padding4d_branch2b[0][0]         \n",
      "__________________________________________________________________________________________________\n",
      "bn4d_branch2b (BatchNormalizati (None, None, None, 2 1024        res4d_branch2b[0][0]             \n",
      "__________________________________________________________________________________________________\n",
      "res4d_branch2b_relu (Activation (None, None, None, 2 0           bn4d_branch2b[0][0]              \n",
      "__________________________________________________________________________________________________\n",
      "res4d_branch2c (Conv2D)         (None, None, None, 1 262144      res4d_branch2b_relu[0][0]        \n",
      "__________________________________________________________________________________________________\n",
      "bn4d_branch2c (BatchNormalizati (None, None, None, 1 4096        res4d_branch2c[0][0]             \n",
      "__________________________________________________________________________________________________\n",
      "res4d (Add)                     (None, None, None, 1 0           bn4d_branch2c[0][0]              \n",
      "                                                                 res4c_relu[0][0]                 \n",
      "__________________________________________________________________________________________________\n",
      "res4d_relu (Activation)         (None, None, None, 1 0           res4d[0][0]                      \n",
      "__________________________________________________________________________________________________\n",
      "res4e_branch2a (Conv2D)         (None, None, None, 2 262144      res4d_relu[0][0]                 \n",
      "__________________________________________________________________________________________________\n",
      "bn4e_branch2a (BatchNormalizati (None, None, None, 2 1024        res4e_branch2a[0][0]             \n",
      "__________________________________________________________________________________________________\n",
      "res4e_branch2a_relu (Activation (None, None, None, 2 0           bn4e_branch2a[0][0]              \n",
      "__________________________________________________________________________________________________\n",
      "padding4e_branch2b (ZeroPadding (None, None, None, 2 0           res4e_branch2a_relu[0][0]        \n",
      "__________________________________________________________________________________________________\n",
      "res4e_branch2b (Conv2D)         (None, None, None, 2 589824      padding4e_branch2b[0][0]         \n",
      "__________________________________________________________________________________________________\n",
      "bn4e_branch2b (BatchNormalizati (None, None, None, 2 1024        res4e_branch2b[0][0]             \n",
      "__________________________________________________________________________________________________\n",
      "res4e_branch2b_relu (Activation (None, None, None, 2 0           bn4e_branch2b[0][0]              \n",
      "__________________________________________________________________________________________________\n",
      "res4e_branch2c (Conv2D)         (None, None, None, 1 262144      res4e_branch2b_relu[0][0]        \n",
      "__________________________________________________________________________________________________\n",
      "bn4e_branch2c (BatchNormalizati (None, None, None, 1 4096        res4e_branch2c[0][0]             \n",
      "__________________________________________________________________________________________________\n",
      "res4e (Add)                     (None, None, None, 1 0           bn4e_branch2c[0][0]              \n",
      "                                                                 res4d_relu[0][0]                 \n",
      "__________________________________________________________________________________________________\n",
      "res4e_relu (Activation)         (None, None, None, 1 0           res4e[0][0]                      \n",
      "__________________________________________________________________________________________________\n",
      "res4f_branch2a (Conv2D)         (None, None, None, 2 262144      res4e_relu[0][0]                 \n",
      "__________________________________________________________________________________________________\n",
      "bn4f_branch2a (BatchNormalizati (None, None, None, 2 1024        res4f_branch2a[0][0]             \n",
      "__________________________________________________________________________________________________\n",
      "res4f_branch2a_relu (Activation (None, None, None, 2 0           bn4f_branch2a[0][0]              \n",
      "__________________________________________________________________________________________________\n",
      "padding4f_branch2b (ZeroPadding (None, None, None, 2 0           res4f_branch2a_relu[0][0]        \n",
      "__________________________________________________________________________________________________\n",
      "res4f_branch2b (Conv2D)         (None, None, None, 2 589824      padding4f_branch2b[0][0]         \n",
      "__________________________________________________________________________________________________\n",
      "bn4f_branch2b (BatchNormalizati (None, None, None, 2 1024        res4f_branch2b[0][0]             \n",
      "__________________________________________________________________________________________________\n",
      "res4f_branch2b_relu (Activation (None, None, None, 2 0           bn4f_branch2b[0][0]              \n",
      "__________________________________________________________________________________________________\n",
      "res4f_branch2c (Conv2D)         (None, None, None, 1 262144      res4f_branch2b_relu[0][0]        \n",
      "__________________________________________________________________________________________________\n",
      "bn4f_branch2c (BatchNormalizati (None, None, None, 1 4096        res4f_branch2c[0][0]             \n",
      "__________________________________________________________________________________________________\n",
      "res4f (Add)                     (None, None, None, 1 0           bn4f_branch2c[0][0]              \n",
      "                                                                 res4e_relu[0][0]                 \n",
      "__________________________________________________________________________________________________\n",
      "res4f_relu (Activation)         (None, None, None, 1 0           res4f[0][0]                      \n",
      "__________________________________________________________________________________________________\n",
      "res5a_branch2a (Conv2D)         (None, None, None, 5 524288      res4f_relu[0][0]                 \n",
      "__________________________________________________________________________________________________\n",
      "bn5a_branch2a (BatchNormalizati (None, None, None, 5 2048        res5a_branch2a[0][0]             \n",
      "__________________________________________________________________________________________________\n",
      "res5a_branch2a_relu (Activation (None, None, None, 5 0           bn5a_branch2a[0][0]              \n",
      "__________________________________________________________________________________________________\n",
      "padding5a_branch2b (ZeroPadding (None, None, None, 5 0           res5a_branch2a_relu[0][0]        \n",
      "__________________________________________________________________________________________________\n",
      "res5a_branch2b (Conv2D)         (None, None, None, 5 2359296     padding5a_branch2b[0][0]         \n",
      "__________________________________________________________________________________________________\n",
      "bn5a_branch2b (BatchNormalizati (None, None, None, 5 2048        res5a_branch2b[0][0]             \n",
      "__________________________________________________________________________________________________\n",
      "res5a_branch2b_relu (Activation (None, None, None, 5 0           bn5a_branch2b[0][0]              \n",
      "__________________________________________________________________________________________________\n",
      "res5a_branch2c (Conv2D)         (None, None, None, 2 1048576     res5a_branch2b_relu[0][0]        \n",
      "__________________________________________________________________________________________________\n",
      "res5a_branch1 (Conv2D)          (None, None, None, 2 2097152     res4f_relu[0][0]                 \n",
      "__________________________________________________________________________________________________\n",
      "bn5a_branch2c (BatchNormalizati (None, None, None, 2 8192        res5a_branch2c[0][0]             \n",
      "__________________________________________________________________________________________________\n",
      "bn5a_branch1 (BatchNormalizatio (None, None, None, 2 8192        res5a_branch1[0][0]              \n",
      "__________________________________________________________________________________________________\n",
      "res5a (Add)                     (None, None, None, 2 0           bn5a_branch2c[0][0]              \n",
      "                                                                 bn5a_branch1[0][0]               \n",
      "__________________________________________________________________________________________________\n",
      "res5a_relu (Activation)         (None, None, None, 2 0           res5a[0][0]                      \n",
      "__________________________________________________________________________________________________\n",
      "res5b_branch2a (Conv2D)         (None, None, None, 5 1048576     res5a_relu[0][0]                 \n",
      "__________________________________________________________________________________________________\n",
      "bn5b_branch2a (BatchNormalizati (None, None, None, 5 2048        res5b_branch2a[0][0]             \n",
      "__________________________________________________________________________________________________\n",
      "res5b_branch2a_relu (Activation (None, None, None, 5 0           bn5b_branch2a[0][0]              \n",
      "__________________________________________________________________________________________________\n",
      "padding5b_branch2b (ZeroPadding (None, None, None, 5 0           res5b_branch2a_relu[0][0]        \n",
      "__________________________________________________________________________________________________\n",
      "res5b_branch2b (Conv2D)         (None, None, None, 5 2359296     padding5b_branch2b[0][0]         \n",
      "__________________________________________________________________________________________________\n",
      "bn5b_branch2b (BatchNormalizati (None, None, None, 5 2048        res5b_branch2b[0][0]             \n",
      "__________________________________________________________________________________________________\n",
      "res5b_branch2b_relu (Activation (None, None, None, 5 0           bn5b_branch2b[0][0]              \n",
      "__________________________________________________________________________________________________\n",
      "res5b_branch2c (Conv2D)         (None, None, None, 2 1048576     res5b_branch2b_relu[0][0]        \n",
      "__________________________________________________________________________________________________\n",
      "bn5b_branch2c (BatchNormalizati (None, None, None, 2 8192        res5b_branch2c[0][0]             \n",
      "__________________________________________________________________________________________________\n",
      "res5b (Add)                     (None, None, None, 2 0           bn5b_branch2c[0][0]              \n",
      "                                                                 res5a_relu[0][0]                 \n",
      "__________________________________________________________________________________________________\n",
      "res5b_relu (Activation)         (None, None, None, 2 0           res5b[0][0]                      \n",
      "__________________________________________________________________________________________________\n",
      "res5c_branch2a (Conv2D)         (None, None, None, 5 1048576     res5b_relu[0][0]                 \n",
      "__________________________________________________________________________________________________\n",
      "bn5c_branch2a (BatchNormalizati (None, None, None, 5 2048        res5c_branch2a[0][0]             \n",
      "__________________________________________________________________________________________________\n",
      "res5c_branch2a_relu (Activation (None, None, None, 5 0           bn5c_branch2a[0][0]              \n",
      "__________________________________________________________________________________________________\n",
      "padding5c_branch2b (ZeroPadding (None, None, None, 5 0           res5c_branch2a_relu[0][0]        \n",
      "__________________________________________________________________________________________________\n",
      "res5c_branch2b (Conv2D)         (None, None, None, 5 2359296     padding5c_branch2b[0][0]         \n",
      "__________________________________________________________________________________________________\n",
      "bn5c_branch2b (BatchNormalizati (None, None, None, 5 2048        res5c_branch2b[0][0]             \n",
      "__________________________________________________________________________________________________\n",
      "res5c_branch2b_relu (Activation (None, None, None, 5 0           bn5c_branch2b[0][0]              \n",
      "__________________________________________________________________________________________________\n",
      "res5c_branch2c (Conv2D)         (None, None, None, 2 1048576     res5c_branch2b_relu[0][0]        \n",
      "__________________________________________________________________________________________________\n",
      "bn5c_branch2c (BatchNormalizati (None, None, None, 2 8192        res5c_branch2c[0][0]             \n",
      "__________________________________________________________________________________________________\n",
      "res5c (Add)                     (None, None, None, 2 0           bn5c_branch2c[0][0]              \n",
      "                                                                 res5b_relu[0][0]                 \n",
      "__________________________________________________________________________________________________\n",
      "res5c_relu (Activation)         (None, None, None, 2 0           res5c[0][0]                      \n",
      "__________________________________________________________________________________________________\n",
      "C5_reduced (Conv2D)             (None, None, None, 2 524544      res5c_relu[0][0]                 \n",
      "__________________________________________________________________________________________________\n",
      "P5_upsampled (UpsampleLike)     (None, None, None, 2 0           C5_reduced[0][0]                 \n",
      "                                                                 res4f_relu[0][0]                 \n",
      "__________________________________________________________________________________________________\n",
      "C4_reduced (Conv2D)             (None, None, None, 2 262400      res4f_relu[0][0]                 \n",
      "__________________________________________________________________________________________________\n",
      "P4_merged (Add)                 (None, None, None, 2 0           P5_upsampled[0][0]               \n",
      "                                                                 C4_reduced[0][0]                 \n",
      "__________________________________________________________________________________________________\n",
      "P4_upsampled (UpsampleLike)     (None, None, None, 2 0           P4_merged[0][0]                  \n",
      "                                                                 res3d_relu[0][0]                 \n",
      "__________________________________________________________________________________________________\n",
      "C3_reduced (Conv2D)             (None, None, None, 2 131328      res3d_relu[0][0]                 \n",
      "__________________________________________________________________________________________________\n",
      "P6 (Conv2D)                     (None, None, None, 2 4718848     res5c_relu[0][0]                 \n",
      "__________________________________________________________________________________________________\n",
      "P3_merged (Add)                 (None, None, None, 2 0           P4_upsampled[0][0]               \n",
      "                                                                 C3_reduced[0][0]                 \n",
      "__________________________________________________________________________________________________\n",
      "C6_relu (Activation)            (None, None, None, 2 0           P6[0][0]                         \n",
      "__________________________________________________________________________________________________\n",
      "P3 (Conv2D)                     (None, None, None, 2 590080      P3_merged[0][0]                  \n",
      "__________________________________________________________________________________________________\n",
      "P4 (Conv2D)                     (None, None, None, 2 590080      P4_merged[0][0]                  \n",
      "__________________________________________________________________________________________________\n",
      "P5 (Conv2D)                     (None, None, None, 2 590080      C5_reduced[0][0]                 \n",
      "__________________________________________________________________________________________________\n",
      "P7 (Conv2D)                     (None, None, None, 2 590080      C6_relu[0][0]                    \n",
      "__________________________________________________________________________________________________\n",
      "regression_submodel (Functional (None, None, 4)      2443300     P3[0][0]                         \n",
      "                                                                 P4[0][0]                         \n",
      "                                                                 P5[0][0]                         \n",
      "                                                                 P6[0][0]                         \n",
      "                                                                 P7[0][0]                         \n",
      "__________________________________________________________________________________________________\n",
      "classification_submodel (Functi (None, None, 1)      2381065     P3[0][0]                         \n",
      "                                                                 P4[0][0]                         \n",
      "                                                                 P5[0][0]                         \n",
      "                                                                 P6[0][0]                         \n",
      "                                                                 P7[0][0]                         \n",
      "__________________________________________________________________________________________________\n",
      "regression (Concatenate)        (None, None, 4)      0           regression_submodel[0][0]        \n",
      "                                                                 regression_submodel[1][0]        \n",
      "                                                                 regression_submodel[2][0]        \n",
      "                                                                 regression_submodel[3][0]        \n",
      "                                                                 regression_submodel[4][0]        \n",
      "__________________________________________________________________________________________________\n",
      "classification (Concatenate)    (None, None, 1)      0           classification_submodel[0][0]    \n",
      "                                                                 classification_submodel[1][0]    \n",
      "                                                                 classification_submodel[2][0]    \n",
      "                                                                 classification_submodel[3][0]    \n",
      "                                                                 classification_submodel[4][0]    \n",
      "==================================================================================================\n",
      "Total params: 36,382,957\n",
      "Trainable params: 12,821,805\n",
      "Non-trainable params: 23,561,152\n",
      "__________________________________________________________________________________________________\n"
     ]
    }
   ],
   "source": [
    "training_model.summary()"
   ]
  },
  {
   "cell_type": "code",
   "execution_count": 12,
   "id": "4007aae3-55e8-407b-9059-48ed29347c0b",
   "metadata": {
    "tags": []
   },
   "outputs": [
    {
     "name": "stdout",
     "output_type": "stream",
     "text": [
      "Epoch 1/50\n",
      "  2/400 [..............................] - ETA: 13s - loss: 4.0222 - regression_loss: 2.8904 - classification_loss: 1.1318WARNING:tensorflow:Callbacks method `on_train_batch_end` is slow compared to the batch time (batch time: 0.0120s vs `on_train_batch_end` time: 0.0549s). Check your callbacks.\n",
      "400/400 [==============================] - ETA: 0s - loss: 3.4265 - regression_loss: 2.5901 - classification_loss: 0.8364WARNING:tensorflow:Callbacks method `on_test_batch_end` is slow compared to the batch time (batch time: 0.0080s vs `on_test_batch_end` time: 0.0250s). Check your callbacks.\n"
     ]
    },
    {
     "name": "stderr",
     "output_type": "stream",
     "text": [
      "Running network: 100% (180 of 180) |#####| Elapsed Time: 0:00:10 Time:  0:00:10\n",
      "Parsing annotations: 100% (180 of 180) |#| Elapsed Time: 0:00:00 Time:  0:00:00\n"
     ]
    },
    {
     "name": "stdout",
     "output_type": "stream",
     "text": [
      "198 instances of class polyp with average precision: 0.2112\n",
      "mAP: 0.2112\n",
      "\n",
      "Epoch 00001: mAP improved from -inf to 0.21122, saving model to ./result\\retinanet_resnet50.h5\n",
      "400/400 [==============================] - 46s 115ms/step - loss: 3.4265 - regression_loss: 2.5901 - classification_loss: 0.8364 - val_loss: 3.0248 - val_regression_loss: 2.5626 - val_classification_loss: 0.4623\n",
      "Epoch 2/50\n",
      "400/400 [==============================] - ETA: 0s - loss: 3.1505 - regression_loss: 2.2043 - classification_loss: 0.9462"
     ]
    },
    {
     "name": "stderr",
     "output_type": "stream",
     "text": [
      "Running network: 100% (180 of 180) |#####| Elapsed Time: 0:00:08 Time:  0:00:08\n",
      "Parsing annotations: 100% (180 of 180) |#| Elapsed Time: 0:00:00 Time:  0:00:00\n"
     ]
    },
    {
     "name": "stdout",
     "output_type": "stream",
     "text": [
      "198 instances of class polyp with average precision: 0.0000\n",
      "mAP: 0.0000\n",
      "\n",
      "Epoch 00002: mAP did not improve from 0.21122\n",
      "400/400 [==============================] - 41s 103ms/step - loss: 3.1505 - regression_loss: 2.2043 - classification_loss: 0.9462 - val_loss: 3.1929 - val_regression_loss: 2.1183 - val_classification_loss: 1.0746\n",
      "Epoch 3/50\n",
      "400/400 [==============================] - ETA: 0s - loss: 2.8380 - regression_loss: 1.9018 - classification_loss: 0.9362"
     ]
    },
    {
     "name": "stderr",
     "output_type": "stream",
     "text": [
      "Running network: 100% (180 of 180) |#####| Elapsed Time: 0:00:08 Time:  0:00:08\n",
      "Parsing annotations: 100% (180 of 180) |#| Elapsed Time: 0:00:00 Time:  0:00:00\n"
     ]
    },
    {
     "name": "stdout",
     "output_type": "stream",
     "text": [
      "198 instances of class polyp with average precision: 0.2511\n",
      "mAP: 0.2511\n",
      "\n",
      "Epoch 00003: mAP improved from 0.21122 to 0.25107, saving model to ./result\\retinanet_resnet50.h5\n",
      "400/400 [==============================] - 43s 107ms/step - loss: 2.8380 - regression_loss: 1.9018 - classification_loss: 0.9362 - val_loss: 2.6059 - val_regression_loss: 1.8438 - val_classification_loss: 0.7621\n",
      "Epoch 4/50\n",
      "400/400 [==============================] - ETA: 0s - loss: 2.2752 - regression_loss: 1.6780 - classification_loss: 0.5972"
     ]
    },
    {
     "name": "stderr",
     "output_type": "stream",
     "text": [
      "Running network: 100% (180 of 180) |#####| Elapsed Time: 0:00:08 Time:  0:00:08\n",
      "Parsing annotations: 100% (180 of 180) |#| Elapsed Time: 0:00:00 Time:  0:00:00\n"
     ]
    },
    {
     "name": "stdout",
     "output_type": "stream",
     "text": [
      "198 instances of class polyp with average precision: 0.5929\n",
      "mAP: 0.5929\n",
      "\n",
      "Epoch 00004: mAP improved from 0.25107 to 0.59289, saving model to ./result\\retinanet_resnet50.h5\n",
      "400/400 [==============================] - 44s 109ms/step - loss: 2.2752 - regression_loss: 1.6780 - classification_loss: 0.5972 - val_loss: 2.0683 - val_regression_loss: 1.6020 - val_classification_loss: 0.4663\n",
      "Epoch 5/50\n",
      "400/400 [==============================] - ETA: 0s - loss: 1.9598 - regression_loss: 1.5348 - classification_loss: 0.4250"
     ]
    },
    {
     "name": "stderr",
     "output_type": "stream",
     "text": [
      "Running network: 100% (180 of 180) |#####| Elapsed Time: 0:00:08 Time:  0:00:08\n",
      "Parsing annotations: 100% (180 of 180) |#| Elapsed Time: 0:00:00 Time:  0:00:00\n"
     ]
    },
    {
     "name": "stdout",
     "output_type": "stream",
     "text": [
      "198 instances of class polyp with average precision: 0.6966\n",
      "mAP: 0.6966\n",
      "\n",
      "Epoch 00005: mAP improved from 0.59289 to 0.69663, saving model to ./result\\retinanet_resnet50.h5\n",
      "400/400 [==============================] - 44s 111ms/step - loss: 1.9598 - regression_loss: 1.5348 - classification_loss: 0.4250 - val_loss: 1.8226 - val_regression_loss: 1.4827 - val_classification_loss: 0.3399\n",
      "Epoch 6/50\n",
      "400/400 [==============================] - ETA: 0s - loss: 1.7409 - regression_loss: 1.3956 - classification_loss: 0.3453"
     ]
    },
    {
     "name": "stderr",
     "output_type": "stream",
     "text": [
      "Running network: 100% (180 of 180) |#####| Elapsed Time: 0:00:08 Time:  0:00:08\n",
      "Parsing annotations: 100% (180 of 180) |#| Elapsed Time: 0:00:00 Time:  0:00:00\n"
     ]
    },
    {
     "name": "stdout",
     "output_type": "stream",
     "text": [
      "198 instances of class polyp with average precision: 0.7124\n",
      "mAP: 0.7124\n",
      "\n",
      "Epoch 00006: mAP improved from 0.69663 to 0.71235, saving model to ./result\\retinanet_resnet50.h5\n",
      "400/400 [==============================] - 44s 110ms/step - loss: 1.7409 - regression_loss: 1.3956 - classification_loss: 0.3453 - val_loss: 1.7552 - val_regression_loss: 1.4366 - val_classification_loss: 0.3186\n",
      "Epoch 7/50\n",
      "400/400 [==============================] - ETA: 0s - loss: 1.6129 - regression_loss: 1.2973 - classification_loss: 0.3156"
     ]
    },
    {
     "name": "stderr",
     "output_type": "stream",
     "text": [
      "Running network: 100% (180 of 180) |#####| Elapsed Time: 0:00:08 Time:  0:00:08\n",
      "Parsing annotations: 100% (180 of 180) |#| Elapsed Time: 0:00:00 Time:  0:00:00\n"
     ]
    },
    {
     "name": "stdout",
     "output_type": "stream",
     "text": [
      "198 instances of class polyp with average precision: 0.7263\n",
      "mAP: 0.7263\n",
      "\n",
      "Epoch 00007: mAP improved from 0.71235 to 0.72627, saving model to ./result\\retinanet_resnet50.h5\n",
      "400/400 [==============================] - 43s 108ms/step - loss: 1.6129 - regression_loss: 1.2973 - classification_loss: 0.3156 - val_loss: 1.7191 - val_regression_loss: 1.4170 - val_classification_loss: 0.3021\n",
      "Epoch 8/50\n",
      "400/400 [==============================] - ETA: 0s - loss: 1.4345 - regression_loss: 1.1649 - classification_loss: 0.2697"
     ]
    },
    {
     "name": "stderr",
     "output_type": "stream",
     "text": [
      "Running network: 100% (180 of 180) |#####| Elapsed Time: 0:00:08 Time:  0:00:08\n",
      "Parsing annotations: 100% (180 of 180) |#| Elapsed Time: 0:00:00 Time:  0:00:00\n"
     ]
    },
    {
     "name": "stdout",
     "output_type": "stream",
     "text": [
      "198 instances of class polyp with average precision: 0.7501\n",
      "mAP: 0.7501\n",
      "\n",
      "Epoch 00008: mAP improved from 0.72627 to 0.75010, saving model to ./result\\retinanet_resnet50.h5\n",
      "400/400 [==============================] - 44s 109ms/step - loss: 1.4345 - regression_loss: 1.1649 - classification_loss: 0.2697 - val_loss: 1.6613 - val_regression_loss: 1.3703 - val_classification_loss: 0.2910\n",
      "Epoch 9/50\n",
      "400/400 [==============================] - ETA: 0s - loss: 1.3571 - regression_loss: 1.1065 - classification_loss: 0.2506"
     ]
    },
    {
     "name": "stderr",
     "output_type": "stream",
     "text": [
      "Running network: 100% (180 of 180) |#####| Elapsed Time: 0:00:08 Time:  0:00:08\n",
      "Parsing annotations: 100% (180 of 180) |#| Elapsed Time: 0:00:00 Time:  0:00:00\n"
     ]
    },
    {
     "name": "stdout",
     "output_type": "stream",
     "text": [
      "198 instances of class polyp with average precision: 0.7786\n",
      "mAP: 0.7786\n",
      "\n",
      "Epoch 00009: mAP improved from 0.75010 to 0.77856, saving model to ./result\\retinanet_resnet50.h5\n",
      "400/400 [==============================] - 43s 108ms/step - loss: 1.3571 - regression_loss: 1.1065 - classification_loss: 0.2506 - val_loss: 1.5713 - val_regression_loss: 1.3018 - val_classification_loss: 0.2695\n",
      "Epoch 10/50\n",
      "400/400 [==============================] - ETA: 0s - loss: 1.2124 - regression_loss: 0.9941 - classification_loss: 0.2183"
     ]
    },
    {
     "name": "stderr",
     "output_type": "stream",
     "text": [
      "Running network: 100% (180 of 180) |#####| Elapsed Time: 0:00:08 Time:  0:00:08\n",
      "Parsing annotations: 100% (180 of 180) |#| Elapsed Time: 0:00:00 Time:  0:00:00\n"
     ]
    },
    {
     "name": "stdout",
     "output_type": "stream",
     "text": [
      "198 instances of class polyp with average precision: 0.7804\n",
      "mAP: 0.7804\n",
      "\n",
      "Epoch 00010: mAP improved from 0.77856 to 0.78038, saving model to ./result\\retinanet_resnet50.h5\n",
      "400/400 [==============================] - 43s 108ms/step - loss: 1.2124 - regression_loss: 0.9941 - classification_loss: 0.2183 - val_loss: 1.5461 - val_regression_loss: 1.2898 - val_classification_loss: 0.2563\n",
      "Epoch 11/50\n",
      "400/400 [==============================] - ETA: 0s - loss: 1.1698 - regression_loss: 0.9583 - classification_loss: 0.2115"
     ]
    },
    {
     "name": "stderr",
     "output_type": "stream",
     "text": [
      "Running network: 100% (180 of 180) |#####| Elapsed Time: 0:00:08 Time:  0:00:08\n",
      "Parsing annotations: 100% (180 of 180) |#| Elapsed Time: 0:00:00 Time:  0:00:00\n"
     ]
    },
    {
     "name": "stdout",
     "output_type": "stream",
     "text": [
      "198 instances of class polyp with average precision: 0.7966\n",
      "mAP: 0.7966\n",
      "\n",
      "Epoch 00011: mAP improved from 0.78038 to 0.79660, saving model to ./result\\retinanet_resnet50.h5\n",
      "400/400 [==============================] - 43s 107ms/step - loss: 1.1698 - regression_loss: 0.9583 - classification_loss: 0.2115 - val_loss: 1.4099 - val_regression_loss: 1.1396 - val_classification_loss: 0.2702\n",
      "Epoch 12/50\n",
      "400/400 [==============================] - ETA: 0s - loss: 1.1686 - regression_loss: 0.9716 - classification_loss: 0.1970"
     ]
    },
    {
     "name": "stderr",
     "output_type": "stream",
     "text": [
      "Running network: 100% (180 of 180) |#####| Elapsed Time: 0:00:08 Time:  0:00:08\n",
      "Parsing annotations: 100% (180 of 180) |#| Elapsed Time: 0:00:00 Time:  0:00:00\n"
     ]
    },
    {
     "name": "stdout",
     "output_type": "stream",
     "text": [
      "198 instances of class polyp with average precision: 0.8053\n",
      "mAP: 0.8053\n",
      "\n",
      "Epoch 00012: mAP improved from 0.79660 to 0.80526, saving model to ./result\\retinanet_resnet50.h5\n",
      "400/400 [==============================] - 43s 106ms/step - loss: 1.1686 - regression_loss: 0.9716 - classification_loss: 0.1970 - val_loss: 1.3542 - val_regression_loss: 1.1168 - val_classification_loss: 0.2375\n",
      "Epoch 13/50\n",
      "400/400 [==============================] - ETA: 0s - loss: 1.0864 - regression_loss: 0.9000 - classification_loss: 0.1864"
     ]
    },
    {
     "name": "stderr",
     "output_type": "stream",
     "text": [
      "Running network: 100% (180 of 180) |#####| Elapsed Time: 0:00:08 Time:  0:00:08\n",
      "Parsing annotations: 100% (180 of 180) |#| Elapsed Time: 0:00:00 Time:  0:00:00\n"
     ]
    },
    {
     "name": "stdout",
     "output_type": "stream",
     "text": [
      "198 instances of class polyp with average precision: 0.8065\n",
      "mAP: 0.8065\n",
      "\n",
      "Epoch 00013: mAP improved from 0.80526 to 0.80650, saving model to ./result\\retinanet_resnet50.h5\n",
      "400/400 [==============================] - 42s 105ms/step - loss: 1.0864 - regression_loss: 0.9000 - classification_loss: 0.1864 - val_loss: 1.3361 - val_regression_loss: 1.0836 - val_classification_loss: 0.2525\n",
      "Epoch 14/50\n",
      "400/400 [==============================] - ETA: 0s - loss: 1.0103 - regression_loss: 0.8356 - classification_loss: 0.1748"
     ]
    },
    {
     "name": "stderr",
     "output_type": "stream",
     "text": [
      "Running network: 100% (180 of 180) |#####| Elapsed Time: 0:00:08 Time:  0:00:08\n",
      "Parsing annotations: 100% (180 of 180) |#| Elapsed Time: 0:00:00 Time:  0:00:00\n"
     ]
    },
    {
     "name": "stdout",
     "output_type": "stream",
     "text": [
      "198 instances of class polyp with average precision: 0.8070\n",
      "mAP: 0.8070\n",
      "\n",
      "Epoch 00014: mAP improved from 0.80650 to 0.80704, saving model to ./result\\retinanet_resnet50.h5\n",
      "400/400 [==============================] - 42s 106ms/step - loss: 1.0103 - regression_loss: 0.8356 - classification_loss: 0.1748 - val_loss: 1.4357 - val_regression_loss: 1.1671 - val_classification_loss: 0.2686\n",
      "Epoch 15/50\n",
      "400/400 [==============================] - ETA: 0s - loss: 0.8672 - regression_loss: 0.7180 - classification_loss: 0.1493"
     ]
    },
    {
     "name": "stderr",
     "output_type": "stream",
     "text": [
      "Running network: 100% (180 of 180) |#####| Elapsed Time: 0:00:08 Time:  0:00:08\n",
      "Parsing annotations: 100% (180 of 180) |#| Elapsed Time: 0:00:00 Time:  0:00:00\n"
     ]
    },
    {
     "name": "stdout",
     "output_type": "stream",
     "text": [
      "198 instances of class polyp with average precision: 0.8110\n",
      "mAP: 0.8110\n",
      "\n",
      "Epoch 00015: mAP improved from 0.80704 to 0.81100, saving model to ./result\\retinanet_resnet50.h5\n",
      "400/400 [==============================] - 42s 105ms/step - loss: 0.8672 - regression_loss: 0.7180 - classification_loss: 0.1493 - val_loss: 1.3031 - val_regression_loss: 1.0647 - val_classification_loss: 0.2384\n",
      "Epoch 16/50\n",
      "400/400 [==============================] - ETA: 0s - loss: 0.8983 - regression_loss: 0.7495 - classification_loss: 0.1488"
     ]
    },
    {
     "name": "stderr",
     "output_type": "stream",
     "text": [
      "Running network: 100% (180 of 180) |#####| Elapsed Time: 0:00:08 Time:  0:00:08\n",
      "Parsing annotations: 100% (180 of 180) |#| Elapsed Time: 0:00:00 Time:  0:00:00\n"
     ]
    },
    {
     "name": "stdout",
     "output_type": "stream",
     "text": [
      "198 instances of class polyp with average precision: 0.8112\n",
      "mAP: 0.8112\n",
      "\n",
      "Epoch 00016: mAP improved from 0.81100 to 0.81119, saving model to ./result\\retinanet_resnet50.h5\n",
      "400/400 [==============================] - 42s 106ms/step - loss: 0.8983 - regression_loss: 0.7495 - classification_loss: 0.1488 - val_loss: 1.3272 - val_regression_loss: 1.0863 - val_classification_loss: 0.2409\n",
      "Epoch 17/50\n",
      "400/400 [==============================] - ETA: 0s - loss: 0.7837 - regression_loss: 0.6469 - classification_loss: 0.1368"
     ]
    },
    {
     "name": "stderr",
     "output_type": "stream",
     "text": [
      "Running network: 100% (180 of 180) |#####| Elapsed Time: 0:00:08 Time:  0:00:08\n",
      "Parsing annotations: 100% (180 of 180) |#| Elapsed Time: 0:00:00 Time:  0:00:00\n"
     ]
    },
    {
     "name": "stdout",
     "output_type": "stream",
     "text": [
      "198 instances of class polyp with average precision: 0.8136\n",
      "mAP: 0.8136\n",
      "\n",
      "Epoch 00017: mAP improved from 0.81119 to 0.81357, saving model to ./result\\retinanet_resnet50.h5\n",
      "400/400 [==============================] - 42s 105ms/step - loss: 0.7837 - regression_loss: 0.6469 - classification_loss: 0.1368 - val_loss: 1.3481 - val_regression_loss: 1.1044 - val_classification_loss: 0.2437\n",
      "Epoch 18/50\n",
      "400/400 [==============================] - ETA: 0s - loss: 0.7608 - regression_loss: 0.6346 - classification_loss: 0.1262"
     ]
    },
    {
     "name": "stderr",
     "output_type": "stream",
     "text": [
      "Running network: 100% (180 of 180) |#####| Elapsed Time: 0:00:08 Time:  0:00:08\n",
      "Parsing annotations: 100% (180 of 180) |#| Elapsed Time: 0:00:00 Time:  0:00:00\n"
     ]
    },
    {
     "name": "stdout",
     "output_type": "stream",
     "text": [
      "198 instances of class polyp with average precision: 0.8272\n",
      "mAP: 0.8272\n",
      "\n",
      "Epoch 00018: mAP improved from 0.81357 to 0.82720, saving model to ./result\\retinanet_resnet50.h5\n",
      "400/400 [==============================] - 42s 106ms/step - loss: 0.7608 - regression_loss: 0.6346 - classification_loss: 0.1262 - val_loss: 1.2682 - val_regression_loss: 1.0275 - val_classification_loss: 0.2407\n",
      "Epoch 19/50\n",
      "400/400 [==============================] - ETA: 0s - loss: 0.7575 - regression_loss: 0.6406 - classification_loss: 0.1169"
     ]
    },
    {
     "name": "stderr",
     "output_type": "stream",
     "text": [
      "Running network: 100% (180 of 180) |#####| Elapsed Time: 0:00:08 Time:  0:00:08\n",
      "Parsing annotations: 100% (180 of 180) |#| Elapsed Time: 0:00:00 Time:  0:00:00\n"
     ]
    },
    {
     "name": "stdout",
     "output_type": "stream",
     "text": [
      "198 instances of class polyp with average precision: 0.8332\n",
      "mAP: 0.8332\n",
      "\n",
      "Epoch 00019: mAP improved from 0.82720 to 0.83322, saving model to ./result\\retinanet_resnet50.h5\n",
      "400/400 [==============================] - 42s 105ms/step - loss: 0.7575 - regression_loss: 0.6406 - classification_loss: 0.1169 - val_loss: 1.2914 - val_regression_loss: 1.0384 - val_classification_loss: 0.2530\n",
      "Epoch 20/50\n",
      "400/400 [==============================] - ETA: 0s - loss: 0.7085 - regression_loss: 0.5900 - classification_loss: 0.1185"
     ]
    },
    {
     "name": "stderr",
     "output_type": "stream",
     "text": [
      "Running network: 100% (180 of 180) |#####| Elapsed Time: 0:00:08 Time:  0:00:08\n",
      "Parsing annotations: 100% (180 of 180) |#| Elapsed Time: 0:00:00 Time:  0:00:00\n"
     ]
    },
    {
     "name": "stdout",
     "output_type": "stream",
     "text": [
      "198 instances of class polyp with average precision: 0.8400\n",
      "mAP: 0.8400\n",
      "\n",
      "Epoch 00020: mAP improved from 0.83322 to 0.84000, saving model to ./result\\retinanet_resnet50.h5\n",
      "400/400 [==============================] - 42s 105ms/step - loss: 0.7085 - regression_loss: 0.5900 - classification_loss: 0.1185 - val_loss: 1.2458 - val_regression_loss: 1.0084 - val_classification_loss: 0.2374\n",
      "Epoch 21/50\n",
      "400/400 [==============================] - ETA: 0s - loss: 0.6983 - regression_loss: 0.5842 - classification_loss: 0.1141"
     ]
    },
    {
     "name": "stderr",
     "output_type": "stream",
     "text": [
      "Running network: 100% (180 of 180) |#####| Elapsed Time: 0:00:08 Time:  0:00:08\n",
      "Parsing annotations: 100% (180 of 180) |#| Elapsed Time: 0:00:00 Time:  0:00:00\n"
     ]
    },
    {
     "name": "stdout",
     "output_type": "stream",
     "text": [
      "198 instances of class polyp with average precision: 0.8431\n",
      "mAP: 0.8431\n",
      "\n",
      "Epoch 00021: mAP improved from 0.84000 to 0.84311, saving model to ./result\\retinanet_resnet50.h5\n",
      "400/400 [==============================] - 42s 105ms/step - loss: 0.6983 - regression_loss: 0.5842 - classification_loss: 0.1141 - val_loss: 1.2224 - val_regression_loss: 0.9968 - val_classification_loss: 0.2256\n",
      "Epoch 22/50\n",
      "400/400 [==============================] - ETA: 0s - loss: 0.6510 - regression_loss: 0.5454 - classification_loss: 0.1056"
     ]
    },
    {
     "name": "stderr",
     "output_type": "stream",
     "text": [
      "Running network: 100% (180 of 180) |#####| Elapsed Time: 0:00:08 Time:  0:00:08\n",
      "Parsing annotations: 100% (180 of 180) |#| Elapsed Time: 0:00:00 Time:  0:00:00\n"
     ]
    },
    {
     "name": "stdout",
     "output_type": "stream",
     "text": [
      "198 instances of class polyp with average precision: 0.8419\n",
      "mAP: 0.8419\n",
      "\n",
      "Epoch 00022: mAP did not improve from 0.84311\n",
      "400/400 [==============================] - 41s 101ms/step - loss: 0.6510 - regression_loss: 0.5454 - classification_loss: 0.1056 - val_loss: 1.2143 - val_regression_loss: 0.9866 - val_classification_loss: 0.2277\n",
      "Epoch 23/50\n",
      "400/400 [==============================] - ETA: 0s - loss: 0.6015 - regression_loss: 0.5048 - classification_loss: 0.0967"
     ]
    },
    {
     "name": "stderr",
     "output_type": "stream",
     "text": [
      "Running network: 100% (180 of 180) |#####| Elapsed Time: 0:00:08 Time:  0:00:08\n",
      "Parsing annotations: 100% (180 of 180) |#| Elapsed Time: 0:00:00 Time:  0:00:00\n"
     ]
    },
    {
     "name": "stdout",
     "output_type": "stream",
     "text": [
      "198 instances of class polyp with average precision: 0.8406\n",
      "mAP: 0.8406\n",
      "\n",
      "Epoch 00023: mAP did not improve from 0.84311\n",
      "400/400 [==============================] - 41s 101ms/step - loss: 0.6015 - regression_loss: 0.5048 - classification_loss: 0.0967 - val_loss: 1.2426 - val_regression_loss: 1.0129 - val_classification_loss: 0.2297\n",
      "Epoch 24/50\n",
      "400/400 [==============================] - ETA: 0s - loss: 0.5971 - regression_loss: 0.5017 - classification_loss: 0.0955"
     ]
    },
    {
     "name": "stderr",
     "output_type": "stream",
     "text": [
      "Running network: 100% (180 of 180) |#####| Elapsed Time: 0:00:08 Time:  0:00:08\n",
      "Parsing annotations: 100% (180 of 180) |#| Elapsed Time: 0:00:00 Time:  0:00:00\n"
     ]
    },
    {
     "name": "stdout",
     "output_type": "stream",
     "text": [
      "198 instances of class polyp with average precision: 0.8530\n",
      "mAP: 0.8530\n",
      "\n",
      "Epoch 00024: mAP improved from 0.84311 to 0.85300, saving model to ./result\\retinanet_resnet50.h5\n",
      "400/400 [==============================] - 42s 106ms/step - loss: 0.5971 - regression_loss: 0.5017 - classification_loss: 0.0955 - val_loss: 1.2146 - val_regression_loss: 0.9844 - val_classification_loss: 0.2301\n",
      "Epoch 25/50\n",
      "400/400 [==============================] - ETA: 0s - loss: 0.5265 - regression_loss: 0.4446 - classification_loss: 0.0819"
     ]
    },
    {
     "name": "stderr",
     "output_type": "stream",
     "text": [
      "Running network: 100% (180 of 180) |#####| Elapsed Time: 0:00:08 Time:  0:00:08\n",
      "Parsing annotations: 100% (180 of 180) |#| Elapsed Time: 0:00:00 Time:  0:00:00\n"
     ]
    },
    {
     "name": "stdout",
     "output_type": "stream",
     "text": [
      "198 instances of class polyp with average precision: 0.8550\n",
      "mAP: 0.8550\n",
      "\n",
      "Epoch 00025: mAP improved from 0.85300 to 0.85502, saving model to ./result\\retinanet_resnet50.h5\n",
      "400/400 [==============================] - 42s 105ms/step - loss: 0.5265 - regression_loss: 0.4446 - classification_loss: 0.0819 - val_loss: 1.1877 - val_regression_loss: 0.9664 - val_classification_loss: 0.2213\n",
      "Epoch 26/50\n",
      "400/400 [==============================] - ETA: 0s - loss: 0.5054 - regression_loss: 0.4269 - classification_loss: 0.0785"
     ]
    },
    {
     "name": "stderr",
     "output_type": "stream",
     "text": [
      "Running network: 100% (180 of 180) |#####| Elapsed Time: 0:00:08 Time:  0:00:08\n",
      "Parsing annotations: 100% (180 of 180) |#| Elapsed Time: 0:00:00 Time:  0:00:00\n"
     ]
    },
    {
     "name": "stdout",
     "output_type": "stream",
     "text": [
      "198 instances of class polyp with average precision: 0.8446\n",
      "mAP: 0.8446\n",
      "\n",
      "Epoch 00026: mAP did not improve from 0.85502\n",
      "400/400 [==============================] - 40s 101ms/step - loss: 0.5054 - regression_loss: 0.4269 - classification_loss: 0.0785 - val_loss: 1.1929 - val_regression_loss: 0.9583 - val_classification_loss: 0.2345\n",
      "Epoch 27/50\n",
      "400/400 [==============================] - ETA: 0s - loss: 0.5013 - regression_loss: 0.4124 - classification_loss: 0.0889"
     ]
    },
    {
     "name": "stderr",
     "output_type": "stream",
     "text": [
      "Running network: 100% (180 of 180) |#####| Elapsed Time: 0:00:08 Time:  0:00:08\n",
      "Parsing annotations: 100% (180 of 180) |#| Elapsed Time: 0:00:00 Time:  0:00:00\n"
     ]
    },
    {
     "name": "stdout",
     "output_type": "stream",
     "text": [
      "198 instances of class polyp with average precision: 0.8459\n",
      "mAP: 0.8459\n",
      "\n",
      "Epoch 00027: mAP did not improve from 0.85502\n",
      "400/400 [==============================] - 40s 101ms/step - loss: 0.5013 - regression_loss: 0.4124 - classification_loss: 0.0889 - val_loss: 1.1873 - val_regression_loss: 0.9594 - val_classification_loss: 0.2278\n",
      "Epoch 28/50\n",
      "400/400 [==============================] - ETA: 0s - loss: 0.4329 - regression_loss: 0.3685 - classification_loss: 0.0644"
     ]
    },
    {
     "name": "stderr",
     "output_type": "stream",
     "text": [
      "Running network: 100% (180 of 180) |#####| Elapsed Time: 0:00:08 Time:  0:00:08\n",
      "Parsing annotations: 100% (180 of 180) |#| Elapsed Time: 0:00:00 Time:  0:00:00\n"
     ]
    },
    {
     "name": "stdout",
     "output_type": "stream",
     "text": [
      "198 instances of class polyp with average precision: 0.8472\n",
      "mAP: 0.8472\n",
      "\n",
      "Epoch 00028: mAP did not improve from 0.85502\n",
      "400/400 [==============================] - 40s 101ms/step - loss: 0.4329 - regression_loss: 0.3685 - classification_loss: 0.0644 - val_loss: 1.1489 - val_regression_loss: 0.9169 - val_classification_loss: 0.2321\n",
      "Epoch 29/50\n",
      "400/400 [==============================] - ETA: 0s - loss: 0.4299 - regression_loss: 0.3687 - classification_loss: 0.0612"
     ]
    },
    {
     "name": "stderr",
     "output_type": "stream",
     "text": [
      "Running network: 100% (180 of 180) |#####| Elapsed Time: 0:00:08 Time:  0:00:08\n",
      "Parsing annotations: 100% (180 of 180) |#| Elapsed Time: 0:00:00 Time:  0:00:00\n"
     ]
    },
    {
     "name": "stdout",
     "output_type": "stream",
     "text": [
      "198 instances of class polyp with average precision: 0.8358\n",
      "mAP: 0.8358\n",
      "\n",
      "Epoch 00029: mAP did not improve from 0.85502\n",
      "400/400 [==============================] - 40s 101ms/step - loss: 0.4299 - regression_loss: 0.3687 - classification_loss: 0.0612 - val_loss: 1.1613 - val_regression_loss: 0.9160 - val_classification_loss: 0.2453\n",
      "Epoch 30/50\n",
      "400/400 [==============================] - ETA: 0s - loss: 0.4353 - regression_loss: 0.3660 - classification_loss: 0.0692"
     ]
    },
    {
     "name": "stderr",
     "output_type": "stream",
     "text": [
      "Running network: 100% (180 of 180) |#####| Elapsed Time: 0:00:08 Time:  0:00:08\n",
      "Parsing annotations: 100% (180 of 180) |#| Elapsed Time: 0:00:00 Time:  0:00:00\n"
     ]
    },
    {
     "name": "stdout",
     "output_type": "stream",
     "text": [
      "198 instances of class polyp with average precision: 0.8369\n",
      "mAP: 0.8369\n",
      "\n",
      "Epoch 00030: mAP did not improve from 0.85502\n",
      "400/400 [==============================] - 40s 101ms/step - loss: 0.4353 - regression_loss: 0.3660 - classification_loss: 0.0692 - val_loss: 1.1776 - val_regression_loss: 0.9299 - val_classification_loss: 0.2478\n",
      "Epoch 31/50\n",
      "400/400 [==============================] - ETA: 0s - loss: 0.4103 - regression_loss: 0.3442 - classification_loss: 0.0661"
     ]
    },
    {
     "name": "stderr",
     "output_type": "stream",
     "text": [
      "Running network: 100% (180 of 180) |#####| Elapsed Time: 0:00:08 Time:  0:00:08\n",
      "Parsing annotations: 100% (180 of 180) |#| Elapsed Time: 0:00:00 Time:  0:00:00\n"
     ]
    },
    {
     "name": "stdout",
     "output_type": "stream",
     "text": [
      "198 instances of class polyp with average precision: 0.8406\n",
      "mAP: 0.8406\n",
      "\n",
      "Epoch 00031: mAP did not improve from 0.85502\n",
      "400/400 [==============================] - 40s 101ms/step - loss: 0.4103 - regression_loss: 0.3442 - classification_loss: 0.0661 - val_loss: 1.1535 - val_regression_loss: 0.9094 - val_classification_loss: 0.2441\n",
      "Epoch 32/50\n",
      "400/400 [==============================] - ETA: 0s - loss: 0.3769 - regression_loss: 0.3198 - classification_loss: 0.0571"
     ]
    },
    {
     "name": "stderr",
     "output_type": "stream",
     "text": [
      "Running network: 100% (180 of 180) |#####| Elapsed Time: 0:00:08 Time:  0:00:08\n",
      "Parsing annotations: 100% (180 of 180) |#| Elapsed Time: 0:00:00 Time:  0:00:00\n"
     ]
    },
    {
     "name": "stdout",
     "output_type": "stream",
     "text": [
      "198 instances of class polyp with average precision: 0.8517\n",
      "mAP: 0.8517\n",
      "\n",
      "Epoch 00032: mAP did not improve from 0.85502\n",
      "400/400 [==============================] - 40s 101ms/step - loss: 0.3769 - regression_loss: 0.3198 - classification_loss: 0.0571 - val_loss: 1.1664 - val_regression_loss: 0.9120 - val_classification_loss: 0.2544\n",
      "Epoch 33/50\n",
      "400/400 [==============================] - ETA: 0s - loss: 0.3660 - regression_loss: 0.3081 - classification_loss: 0.0580"
     ]
    },
    {
     "name": "stderr",
     "output_type": "stream",
     "text": [
      "Running network: 100% (180 of 180) |#####| Elapsed Time: 0:00:08 Time:  0:00:08\n",
      "Parsing annotations: 100% (180 of 180) |#| Elapsed Time: 0:00:00 Time:  0:00:00\n"
     ]
    },
    {
     "name": "stdout",
     "output_type": "stream",
     "text": [
      "198 instances of class polyp with average precision: 0.8339\n",
      "mAP: 0.8339\n",
      "\n",
      "Epoch 00033: mAP did not improve from 0.85502\n",
      "\n",
      "Epoch 00033: ReduceLROnPlateau reducing learning rate to 0.00010000000474974513.\n",
      "400/400 [==============================] - 40s 101ms/step - loss: 0.3660 - regression_loss: 0.3081 - classification_loss: 0.0580 - val_loss: 1.1618 - val_regression_loss: 0.9060 - val_classification_loss: 0.2558\n",
      "Epoch 34/50\n",
      "400/400 [==============================] - ETA: 0s - loss: 0.3002 - regression_loss: 0.2518 - classification_loss: 0.0483"
     ]
    },
    {
     "name": "stderr",
     "output_type": "stream",
     "text": [
      "Running network: 100% (180 of 180) |#####| Elapsed Time: 0:00:08 Time:  0:00:08\n",
      "Parsing annotations: 100% (180 of 180) |#| Elapsed Time: 0:00:00 Time:  0:00:00\n"
     ]
    },
    {
     "name": "stdout",
     "output_type": "stream",
     "text": [
      "198 instances of class polyp with average precision: 0.8401\n",
      "mAP: 0.8401\n",
      "\n",
      "Epoch 00034: mAP did not improve from 0.85502\n",
      "400/400 [==============================] - 40s 101ms/step - loss: 0.3002 - regression_loss: 0.2518 - classification_loss: 0.0483 - val_loss: 1.1405 - val_regression_loss: 0.8889 - val_classification_loss: 0.2515\n",
      "Epoch 35/50\n",
      "400/400 [==============================] - ETA: 0s - loss: 0.2859 - regression_loss: 0.2372 - classification_loss: 0.0487"
     ]
    },
    {
     "name": "stderr",
     "output_type": "stream",
     "text": [
      "Running network: 100% (180 of 180) |#####| Elapsed Time: 0:00:08 Time:  0:00:08\n",
      "Parsing annotations: 100% (180 of 180) |#| Elapsed Time: 0:00:00 Time:  0:00:00\n"
     ]
    },
    {
     "name": "stdout",
     "output_type": "stream",
     "text": [
      "198 instances of class polyp with average precision: 0.8419\n",
      "mAP: 0.8419\n",
      "\n",
      "Epoch 00035: mAP did not improve from 0.85502\n",
      "400/400 [==============================] - 40s 101ms/step - loss: 0.2859 - regression_loss: 0.2372 - classification_loss: 0.0487 - val_loss: 1.1339 - val_regression_loss: 0.8848 - val_classification_loss: 0.2492\n",
      "Epoch 36/50\n",
      "400/400 [==============================] - ETA: 0s - loss: 0.2407 - regression_loss: 0.2005 - classification_loss: 0.0402"
     ]
    },
    {
     "name": "stderr",
     "output_type": "stream",
     "text": [
      "Running network: 100% (180 of 180) |#####| Elapsed Time: 0:00:08 Time:  0:00:08\n",
      "Parsing annotations: 100% (180 of 180) |#| Elapsed Time: 0:00:00 Time:  0:00:00\n"
     ]
    },
    {
     "name": "stdout",
     "output_type": "stream",
     "text": [
      "198 instances of class polyp with average precision: 0.8426\n",
      "mAP: 0.8426\n",
      "\n",
      "Epoch 00036: mAP did not improve from 0.85502\n",
      "400/400 [==============================] - 40s 101ms/step - loss: 0.2407 - regression_loss: 0.2005 - classification_loss: 0.0402 - val_loss: 1.1303 - val_regression_loss: 0.8788 - val_classification_loss: 0.2515\n",
      "Epoch 37/50\n",
      "400/400 [==============================] - ETA: 0s - loss: 0.2562 - regression_loss: 0.2104 - classification_loss: 0.0457"
     ]
    },
    {
     "name": "stderr",
     "output_type": "stream",
     "text": [
      "Running network: 100% (180 of 180) |#####| Elapsed Time: 0:00:08 Time:  0:00:08\n",
      "Parsing annotations: 100% (180 of 180) |#| Elapsed Time: 0:00:00 Time:  0:00:00\n"
     ]
    },
    {
     "name": "stdout",
     "output_type": "stream",
     "text": [
      "198 instances of class polyp with average precision: 0.8426\n",
      "mAP: 0.8426\n",
      "\n",
      "Epoch 00037: mAP did not improve from 0.85502\n",
      "400/400 [==============================] - 40s 101ms/step - loss: 0.2562 - regression_loss: 0.2104 - classification_loss: 0.0457 - val_loss: 1.1328 - val_regression_loss: 0.8798 - val_classification_loss: 0.2529\n",
      "Epoch 38/50\n",
      "400/400 [==============================] - ETA: 0s - loss: 0.2329 - regression_loss: 0.1889 - classification_loss: 0.0440"
     ]
    },
    {
     "name": "stderr",
     "output_type": "stream",
     "text": [
      "Running network: 100% (180 of 180) |#####| Elapsed Time: 0:00:08 Time:  0:00:08\n",
      "Parsing annotations: 100% (180 of 180) |#| Elapsed Time: 0:00:00 Time:  0:00:00\n"
     ]
    },
    {
     "name": "stdout",
     "output_type": "stream",
     "text": [
      "198 instances of class polyp with average precision: 0.8458\n",
      "mAP: 0.8458\n",
      "\n",
      "Epoch 00038: mAP did not improve from 0.85502\n",
      "400/400 [==============================] - 40s 101ms/step - loss: 0.2329 - regression_loss: 0.1889 - classification_loss: 0.0440 - val_loss: 1.1288 - val_regression_loss: 0.8773 - val_classification_loss: 0.2516\n",
      "Epoch 39/50\n",
      "400/400 [==============================] - ETA: 0s - loss: 0.2530 - regression_loss: 0.2014 - classification_loss: 0.0516"
     ]
    },
    {
     "name": "stderr",
     "output_type": "stream",
     "text": [
      "Running network: 100% (180 of 180) |#####| Elapsed Time: 0:00:08 Time:  0:00:08\n",
      "Parsing annotations: 100% (180 of 180) |#| Elapsed Time: 0:00:00 Time:  0:00:00\n"
     ]
    },
    {
     "name": "stdout",
     "output_type": "stream",
     "text": [
      "198 instances of class polyp with average precision: 0.8469\n",
      "mAP: 0.8469\n",
      "\n",
      "Epoch 00039: mAP did not improve from 0.85502\n",
      "400/400 [==============================] - 40s 101ms/step - loss: 0.2530 - regression_loss: 0.2014 - classification_loss: 0.0516 - val_loss: 1.1301 - val_regression_loss: 0.8785 - val_classification_loss: 0.2516\n",
      "Epoch 40/50\n",
      "400/400 [==============================] - ETA: 0s - loss: 0.2512 - regression_loss: 0.2050 - classification_loss: 0.0462"
     ]
    },
    {
     "name": "stderr",
     "output_type": "stream",
     "text": [
      "Running network: 100% (180 of 180) |#####| Elapsed Time: 0:00:08 Time:  0:00:08\n",
      "Parsing annotations: 100% (180 of 180) |#| Elapsed Time: 0:00:00 Time:  0:00:00\n"
     ]
    },
    {
     "name": "stdout",
     "output_type": "stream",
     "text": [
      "198 instances of class polyp with average precision: 0.8422\n",
      "mAP: 0.8422\n",
      "\n",
      "Epoch 00040: mAP did not improve from 0.85502\n",
      "400/400 [==============================] - 40s 101ms/step - loss: 0.2512 - regression_loss: 0.2050 - classification_loss: 0.0462 - val_loss: 1.1314 - val_regression_loss: 0.8788 - val_classification_loss: 0.2526\n",
      "Epoch 41/50\n",
      "400/400 [==============================] - ETA: 0s - loss: 0.2364 - regression_loss: 0.1908 - classification_loss: 0.0455"
     ]
    },
    {
     "name": "stderr",
     "output_type": "stream",
     "text": [
      "Running network: 100% (180 of 180) |#####| Elapsed Time: 0:00:08 Time:  0:00:08\n",
      "Parsing annotations: 100% (180 of 180) |#| Elapsed Time: 0:00:00 Time:  0:00:00\n"
     ]
    },
    {
     "name": "stdout",
     "output_type": "stream",
     "text": [
      "198 instances of class polyp with average precision: 0.8461\n",
      "mAP: 0.8461\n",
      "\n",
      "Epoch 00041: mAP did not improve from 0.85502\n",
      "400/400 [==============================] - 40s 101ms/step - loss: 0.2364 - regression_loss: 0.1908 - classification_loss: 0.0455 - val_loss: 1.1335 - val_regression_loss: 0.8803 - val_classification_loss: 0.2532\n",
      "Epoch 42/50\n",
      "400/400 [==============================] - ETA: 0s - loss: 0.2189 - regression_loss: 0.1796 - classification_loss: 0.0393"
     ]
    },
    {
     "name": "stderr",
     "output_type": "stream",
     "text": [
      "Running network: 100% (180 of 180) |#####| Elapsed Time: 0:00:08 Time:  0:00:08\n",
      "Parsing annotations: 100% (180 of 180) |#| Elapsed Time: 0:00:00 Time:  0:00:00\n"
     ]
    },
    {
     "name": "stdout",
     "output_type": "stream",
     "text": [
      "198 instances of class polyp with average precision: 0.8440\n",
      "mAP: 0.8440\n",
      "\n",
      "Epoch 00042: mAP did not improve from 0.85502\n",
      "400/400 [==============================] - 40s 101ms/step - loss: 0.2189 - regression_loss: 0.1796 - classification_loss: 0.0393 - val_loss: 1.1364 - val_regression_loss: 0.8792 - val_classification_loss: 0.2572\n",
      "Epoch 43/50\n",
      "400/400 [==============================] - ETA: 0s - loss: 0.2105 - regression_loss: 0.1704 - classification_loss: 0.0401"
     ]
    },
    {
     "name": "stderr",
     "output_type": "stream",
     "text": [
      "Running network: 100% (180 of 180) |#####| Elapsed Time: 0:00:08 Time:  0:00:08\n",
      "Parsing annotations: 100% (180 of 180) |#| Elapsed Time: 0:00:00 Time:  0:00:00\n"
     ]
    },
    {
     "name": "stdout",
     "output_type": "stream",
     "text": [
      "198 instances of class polyp with average precision: 0.8441\n",
      "mAP: 0.8441\n",
      "\n",
      "Epoch 00043: mAP did not improve from 0.85502\n",
      "\n",
      "Epoch 00043: ReduceLROnPlateau reducing learning rate to 1.0000000474974514e-05.\n",
      "400/400 [==============================] - 40s 101ms/step - loss: 0.2105 - regression_loss: 0.1704 - classification_loss: 0.0401 - val_loss: 1.1358 - val_regression_loss: 0.8762 - val_classification_loss: 0.2596\n",
      "Epoch 44/50\n",
      "400/400 [==============================] - ETA: 0s - loss: 0.2191 - regression_loss: 0.1764 - classification_loss: 0.0427"
     ]
    },
    {
     "name": "stderr",
     "output_type": "stream",
     "text": [
      "Running network: 100% (180 of 180) |#####| Elapsed Time: 0:00:08 Time:  0:00:08\n",
      "Parsing annotations: 100% (180 of 180) |#| Elapsed Time: 0:00:00 Time:  0:00:00\n"
     ]
    },
    {
     "name": "stdout",
     "output_type": "stream",
     "text": [
      "198 instances of class polyp with average precision: 0.8443\n",
      "mAP: 0.8443\n",
      "\n",
      "Epoch 00044: mAP did not improve from 0.85502\n",
      "400/400 [==============================] - 40s 101ms/step - loss: 0.2191 - regression_loss: 0.1764 - classification_loss: 0.0427 - val_loss: 1.1356 - val_regression_loss: 0.8767 - val_classification_loss: 0.2589\n",
      "Epoch 45/50\n",
      "400/400 [==============================] - ETA: 0s - loss: 0.2235 - regression_loss: 0.1795 - classification_loss: 0.0439"
     ]
    },
    {
     "name": "stderr",
     "output_type": "stream",
     "text": [
      "Running network: 100% (180 of 180) |#####| Elapsed Time: 0:00:08 Time:  0:00:08\n",
      "Parsing annotations: 100% (180 of 180) |#| Elapsed Time: 0:00:00 Time:  0:00:00\n"
     ]
    },
    {
     "name": "stdout",
     "output_type": "stream",
     "text": [
      "198 instances of class polyp with average precision: 0.8440\n",
      "mAP: 0.8440\n",
      "\n",
      "Epoch 00045: mAP did not improve from 0.85502\n",
      "400/400 [==============================] - 40s 101ms/step - loss: 0.2235 - regression_loss: 0.1795 - classification_loss: 0.0439 - val_loss: 1.1359 - val_regression_loss: 0.8770 - val_classification_loss: 0.2589\n",
      "Epoch 46/50\n",
      "400/400 [==============================] - ETA: 0s - loss: 0.2188 - regression_loss: 0.1732 - classification_loss: 0.0456"
     ]
    },
    {
     "name": "stderr",
     "output_type": "stream",
     "text": [
      "Running network: 100% (180 of 180) |#####| Elapsed Time: 0:00:08 Time:  0:00:08\n",
      "Parsing annotations: 100% (180 of 180) |#| Elapsed Time: 0:00:00 Time:  0:00:00\n"
     ]
    },
    {
     "name": "stdout",
     "output_type": "stream",
     "text": [
      "198 instances of class polyp with average precision: 0.8411\n",
      "mAP: 0.8411\n",
      "\n",
      "Epoch 00046: mAP did not improve from 0.85502\n",
      "400/400 [==============================] - 40s 101ms/step - loss: 0.2188 - regression_loss: 0.1732 - classification_loss: 0.0456 - val_loss: 1.1350 - val_regression_loss: 0.8765 - val_classification_loss: 0.2585\n",
      "Epoch 47/50\n",
      "400/400 [==============================] - ETA: 0s - loss: 0.2202 - regression_loss: 0.1782 - classification_loss: 0.0420"
     ]
    },
    {
     "name": "stderr",
     "output_type": "stream",
     "text": [
      "Running network: 100% (180 of 180) |#####| Elapsed Time: 0:00:08 Time:  0:00:08\n",
      "Parsing annotations: 100% (180 of 180) |#| Elapsed Time: 0:00:00 Time:  0:00:00\n"
     ]
    },
    {
     "name": "stdout",
     "output_type": "stream",
     "text": [
      "198 instances of class polyp with average precision: 0.8404\n",
      "mAP: 0.8404\n",
      "\n",
      "Epoch 00047: mAP did not improve from 0.85502\n",
      "400/400 [==============================] - 40s 101ms/step - loss: 0.2202 - regression_loss: 0.1782 - classification_loss: 0.0420 - val_loss: 1.1360 - val_regression_loss: 0.8771 - val_classification_loss: 0.2589\n",
      "Epoch 48/50\n",
      "400/400 [==============================] - ETA: 0s - loss: 0.1979 - regression_loss: 0.1593 - classification_loss: 0.0386"
     ]
    },
    {
     "name": "stderr",
     "output_type": "stream",
     "text": [
      "Running network: 100% (180 of 180) |#####| Elapsed Time: 0:00:08 Time:  0:00:08\n",
      "Parsing annotations: 100% (180 of 180) |#| Elapsed Time: 0:00:00 Time:  0:00:00\n"
     ]
    },
    {
     "name": "stdout",
     "output_type": "stream",
     "text": [
      "198 instances of class polyp with average precision: 0.8411\n",
      "mAP: 0.8411\n",
      "\n",
      "Epoch 00048: mAP did not improve from 0.85502\n",
      "\n",
      "Epoch 00048: ReduceLROnPlateau reducing learning rate to 1.0000000656873453e-06.\n",
      "400/400 [==============================] - 40s 101ms/step - loss: 0.1979 - regression_loss: 0.1593 - classification_loss: 0.0386 - val_loss: 1.1357 - val_regression_loss: 0.8773 - val_classification_loss: 0.2584\n",
      "Epoch 49/50\n",
      "400/400 [==============================] - ETA: 0s - loss: 0.2061 - regression_loss: 0.1642 - classification_loss: 0.0419"
     ]
    },
    {
     "name": "stderr",
     "output_type": "stream",
     "text": [
      "Running network: 100% (180 of 180) |#####| Elapsed Time: 0:00:08 Time:  0:00:08\n",
      "Parsing annotations: 100% (180 of 180) |#| Elapsed Time: 0:00:00 Time:  0:00:00\n"
     ]
    },
    {
     "name": "stdout",
     "output_type": "stream",
     "text": [
      "198 instances of class polyp with average precision: 0.8412\n",
      "mAP: 0.8412\n",
      "\n",
      "Epoch 00049: mAP did not improve from 0.85502\n",
      "400/400 [==============================] - 41s 102ms/step - loss: 0.2061 - regression_loss: 0.1642 - classification_loss: 0.0419 - val_loss: 1.1356 - val_regression_loss: 0.8772 - val_classification_loss: 0.2584\n",
      "Epoch 50/50\n",
      "400/400 [==============================] - ETA: 0s - loss: 0.2141 - regression_loss: 0.1704 - classification_loss: 0.0437"
     ]
    },
    {
     "name": "stderr",
     "output_type": "stream",
     "text": [
      "Running network: 100% (180 of 180) |#####| Elapsed Time: 0:00:08 Time:  0:00:08\n",
      "Parsing annotations: 100% (180 of 180) |#| Elapsed Time: 0:00:00 Time:  0:00:00\n"
     ]
    },
    {
     "name": "stdout",
     "output_type": "stream",
     "text": [
      "198 instances of class polyp with average precision: 0.8412\n",
      "mAP: 0.8412\n",
      "\n",
      "Epoch 00050: mAP did not improve from 0.85502\n",
      "400/400 [==============================] - 41s 101ms/step - loss: 0.2141 - regression_loss: 0.1704 - classification_loss: 0.0437 - val_loss: 1.1355 - val_regression_loss: 0.8770 - val_classification_loss: 0.2585\n"
     ]
    }
   ],
   "source": [
    "history = training_model.fit(\n",
    "                x=train_generator,\n",
    "                epochs=epochs,\n",
    "                verbose=1,\n",
    "                validation_data=val_generator,\n",
    "                callbacks=callback,\n",
    "                steps_per_epoch = steps\n",
    "                )"
   ]
  },
  {
   "cell_type": "code",
   "execution_count": 13,
   "id": "ac303f1d-f708-4f78-8067-fd0e664325ed",
   "metadata": {
    "collapsed": true,
    "jupyter": {
     "outputs_hidden": true
    },
    "tags": []
   },
   "outputs": [
    {
     "data": {
      "image/png": "[encoded data removed]",
      "text/plain": [
       "<Figure size 936x1440 with 4 Axes>"
      ]
     },
     "metadata": {
      "needs_background": "light"
     },
     "output_type": "display_data"
    }
   ],
   "source": [
    "fig = './result/retinanet_resnet50.png'\n",
    "plot_history(history, fig, 'Polyp Detection Using RetinaNet (Backbone = ResNet50)', epochs)"
   ]
  },
  {
   "cell_type": "markdown",
   "id": "66604b81-bb30-4dfa-a1a3-cbdbbbc23bfc",
   "metadata": {},
   "source": [
    "## With Data Augmentation"
   ]
  },
  {
   "cell_type": "code",
   "execution_count": 14,
   "id": "04ba679c-120b-4ceb-9634-05e103bc2a79",
   "metadata": {},
   "outputs": [],
   "source": [
    "training_model_aug, prediction_model_aug = create_models(backbone_retinanet=backbone.retinanet,\n",
    "                                          num_classes=1,\n",
    "                                          weights=weights,\n",
    "                                          freeze_backbone=True,\n",
    "                                          lr=lr)"
   ]
  },
  {
   "cell_type": "code",
   "execution_count": 15,
   "id": "a44d841a-bce2-40a1-89fd-6cd1e3778dc8",
   "metadata": {},
   "outputs": [],
   "source": [
    "transform_generator = random_transform_generator(\n",
    "            min_rotation=-0.1,\n",
    "            max_rotation=0.1,\n",
    "            min_scaling=(0.9, 0.9),\n",
    "            max_scaling=(1.1, 1.1),\n",
    "            flip_x_chance=0.5,\n",
    "            flip_y_chance=0.5,\n",
    "        )\n",
    "visual_effect_generator = random_visual_effect_generator(\n",
    "            contrast_range=(0.9, 1.1),\n",
    "            brightness_range=(-.1, .1),\n",
    "        )"
   ]
  },
  {
   "cell_type": "code",
   "execution_count": 16,
   "id": "15bb92ad-ce03-41c0-8ef5-2588452749c2",
   "metadata": {},
   "outputs": [],
   "source": [
    "train_generator_aug = CSVGenerator(\n",
    "    csv_data_file='./dataset/train.csv',\n",
    "    csv_class_file='./dataset/class.csv',\n",
    "    no_resize = True,\n",
    "    preprocess_image  = backbone.preprocess_image,\n",
    "    transform_generator=transform_generator,\n",
    "    visual_effect_generator=visual_effect_generator\n",
    ")"
   ]
  },
  {
   "cell_type": "code",
   "execution_count": 17,
   "id": "9718217e-56e8-481c-95ef-f2baa92e78f5",
   "metadata": {},
   "outputs": [],
   "source": [
    "model_path_aug = './result/retinanet_resnet50_aug.h5'\n",
    "log_file_aug = './result/retinanet_resnet50_aug_log.csv'\n",
    "callback_aug = create_callbacks(training_model_aug, prediction_model_aug, val_generator, model_path_aug, log_file_aug)"
   ]
  },
  {
   "cell_type": "code",
   "execution_count": 18,
   "id": "6e82fdcf-8da5-4fd0-98cf-30a414f53280",
   "metadata": {
    "tags": []
   },
   "outputs": [
    {
     "name": "stdout",
     "output_type": "stream",
     "text": [
      "Epoch 1/50\n",
      "  2/400 [..............................] - ETA: 15s - loss: 3.9398 - regression_loss: 2.8090 - classification_loss: 1.1308WARNING:tensorflow:Callbacks method `on_train_batch_end` is slow compared to the batch time (batch time: 0.0120s vs `on_train_batch_end` time: 0.0659s). Check your callbacks.\n",
      "400/400 [==============================] - ETA: 0s - loss: 3.3968 - regression_loss: 2.5311 - classification_loss: 0.8657WARNING:tensorflow:Callbacks method `on_test_batch_end` is slow compared to the batch time (batch time: 0.0070s vs `on_test_batch_end` time: 0.0259s). Check your callbacks.\n"
     ]
    },
    {
     "name": "stderr",
     "output_type": "stream",
     "text": [
      "Running network: 100% (180 of 180) |#####| Elapsed Time: 0:00:09 Time:  0:00:09\n",
      "Parsing annotations: 100% (180 of 180) |#| Elapsed Time: 0:00:00 Time:  0:00:00\n"
     ]
    },
    {
     "name": "stdout",
     "output_type": "stream",
     "text": [
      "198 instances of class polyp with average precision: 0.0000\n",
      "mAP: 0.0000\n",
      "\n",
      "Epoch 00001: mAP improved from -inf to 0.00000, saving model to ./result\\retinanet_resnet50_aug.h5\n",
      "400/400 [==============================] - 44s 111ms/step - loss: 3.3968 - regression_loss: 2.5311 - classification_loss: 0.8657 - val_loss: 3.5501 - val_regression_loss: 2.4519 - val_classification_loss: 1.0982\n",
      "Epoch 2/50\n",
      "400/400 [==============================] - ETA: 0s - loss: 3.3961 - regression_loss: 2.3092 - classification_loss: 1.0869"
     ]
    },
    {
     "name": "stderr",
     "output_type": "stream",
     "text": [
      "Running network: 100% (180 of 180) |#####| Elapsed Time: 0:00:08 Time:  0:00:08\n",
      "Parsing annotations: 100% (180 of 180) |#| Elapsed Time: 0:00:00 Time:  0:00:00\n"
     ]
    },
    {
     "name": "stdout",
     "output_type": "stream",
     "text": [
      "198 instances of class polyp with average precision: 0.0000\n",
      "mAP: 0.0000\n",
      "\n",
      "Epoch 00002: mAP did not improve from 0.00000\n",
      "400/400 [==============================] - 41s 102ms/step - loss: 3.3961 - regression_loss: 2.3092 - classification_loss: 1.0869 - val_loss: 3.2917 - val_regression_loss: 2.2163 - val_classification_loss: 1.0754\n",
      "Epoch 3/50\n",
      "400/400 [==============================] - ETA: 0s - loss: 3.1191 - regression_loss: 2.0840 - classification_loss: 1.0351"
     ]
    },
    {
     "name": "stderr",
     "output_type": "stream",
     "text": [
      "Running network: 100% (180 of 180) |#####| Elapsed Time: 0:00:08 Time:  0:00:08\n",
      "Parsing annotations: 100% (180 of 180) |#| Elapsed Time: 0:00:00 Time:  0:00:00\n"
     ]
    },
    {
     "name": "stdout",
     "output_type": "stream",
     "text": [
      "198 instances of class polyp with average precision: 0.0000\n",
      "mAP: 0.0000\n",
      "\n",
      "Epoch 00003: mAP did not improve from 0.00000\n",
      "400/400 [==============================] - 41s 103ms/step - loss: 3.1191 - regression_loss: 2.0840 - classification_loss: 1.0351 - val_loss: 2.9118 - val_regression_loss: 1.8701 - val_classification_loss: 1.0417\n",
      "Epoch 4/50\n",
      "400/400 [==============================] - ETA: 0s - loss: 2.8414 - regression_loss: 1.8280 - classification_loss: 1.0133"
     ]
    },
    {
     "name": "stderr",
     "output_type": "stream",
     "text": [
      "Running network: 100% (180 of 180) |#####| Elapsed Time: 0:00:08 Time:  0:00:08\n",
      "Parsing annotations: 100% (180 of 180) |#| Elapsed Time: 0:00:00 Time:  0:00:00\n"
     ]
    },
    {
     "name": "stdout",
     "output_type": "stream",
     "text": [
      "198 instances of class polyp with average precision: 0.0000\n",
      "mAP: 0.0000\n",
      "\n",
      "Epoch 00004: mAP did not improve from 0.00000\n",
      "400/400 [==============================] - 41s 104ms/step - loss: 2.8414 - regression_loss: 1.8280 - classification_loss: 1.0133 - val_loss: 2.7251 - val_regression_loss: 1.7185 - val_classification_loss: 1.0066\n",
      "Epoch 5/50\n",
      "400/400 [==============================] - ETA: 0s - loss: 2.5899 - regression_loss: 1.6881 - classification_loss: 0.9018"
     ]
    },
    {
     "name": "stderr",
     "output_type": "stream",
     "text": [
      "Running network: 100% (180 of 180) |#####| Elapsed Time: 0:00:08 Time:  0:00:08\n",
      "Parsing annotations: 100% (180 of 180) |#| Elapsed Time: 0:00:00 Time:  0:00:00\n"
     ]
    },
    {
     "name": "stdout",
     "output_type": "stream",
     "text": [
      "198 instances of class polyp with average precision: 0.0000\n",
      "mAP: 0.0000\n",
      "\n",
      "Epoch 00005: mAP did not improve from 0.00000\n",
      "400/400 [==============================] - 42s 104ms/step - loss: 2.5899 - regression_loss: 1.6881 - classification_loss: 0.9018 - val_loss: 2.7137 - val_regression_loss: 1.7615 - val_classification_loss: 0.9522\n",
      "Epoch 6/50\n",
      "400/400 [==============================] - ETA: 0s - loss: 2.5413 - regression_loss: 1.6171 - classification_loss: 0.9242"
     ]
    },
    {
     "name": "stderr",
     "output_type": "stream",
     "text": [
      "Running network: 100% (180 of 180) |#####| Elapsed Time: 0:00:08 Time:  0:00:08\n",
      "Parsing annotations: 100% (180 of 180) |#| Elapsed Time: 0:00:00 Time:  0:00:00\n"
     ]
    },
    {
     "name": "stdout",
     "output_type": "stream",
     "text": [
      "198 instances of class polyp with average precision: 0.0000\n",
      "mAP: 0.0000\n",
      "\n",
      "Epoch 00006: mAP did not improve from 0.00000\n",
      "400/400 [==============================] - 42s 104ms/step - loss: 2.5413 - regression_loss: 1.6171 - classification_loss: 0.9242 - val_loss: 2.4697 - val_regression_loss: 1.5206 - val_classification_loss: 0.9491\n",
      "Epoch 7/50\n",
      "400/400 [==============================] - ETA: 0s - loss: 2.2802 - regression_loss: 1.5425 - classification_loss: 0.7377"
     ]
    },
    {
     "name": "stderr",
     "output_type": "stream",
     "text": [
      "Running network: 100% (180 of 180) |#####| Elapsed Time: 0:00:08 Time:  0:00:08\n",
      "Parsing annotations: 100% (180 of 180) |#| Elapsed Time: 0:00:00 Time:  0:00:00\n"
     ]
    },
    {
     "name": "stdout",
     "output_type": "stream",
     "text": [
      "198 instances of class polyp with average precision: 0.3722\n",
      "mAP: 0.3722\n",
      "\n",
      "Epoch 00007: mAP improved from 0.00000 to 0.37219, saving model to ./result\\retinanet_resnet50_aug.h5\n",
      "400/400 [==============================] - 43s 107ms/step - loss: 2.2802 - regression_loss: 1.5425 - classification_loss: 0.7377 - val_loss: 2.0857 - val_regression_loss: 1.4357 - val_classification_loss: 0.6500\n",
      "Epoch 8/50\n",
      "400/400 [==============================] - ETA: 0s - loss: 1.9614 - regression_loss: 1.4323 - classification_loss: 0.5290"
     ]
    },
    {
     "name": "stderr",
     "output_type": "stream",
     "text": [
      "Running network: 100% (180 of 180) |#####| Elapsed Time: 0:00:08 Time:  0:00:08\n",
      "Parsing annotations: 100% (180 of 180) |#| Elapsed Time: 0:00:00 Time:  0:00:00\n"
     ]
    },
    {
     "name": "stdout",
     "output_type": "stream",
     "text": [
      "198 instances of class polyp with average precision: 0.6053\n",
      "mAP: 0.6053\n",
      "\n",
      "Epoch 00008: mAP improved from 0.37219 to 0.60528, saving model to ./result\\retinanet_resnet50_aug.h5\n",
      "400/400 [==============================] - 43s 108ms/step - loss: 1.9614 - regression_loss: 1.4323 - classification_loss: 0.5290 - val_loss: 1.8495 - val_regression_loss: 1.3669 - val_classification_loss: 0.4826\n",
      "Epoch 9/50\n",
      "400/400 [==============================] - ETA: 0s - loss: 1.8419 - regression_loss: 1.4282 - classification_loss: 0.4137"
     ]
    },
    {
     "name": "stderr",
     "output_type": "stream",
     "text": [
      "Running network: 100% (180 of 180) |#####| Elapsed Time: 0:00:08 Time:  0:00:08\n",
      "Parsing annotations: 100% (180 of 180) |#| Elapsed Time: 0:00:00 Time:  0:00:00\n"
     ]
    },
    {
     "name": "stdout",
     "output_type": "stream",
     "text": [
      "198 instances of class polyp with average precision: 0.6817\n",
      "mAP: 0.6817\n",
      "\n",
      "Epoch 00009: mAP improved from 0.60528 to 0.68168, saving model to ./result\\retinanet_resnet50_aug.h5\n",
      "400/400 [==============================] - 43s 108ms/step - loss: 1.8419 - regression_loss: 1.4282 - classification_loss: 0.4137 - val_loss: 1.7514 - val_regression_loss: 1.3875 - val_classification_loss: 0.3639\n",
      "Epoch 10/50\n",
      "400/400 [==============================] - ETA: 0s - loss: 1.6947 - regression_loss: 1.3229 - classification_loss: 0.3717"
     ]
    },
    {
     "name": "stderr",
     "output_type": "stream",
     "text": [
      "Running network: 100% (180 of 180) |#####| Elapsed Time: 0:00:08 Time:  0:00:08\n",
      "Parsing annotations: 100% (180 of 180) |#| Elapsed Time: 0:00:00 Time:  0:00:00\n"
     ]
    },
    {
     "name": "stdout",
     "output_type": "stream",
     "text": [
      "198 instances of class polyp with average precision: 0.6288\n",
      "mAP: 0.6288\n",
      "\n",
      "Epoch 00010: mAP did not improve from 0.68168\n",
      "400/400 [==============================] - 42s 106ms/step - loss: 1.6947 - regression_loss: 1.3229 - classification_loss: 0.3717 - val_loss: 1.7804 - val_regression_loss: 1.3753 - val_classification_loss: 0.4052\n",
      "Epoch 11/50\n",
      "400/400 [==============================] - ETA: 0s - loss: 1.6136 - regression_loss: 1.2792 - classification_loss: 0.3344"
     ]
    },
    {
     "name": "stderr",
     "output_type": "stream",
     "text": [
      "Running network: 100% (180 of 180) |#####| Elapsed Time: 0:00:08 Time:  0:00:08\n",
      "Parsing annotations: 100% (180 of 180) |#| Elapsed Time: 0:00:00 Time:  0:00:00\n"
     ]
    },
    {
     "name": "stdout",
     "output_type": "stream",
     "text": [
      "198 instances of class polyp with average precision: 0.7650\n",
      "mAP: 0.7650\n",
      "\n",
      "Epoch 00011: mAP improved from 0.68168 to 0.76496, saving model to ./result\\retinanet_resnet50_aug.h5\n",
      "400/400 [==============================] - 43s 108ms/step - loss: 1.6136 - regression_loss: 1.2792 - classification_loss: 0.3344 - val_loss: 1.6942 - val_regression_loss: 1.2669 - val_classification_loss: 0.4273\n",
      "Epoch 12/50\n",
      "400/400 [==============================] - ETA: 0s - loss: 1.6292 - regression_loss: 1.2763 - classification_loss: 0.3529"
     ]
    },
    {
     "name": "stderr",
     "output_type": "stream",
     "text": [
      "Running network: 100% (180 of 180) |#####| Elapsed Time: 0:00:08 Time:  0:00:08\n",
      "Parsing annotations: 100% (180 of 180) |#| Elapsed Time: 0:00:00 Time:  0:00:00\n"
     ]
    },
    {
     "name": "stdout",
     "output_type": "stream",
     "text": [
      "198 instances of class polyp with average precision: 0.7561\n",
      "mAP: 0.7561\n",
      "\n",
      "Epoch 00012: mAP did not improve from 0.76496\n",
      "400/400 [==============================] - 42s 105ms/step - loss: 1.6292 - regression_loss: 1.2763 - classification_loss: 0.3529 - val_loss: 1.6128 - val_regression_loss: 1.2782 - val_classification_loss: 0.3346\n",
      "Epoch 13/50\n",
      "400/400 [==============================] - ETA: 0s - loss: 1.5696 - regression_loss: 1.2379 - classification_loss: 0.3318"
     ]
    },
    {
     "name": "stderr",
     "output_type": "stream",
     "text": [
      "Running network: 100% (180 of 180) |#####| Elapsed Time: 0:00:08 Time:  0:00:08\n",
      "Parsing annotations: 100% (180 of 180) |#| Elapsed Time: 0:00:00 Time:  0:00:00\n"
     ]
    },
    {
     "name": "stdout",
     "output_type": "stream",
     "text": [
      "198 instances of class polyp with average precision: 0.7461\n",
      "mAP: 0.7461\n",
      "\n",
      "Epoch 00013: mAP did not improve from 0.76496\n",
      "400/400 [==============================] - 42s 106ms/step - loss: 1.5696 - regression_loss: 1.2379 - classification_loss: 0.3318 - val_loss: 1.6852 - val_regression_loss: 1.3736 - val_classification_loss: 0.3116\n",
      "Epoch 14/50\n",
      "400/400 [==============================] - ETA: 0s - loss: 1.5075 - regression_loss: 1.2145 - classification_loss: 0.2931"
     ]
    },
    {
     "name": "stderr",
     "output_type": "stream",
     "text": [
      "Running network: 100% (180 of 180) |#####| Elapsed Time: 0:00:09 Time:  0:00:09\n",
      "Parsing annotations: 100% (180 of 180) |#| Elapsed Time: 0:00:00 Time:  0:00:00\n"
     ]
    },
    {
     "name": "stdout",
     "output_type": "stream",
     "text": [
      "198 instances of class polyp with average precision: 0.7080\n",
      "mAP: 0.7080\n",
      "\n",
      "Epoch 00014: mAP did not improve from 0.76496\n",
      "400/400 [==============================] - 42s 105ms/step - loss: 1.5075 - regression_loss: 1.2145 - classification_loss: 0.2931 - val_loss: 1.7626 - val_regression_loss: 1.3757 - val_classification_loss: 0.3869\n",
      "Epoch 15/50\n",
      "400/400 [==============================] - ETA: 0s - loss: 1.4966 - regression_loss: 1.2048 - classification_loss: 0.2918"
     ]
    },
    {
     "name": "stderr",
     "output_type": "stream",
     "text": [
      "Running network: 100% (180 of 180) |#####| Elapsed Time: 0:00:08 Time:  0:00:08\n",
      "Parsing annotations: 100% (180 of 180) |#| Elapsed Time: 0:00:00 Time:  0:00:00\n"
     ]
    },
    {
     "name": "stdout",
     "output_type": "stream",
     "text": [
      "198 instances of class polyp with average precision: 0.7562\n",
      "mAP: 0.7562\n",
      "\n",
      "Epoch 00015: mAP did not improve from 0.76496\n",
      "400/400 [==============================] - 41s 103ms/step - loss: 1.4966 - regression_loss: 1.2048 - classification_loss: 0.2918 - val_loss: 1.5031 - val_regression_loss: 1.2159 - val_classification_loss: 0.2872\n",
      "Epoch 16/50\n",
      "400/400 [==============================] - ETA: 0s - loss: 1.4327 - regression_loss: 1.1468 - classification_loss: 0.2858"
     ]
    },
    {
     "name": "stderr",
     "output_type": "stream",
     "text": [
      "Running network: 100% (180 of 180) |#####| Elapsed Time: 0:00:08 Time:  0:00:08\n",
      "Parsing annotations: 100% (180 of 180) |#| Elapsed Time: 0:00:00 Time:  0:00:00\n"
     ]
    },
    {
     "name": "stdout",
     "output_type": "stream",
     "text": [
      "198 instances of class polyp with average precision: 0.7545\n",
      "mAP: 0.7545\n",
      "\n",
      "Epoch 00016: mAP did not improve from 0.76496\n",
      "400/400 [==============================] - 41s 102ms/step - loss: 1.4327 - regression_loss: 1.1468 - classification_loss: 0.2858 - val_loss: 1.4948 - val_regression_loss: 1.1892 - val_classification_loss: 0.3056\n",
      "Epoch 17/50\n",
      "400/400 [==============================] - ETA: 0s - loss: 1.4383 - regression_loss: 1.1101 - classification_loss: 0.3281"
     ]
    },
    {
     "name": "stderr",
     "output_type": "stream",
     "text": [
      "Running network: 100% (180 of 180) |#####| Elapsed Time: 0:00:08 Time:  0:00:08\n",
      "Parsing annotations: 100% (180 of 180) |#| Elapsed Time: 0:00:00 Time:  0:00:00\n"
     ]
    },
    {
     "name": "stdout",
     "output_type": "stream",
     "text": [
      "198 instances of class polyp with average precision: 0.7792\n",
      "mAP: 0.7792\n",
      "\n",
      "Epoch 00017: mAP improved from 0.76496 to 0.77918, saving model to ./result\\retinanet_resnet50_aug.h5\n",
      "400/400 [==============================] - 43s 107ms/step - loss: 1.4383 - regression_loss: 1.1101 - classification_loss: 0.3281 - val_loss: 1.3894 - val_regression_loss: 1.1266 - val_classification_loss: 0.2628\n",
      "Epoch 18/50\n",
      "400/400 [==============================] - ETA: 0s - loss: 1.4463 - regression_loss: 1.1467 - classification_loss: 0.2997"
     ]
    },
    {
     "name": "stderr",
     "output_type": "stream",
     "text": [
      "Running network: 100% (180 of 180) |#####| Elapsed Time: 0:00:08 Time:  0:00:08\n",
      "Parsing annotations: 100% (180 of 180) |#| Elapsed Time: 0:00:00 Time:  0:00:00\n"
     ]
    },
    {
     "name": "stdout",
     "output_type": "stream",
     "text": [
      "198 instances of class polyp with average precision: 0.8006\n",
      "mAP: 0.8006\n",
      "\n",
      "Epoch 00018: mAP improved from 0.77918 to 0.80059, saving model to ./result\\retinanet_resnet50_aug.h5\n",
      "400/400 [==============================] - 43s 107ms/step - loss: 1.4463 - regression_loss: 1.1467 - classification_loss: 0.2997 - val_loss: 1.4391 - val_regression_loss: 1.1646 - val_classification_loss: 0.2745\n",
      "Epoch 19/50\n",
      "400/400 [==============================] - ETA: 0s - loss: 1.3997 - regression_loss: 1.1300 - classification_loss: 0.2697"
     ]
    },
    {
     "name": "stderr",
     "output_type": "stream",
     "text": [
      "Running network: 100% (180 of 180) |#####| Elapsed Time: 0:00:08 Time:  0:00:08\n",
      "Parsing annotations: 100% (180 of 180) |#| Elapsed Time: 0:00:00 Time:  0:00:00\n"
     ]
    },
    {
     "name": "stdout",
     "output_type": "stream",
     "text": [
      "198 instances of class polyp with average precision: 0.7908\n",
      "mAP: 0.7908\n",
      "\n",
      "Epoch 00019: mAP did not improve from 0.80059\n",
      "400/400 [==============================] - 41s 103ms/step - loss: 1.3997 - regression_loss: 1.1300 - classification_loss: 0.2697 - val_loss: 1.4068 - val_regression_loss: 1.1353 - val_classification_loss: 0.2715\n",
      "Epoch 20/50\n",
      "400/400 [==============================] - ETA: 0s - loss: 1.2747 - regression_loss: 1.0470 - classification_loss: 0.2276"
     ]
    },
    {
     "name": "stderr",
     "output_type": "stream",
     "text": [
      "Running network: 100% (180 of 180) |#####| Elapsed Time: 0:00:08 Time:  0:00:08\n",
      "Parsing annotations: 100% (180 of 180) |#| Elapsed Time: 0:00:00 Time:  0:00:00\n"
     ]
    },
    {
     "name": "stdout",
     "output_type": "stream",
     "text": [
      "198 instances of class polyp with average precision: 0.8159\n",
      "mAP: 0.8159\n",
      "\n",
      "Epoch 00020: mAP improved from 0.80059 to 0.81594, saving model to ./result\\retinanet_resnet50_aug.h5\n",
      "400/400 [==============================] - 42s 106ms/step - loss: 1.2747 - regression_loss: 1.0470 - classification_loss: 0.2276 - val_loss: 1.3718 - val_regression_loss: 1.1218 - val_classification_loss: 0.2500\n",
      "Epoch 21/50\n",
      "400/400 [==============================] - ETA: 0s - loss: 1.2644 - regression_loss: 1.0294 - classification_loss: 0.2349"
     ]
    },
    {
     "name": "stderr",
     "output_type": "stream",
     "text": [
      "Running network: 100% (180 of 180) |#####| Elapsed Time: 0:00:08 Time:  0:00:08\n",
      "Parsing annotations: 100% (180 of 180) |#| Elapsed Time: 0:00:00 Time:  0:00:00\n"
     ]
    },
    {
     "name": "stdout",
     "output_type": "stream",
     "text": [
      "198 instances of class polyp with average precision: 0.8266\n",
      "mAP: 0.8266\n",
      "\n",
      "Epoch 00021: mAP improved from 0.81594 to 0.82664, saving model to ./result\\retinanet_resnet50_aug.h5\n",
      "400/400 [==============================] - 43s 107ms/step - loss: 1.2644 - regression_loss: 1.0294 - classification_loss: 0.2349 - val_loss: 1.3531 - val_regression_loss: 1.1150 - val_classification_loss: 0.2381\n",
      "Epoch 22/50\n",
      "400/400 [==============================] - ETA: 0s - loss: 1.2741 - regression_loss: 1.0412 - classification_loss: 0.2328"
     ]
    },
    {
     "name": "stderr",
     "output_type": "stream",
     "text": [
      "Running network: 100% (180 of 180) |#####| Elapsed Time: 0:00:08 Time:  0:00:08\n",
      "Parsing annotations: 100% (180 of 180) |#| Elapsed Time: 0:00:00 Time:  0:00:00\n"
     ]
    },
    {
     "name": "stdout",
     "output_type": "stream",
     "text": [
      "198 instances of class polyp with average precision: 0.8183\n",
      "mAP: 0.8183\n",
      "\n",
      "Epoch 00022: mAP did not improve from 0.82664\n",
      "400/400 [==============================] - 41s 103ms/step - loss: 1.2741 - regression_loss: 1.0412 - classification_loss: 0.2328 - val_loss: 1.3667 - val_regression_loss: 1.1360 - val_classification_loss: 0.2307\n",
      "Epoch 23/50\n",
      "400/400 [==============================] - ETA: 0s - loss: 1.2693 - regression_loss: 1.0409 - classification_loss: 0.2284"
     ]
    },
    {
     "name": "stderr",
     "output_type": "stream",
     "text": [
      "Running network: 100% (180 of 180) |#####| Elapsed Time: 0:00:08 Time:  0:00:08\n",
      "Parsing annotations: 100% (180 of 180) |#| Elapsed Time: 0:00:00 Time:  0:00:00\n"
     ]
    },
    {
     "name": "stdout",
     "output_type": "stream",
     "text": [
      "198 instances of class polyp with average precision: 0.8180\n",
      "mAP: 0.8180\n",
      "\n",
      "Epoch 00023: mAP did not improve from 0.82664\n",
      "400/400 [==============================] - 41s 102ms/step - loss: 1.2693 - regression_loss: 1.0409 - classification_loss: 0.2284 - val_loss: 1.3939 - val_regression_loss: 1.1615 - val_classification_loss: 0.2324\n",
      "Epoch 24/50\n",
      "400/400 [==============================] - ETA: 0s - loss: 1.1627 - regression_loss: 0.9547 - classification_loss: 0.2081"
     ]
    },
    {
     "name": "stderr",
     "output_type": "stream",
     "text": [
      "Running network: 100% (180 of 180) |#####| Elapsed Time: 0:00:08 Time:  0:00:08\n",
      "Parsing annotations: 100% (180 of 180) |#| Elapsed Time: 0:00:00 Time:  0:00:00\n"
     ]
    },
    {
     "name": "stdout",
     "output_type": "stream",
     "text": [
      "198 instances of class polyp with average precision: 0.8090\n",
      "mAP: 0.8090\n",
      "\n",
      "Epoch 00024: mAP did not improve from 0.82664\n",
      "400/400 [==============================] - 41s 102ms/step - loss: 1.1627 - regression_loss: 0.9547 - classification_loss: 0.2081 - val_loss: 1.3782 - val_regression_loss: 1.1353 - val_classification_loss: 0.2430\n",
      "Epoch 25/50\n",
      "400/400 [==============================] - ETA: 0s - loss: 1.2576 - regression_loss: 1.0287 - classification_loss: 0.2288"
     ]
    },
    {
     "name": "stderr",
     "output_type": "stream",
     "text": [
      "Running network: 100% (180 of 180) |#####| Elapsed Time: 0:00:08 Time:  0:00:08\n",
      "Parsing annotations: 100% (180 of 180) |#| Elapsed Time: 0:00:00 Time:  0:00:00\n"
     ]
    },
    {
     "name": "stdout",
     "output_type": "stream",
     "text": [
      "198 instances of class polyp with average precision: 0.8112\n",
      "mAP: 0.8112\n",
      "\n",
      "Epoch 00025: mAP did not improve from 0.82664\n",
      "400/400 [==============================] - 41s 102ms/step - loss: 1.2576 - regression_loss: 1.0287 - classification_loss: 0.2288 - val_loss: 1.4582 - val_regression_loss: 1.2189 - val_classification_loss: 0.2393\n",
      "Epoch 26/50\n",
      "400/400 [==============================] - ETA: 0s - loss: 1.0870 - regression_loss: 0.8911 - classification_loss: 0.1960"
     ]
    },
    {
     "name": "stderr",
     "output_type": "stream",
     "text": [
      "Running network: 100% (180 of 180) |#####| Elapsed Time: 0:00:08 Time:  0:00:08\n",
      "Parsing annotations: 100% (180 of 180) |#| Elapsed Time: 0:00:00 Time:  0:00:00\n"
     ]
    },
    {
     "name": "stdout",
     "output_type": "stream",
     "text": [
      "198 instances of class polyp with average precision: 0.8262\n",
      "mAP: 0.8262\n",
      "\n",
      "Epoch 00026: mAP did not improve from 0.82664\n",
      "400/400 [==============================] - 41s 102ms/step - loss: 1.0870 - regression_loss: 0.8911 - classification_loss: 0.1960 - val_loss: 1.3248 - val_regression_loss: 1.0933 - val_classification_loss: 0.2315\n",
      "Epoch 27/50\n",
      "400/400 [==============================] - ETA: 0s - loss: 1.2022 - regression_loss: 0.9851 - classification_loss: 0.2171"
     ]
    },
    {
     "name": "stderr",
     "output_type": "stream",
     "text": [
      "Running network: 100% (180 of 180) |#####| Elapsed Time: 0:00:08 Time:  0:00:08\n",
      "Parsing annotations: 100% (180 of 180) |#| Elapsed Time: 0:00:00 Time:  0:00:00\n"
     ]
    },
    {
     "name": "stdout",
     "output_type": "stream",
     "text": [
      "198 instances of class polyp with average precision: 0.8409\n",
      "mAP: 0.8409\n",
      "\n",
      "Epoch 00027: mAP improved from 0.82664 to 0.84087, saving model to ./result\\retinanet_resnet50_aug.h5\n",
      "400/400 [==============================] - 42s 106ms/step - loss: 1.2022 - regression_loss: 0.9851 - classification_loss: 0.2171 - val_loss: 1.3658 - val_regression_loss: 1.1474 - val_classification_loss: 0.2184\n",
      "Epoch 28/50\n",
      "400/400 [==============================] - ETA: 0s - loss: 1.1156 - regression_loss: 0.9102 - classification_loss: 0.2054"
     ]
    },
    {
     "name": "stderr",
     "output_type": "stream",
     "text": [
      "Running network: 100% (180 of 180) |#####| Elapsed Time: 0:00:08 Time:  0:00:08\n",
      "Parsing annotations: 100% (180 of 180) |#| Elapsed Time: 0:00:00 Time:  0:00:00\n"
     ]
    },
    {
     "name": "stdout",
     "output_type": "stream",
     "text": [
      "198 instances of class polyp with average precision: 0.8361\n",
      "mAP: 0.8361\n",
      "\n",
      "Epoch 00028: mAP did not improve from 0.84087\n",
      "400/400 [==============================] - 41s 102ms/step - loss: 1.1156 - regression_loss: 0.9102 - classification_loss: 0.2054 - val_loss: 1.2789 - val_regression_loss: 1.0643 - val_classification_loss: 0.2146\n",
      "Epoch 29/50\n",
      "400/400 [==============================] - ETA: 0s - loss: 1.1478 - regression_loss: 0.9368 - classification_loss: 0.2110"
     ]
    },
    {
     "name": "stderr",
     "output_type": "stream",
     "text": [
      "Running network: 100% (180 of 180) |#####| Elapsed Time: 0:00:08 Time:  0:00:08\n",
      "Parsing annotations: 100% (180 of 180) |#| Elapsed Time: 0:00:00 Time:  0:00:00\n"
     ]
    },
    {
     "name": "stdout",
     "output_type": "stream",
     "text": [
      "198 instances of class polyp with average precision: 0.8313\n",
      "mAP: 0.8313\n",
      "\n",
      "Epoch 00029: mAP did not improve from 0.84087\n",
      "400/400 [==============================] - 41s 102ms/step - loss: 1.1478 - regression_loss: 0.9368 - classification_loss: 0.2110 - val_loss: 1.2754 - val_regression_loss: 1.0508 - val_classification_loss: 0.2247\n",
      "Epoch 30/50\n",
      "400/400 [==============================] - ETA: 0s - loss: 1.1210 - regression_loss: 0.9228 - classification_loss: 0.1982"
     ]
    },
    {
     "name": "stderr",
     "output_type": "stream",
     "text": [
      "Running network: 100% (180 of 180) |#####| Elapsed Time: 0:00:08 Time:  0:00:08\n",
      "Parsing annotations: 100% (180 of 180) |#| Elapsed Time: 0:00:00 Time:  0:00:00\n"
     ]
    },
    {
     "name": "stdout",
     "output_type": "stream",
     "text": [
      "198 instances of class polyp with average precision: 0.8430\n",
      "mAP: 0.8430\n",
      "\n",
      "Epoch 00030: mAP improved from 0.84087 to 0.84303, saving model to ./result\\retinanet_resnet50_aug.h5\n",
      "400/400 [==============================] - 42s 106ms/step - loss: 1.1210 - regression_loss: 0.9228 - classification_loss: 0.1982 - val_loss: 1.2023 - val_regression_loss: 0.9850 - val_classification_loss: 0.2173\n",
      "Epoch 31/50\n",
      "400/400 [==============================] - ETA: 0s - loss: 1.1260 - regression_loss: 0.9211 - classification_loss: 0.2049"
     ]
    },
    {
     "name": "stderr",
     "output_type": "stream",
     "text": [
      "Running network: 100% (180 of 180) |#####| Elapsed Time: 0:00:08 Time:  0:00:08\n",
      "Parsing annotations: 100% (180 of 180) |#| Elapsed Time: 0:00:00 Time:  0:00:00\n"
     ]
    },
    {
     "name": "stdout",
     "output_type": "stream",
     "text": [
      "198 instances of class polyp with average precision: 0.8232\n",
      "mAP: 0.8232\n",
      "\n",
      "Epoch 00031: mAP did not improve from 0.84303\n",
      "400/400 [==============================] - 41s 102ms/step - loss: 1.1260 - regression_loss: 0.9211 - classification_loss: 0.2049 - val_loss: 1.3510 - val_regression_loss: 1.1123 - val_classification_loss: 0.2387\n",
      "Epoch 32/50\n",
      "400/400 [==============================] - ETA: 0s - loss: 1.1032 - regression_loss: 0.9076 - classification_loss: 0.1955"
     ]
    },
    {
     "name": "stderr",
     "output_type": "stream",
     "text": [
      "Running network: 100% (180 of 180) |#####| Elapsed Time: 0:00:08 Time:  0:00:08\n",
      "Parsing annotations: 100% (180 of 180) |#| Elapsed Time: 0:00:00 Time:  0:00:00\n"
     ]
    },
    {
     "name": "stdout",
     "output_type": "stream",
     "text": [
      "198 instances of class polyp with average precision: 0.8474\n",
      "mAP: 0.8474\n",
      "\n",
      "Epoch 00032: mAP improved from 0.84303 to 0.84742, saving model to ./result\\retinanet_resnet50_aug.h5\n",
      "400/400 [==============================] - 42s 106ms/step - loss: 1.1032 - regression_loss: 0.9076 - classification_loss: 0.1955 - val_loss: 1.2511 - val_regression_loss: 1.0298 - val_classification_loss: 0.2213\n",
      "Epoch 33/50\n",
      "400/400 [==============================] - ETA: 0s - loss: 1.0731 - regression_loss: 0.8781 - classification_loss: 0.1949"
     ]
    },
    {
     "name": "stderr",
     "output_type": "stream",
     "text": [
      "Running network: 100% (180 of 180) |#####| Elapsed Time: 0:00:08 Time:  0:00:08\n",
      "Parsing annotations: 100% (180 of 180) |#| Elapsed Time: 0:00:00 Time:  0:00:00\n"
     ]
    },
    {
     "name": "stdout",
     "output_type": "stream",
     "text": [
      "198 instances of class polyp with average precision: 0.8511\n",
      "mAP: 0.8511\n",
      "\n",
      "Epoch 00033: mAP improved from 0.84742 to 0.85114, saving model to ./result\\retinanet_resnet50_aug.h5\n",
      "400/400 [==============================] - 42s 106ms/step - loss: 1.0731 - regression_loss: 0.8781 - classification_loss: 0.1949 - val_loss: 1.2263 - val_regression_loss: 1.0205 - val_classification_loss: 0.2058\n",
      "Epoch 34/50\n",
      "400/400 [==============================] - ETA: 0s - loss: 1.0593 - regression_loss: 0.8709 - classification_loss: 0.1884"
     ]
    },
    {
     "name": "stderr",
     "output_type": "stream",
     "text": [
      "Running network: 100% (180 of 180) |#####| Elapsed Time: 0:00:08 Time:  0:00:08\n",
      "Parsing annotations: 100% (180 of 180) |#| Elapsed Time: 0:00:00 Time:  0:00:00\n"
     ]
    },
    {
     "name": "stdout",
     "output_type": "stream",
     "text": [
      "198 instances of class polyp with average precision: 0.8523\n",
      "mAP: 0.8523\n",
      "\n",
      "Epoch 00034: mAP improved from 0.85114 to 0.85227, saving model to ./result\\retinanet_resnet50_aug.h5\n",
      "400/400 [==============================] - 42s 106ms/step - loss: 1.0593 - regression_loss: 0.8709 - classification_loss: 0.1884 - val_loss: 1.2823 - val_regression_loss: 1.0657 - val_classification_loss: 0.2166\n",
      "Epoch 35/50\n",
      "400/400 [==============================] - ETA: 0s - loss: 1.0241 - regression_loss: 0.8450 - classification_loss: 0.1791"
     ]
    },
    {
     "name": "stderr",
     "output_type": "stream",
     "text": [
      "Running network: 100% (180 of 180) |#####| Elapsed Time: 0:00:08 Time:  0:00:08\n",
      "Parsing annotations: 100% (180 of 180) |#| Elapsed Time: 0:00:00 Time:  0:00:00\n"
     ]
    },
    {
     "name": "stdout",
     "output_type": "stream",
     "text": [
      "198 instances of class polyp with average precision: 0.8597\n",
      "mAP: 0.8597\n",
      "\n",
      "Epoch 00035: mAP improved from 0.85227 to 0.85975, saving model to ./result\\retinanet_resnet50_aug.h5\n",
      "\n",
      "Epoch 00035: ReduceLROnPlateau reducing learning rate to 0.00010000000474974513.\n",
      "400/400 [==============================] - 42s 106ms/step - loss: 1.0241 - regression_loss: 0.8450 - classification_loss: 0.1791 - val_loss: 1.3114 - val_regression_loss: 1.1011 - val_classification_loss: 0.2104\n",
      "Epoch 36/50\n",
      "400/400 [==============================] - ETA: 0s - loss: 1.0473 - regression_loss: 0.8588 - classification_loss: 0.1885"
     ]
    },
    {
     "name": "stderr",
     "output_type": "stream",
     "text": [
      "Running network: 100% (180 of 180) |#####| Elapsed Time: 0:00:08 Time:  0:00:08\n",
      "Parsing annotations: 100% (180 of 180) |#| Elapsed Time: 0:00:00 Time:  0:00:00\n"
     ]
    },
    {
     "name": "stdout",
     "output_type": "stream",
     "text": [
      "198 instances of class polyp with average precision: 0.8580\n",
      "mAP: 0.8580\n",
      "\n",
      "Epoch 00036: mAP did not improve from 0.85975\n",
      "400/400 [==============================] - 41s 102ms/step - loss: 1.0473 - regression_loss: 0.8588 - classification_loss: 0.1885 - val_loss: 1.2311 - val_regression_loss: 1.0260 - val_classification_loss: 0.2051\n",
      "Epoch 37/50\n",
      "400/400 [==============================] - ETA: 0s - loss: 0.9521 - regression_loss: 0.7872 - classification_loss: 0.1649"
     ]
    },
    {
     "name": "stderr",
     "output_type": "stream",
     "text": [
      "Running network: 100% (180 of 180) |#####| Elapsed Time: 0:00:08 Time:  0:00:08\n",
      "Parsing annotations: 100% (180 of 180) |#| Elapsed Time: 0:00:00 Time:  0:00:00\n"
     ]
    },
    {
     "name": "stdout",
     "output_type": "stream",
     "text": [
      "198 instances of class polyp with average precision: 0.8602\n",
      "mAP: 0.8602\n",
      "\n",
      "Epoch 00037: mAP improved from 0.85975 to 0.86017, saving model to ./result\\retinanet_resnet50_aug.h5\n",
      "400/400 [==============================] - 42s 105ms/step - loss: 0.9521 - regression_loss: 0.7872 - classification_loss: 0.1649 - val_loss: 1.1833 - val_regression_loss: 0.9811 - val_classification_loss: 0.2022\n",
      "Epoch 38/50\n",
      "400/400 [==============================] - ETA: 0s - loss: 0.9395 - regression_loss: 0.7761 - classification_loss: 0.1634"
     ]
    },
    {
     "name": "stderr",
     "output_type": "stream",
     "text": [
      "Running network: 100% (180 of 180) |#####| Elapsed Time: 0:00:08 Time:  0:00:08\n",
      "Parsing annotations: 100% (180 of 180) |#| Elapsed Time: 0:00:00 Time:  0:00:00\n"
     ]
    },
    {
     "name": "stdout",
     "output_type": "stream",
     "text": [
      "198 instances of class polyp with average precision: 0.8628\n",
      "mAP: 0.8628\n",
      "\n",
      "Epoch 00038: mAP improved from 0.86017 to 0.86281, saving model to ./result\\retinanet_resnet50_aug.h5\n",
      "400/400 [==============================] - 42s 106ms/step - loss: 0.9395 - regression_loss: 0.7761 - classification_loss: 0.1634 - val_loss: 1.1712 - val_regression_loss: 0.9732 - val_classification_loss: 0.1979\n",
      "Epoch 39/50\n",
      "400/400 [==============================] - ETA: 0s - loss: 0.9405 - regression_loss: 0.7739 - classification_loss: 0.1666"
     ]
    },
    {
     "name": "stderr",
     "output_type": "stream",
     "text": [
      "Running network: 100% (180 of 180) |#####| Elapsed Time: 0:00:08 Time:  0:00:08\n",
      "Parsing annotations: 100% (180 of 180) |#| Elapsed Time: 0:00:00 Time:  0:00:00\n"
     ]
    },
    {
     "name": "stdout",
     "output_type": "stream",
     "text": [
      "198 instances of class polyp with average precision: 0.8621\n",
      "mAP: 0.8621\n",
      "\n",
      "Epoch 00039: mAP did not improve from 0.86281\n",
      "400/400 [==============================] - 41s 102ms/step - loss: 0.9405 - regression_loss: 0.7739 - classification_loss: 0.1666 - val_loss: 1.1895 - val_regression_loss: 0.9939 - val_classification_loss: 0.1956\n",
      "Epoch 40/50\n",
      "400/400 [==============================] - ETA: 0s - loss: 0.9450 - regression_loss: 0.7740 - classification_loss: 0.1711"
     ]
    },
    {
     "name": "stderr",
     "output_type": "stream",
     "text": [
      "Running network: 100% (180 of 180) |#####| Elapsed Time: 0:00:08 Time:  0:00:08\n",
      "Parsing annotations: 100% (180 of 180) |#| Elapsed Time: 0:00:00 Time:  0:00:00\n"
     ]
    },
    {
     "name": "stdout",
     "output_type": "stream",
     "text": [
      "198 instances of class polyp with average precision: 0.8616\n",
      "mAP: 0.8616\n",
      "\n",
      "Epoch 00040: mAP did not improve from 0.86281\n",
      "400/400 [==============================] - 41s 102ms/step - loss: 0.9450 - regression_loss: 0.7740 - classification_loss: 0.1711 - val_loss: 1.1560 - val_regression_loss: 0.9616 - val_classification_loss: 0.1944\n",
      "Epoch 41/50\n",
      "400/400 [==============================] - ETA: 0s - loss: 0.9006 - regression_loss: 0.7370 - classification_loss: 0.1636"
     ]
    },
    {
     "name": "stderr",
     "output_type": "stream",
     "text": [
      "Running network: 100% (180 of 180) |#####| Elapsed Time: 0:00:08 Time:  0:00:08\n",
      "Parsing annotations: 100% (180 of 180) |#| Elapsed Time: 0:00:00 Time:  0:00:00\n"
     ]
    },
    {
     "name": "stdout",
     "output_type": "stream",
     "text": [
      "198 instances of class polyp with average precision: 0.8633\n",
      "mAP: 0.8633\n",
      "\n",
      "Epoch 00041: mAP improved from 0.86281 to 0.86332, saving model to ./result\\retinanet_resnet50_aug.h5\n",
      "400/400 [==============================] - 42s 105ms/step - loss: 0.9006 - regression_loss: 0.7370 - classification_loss: 0.1636 - val_loss: 1.1741 - val_regression_loss: 0.9784 - val_classification_loss: 0.1956\n",
      "Epoch 42/50\n",
      "400/400 [==============================] - ETA: 0s - loss: 0.9699 - regression_loss: 0.7888 - classification_loss: 0.1811"
     ]
    },
    {
     "name": "stderr",
     "output_type": "stream",
     "text": [
      "Running network: 100% (180 of 180) |#####| Elapsed Time: 0:00:08 Time:  0:00:08\n",
      "Parsing annotations: 100% (180 of 180) |#| Elapsed Time: 0:00:00 Time:  0:00:00\n"
     ]
    },
    {
     "name": "stdout",
     "output_type": "stream",
     "text": [
      "198 instances of class polyp with average precision: 0.8602\n",
      "mAP: 0.8602\n",
      "\n",
      "Epoch 00042: mAP did not improve from 0.86332\n",
      "400/400 [==============================] - 41s 102ms/step - loss: 0.9699 - regression_loss: 0.7888 - classification_loss: 0.1811 - val_loss: 1.1797 - val_regression_loss: 0.9846 - val_classification_loss: 0.1951\n",
      "Epoch 43/50\n",
      "400/400 [==============================] - ETA: 0s - loss: 0.9529 - regression_loss: 0.7858 - classification_loss: 0.1671"
     ]
    },
    {
     "name": "stderr",
     "output_type": "stream",
     "text": [
      "Running network: 100% (180 of 180) |#####| Elapsed Time: 0:00:08 Time:  0:00:08\n",
      "Parsing annotations: 100% (180 of 180) |#| Elapsed Time: 0:00:00 Time:  0:00:00\n"
     ]
    },
    {
     "name": "stdout",
     "output_type": "stream",
     "text": [
      "198 instances of class polyp with average precision: 0.8581\n",
      "mAP: 0.8581\n",
      "\n",
      "Epoch 00043: mAP did not improve from 0.86332\n",
      "400/400 [==============================] - 41s 102ms/step - loss: 0.9529 - regression_loss: 0.7858 - classification_loss: 0.1671 - val_loss: 1.1041 - val_regression_loss: 0.9126 - val_classification_loss: 0.1915\n",
      "Epoch 44/50\n",
      "400/400 [==============================] - ETA: 0s - loss: 0.8904 - regression_loss: 0.7274 - classification_loss: 0.1629"
     ]
    },
    {
     "name": "stderr",
     "output_type": "stream",
     "text": [
      "Running network: 100% (180 of 180) |#####| Elapsed Time: 0:00:08 Time:  0:00:08\n",
      "Parsing annotations: 100% (180 of 180) |#| Elapsed Time: 0:00:00 Time:  0:00:00\n"
     ]
    },
    {
     "name": "stdout",
     "output_type": "stream",
     "text": [
      "198 instances of class polyp with average precision: 0.8661\n",
      "mAP: 0.8661\n",
      "\n",
      "Epoch 00044: mAP improved from 0.86332 to 0.86610, saving model to ./result\\retinanet_resnet50_aug.h5\n",
      "400/400 [==============================] - 43s 107ms/step - loss: 0.8904 - regression_loss: 0.7274 - classification_loss: 0.1629 - val_loss: 1.1847 - val_regression_loss: 0.9920 - val_classification_loss: 0.1927\n",
      "Epoch 45/50\n",
      "400/400 [==============================] - ETA: 0s - loss: 0.9599 - regression_loss: 0.7838 - classification_loss: 0.1761"
     ]
    },
    {
     "name": "stderr",
     "output_type": "stream",
     "text": [
      "Running network: 100% (180 of 180) |#####| Elapsed Time: 0:00:08 Time:  0:00:08\n",
      "Parsing annotations: 100% (180 of 180) |#| Elapsed Time: 0:00:00 Time:  0:00:00\n"
     ]
    },
    {
     "name": "stdout",
     "output_type": "stream",
     "text": [
      "198 instances of class polyp with average precision: 0.8659\n",
      "mAP: 0.8659\n",
      "\n",
      "Epoch 00045: mAP did not improve from 0.86610\n",
      "400/400 [==============================] - 41s 102ms/step - loss: 0.9599 - regression_loss: 0.7838 - classification_loss: 0.1761 - val_loss: 1.1465 - val_regression_loss: 0.9547 - val_classification_loss: 0.1918\n",
      "Epoch 46/50\n",
      "400/400 [==============================] - ETA: 0s - loss: 0.9225 - regression_loss: 0.7535 - classification_loss: 0.1690"
     ]
    },
    {
     "name": "stderr",
     "output_type": "stream",
     "text": [
      "Running network: 100% (180 of 180) |#####| Elapsed Time: 0:00:08 Time:  0:00:08\n",
      "Parsing annotations: 100% (180 of 180) |#| Elapsed Time: 0:00:00 Time:  0:00:00\n"
     ]
    },
    {
     "name": "stdout",
     "output_type": "stream",
     "text": [
      "198 instances of class polyp with average precision: 0.8671\n",
      "mAP: 0.8671\n",
      "\n",
      "Epoch 00046: mAP improved from 0.86610 to 0.86713, saving model to ./result\\retinanet_resnet50_aug.h5\n",
      "400/400 [==============================] - 42s 106ms/step - loss: 0.9225 - regression_loss: 0.7535 - classification_loss: 0.1690 - val_loss: 1.1283 - val_regression_loss: 0.9371 - val_classification_loss: 0.1912\n",
      "Epoch 47/50\n",
      "400/400 [==============================] - ETA: 0s - loss: 0.9039 - regression_loss: 0.7384 - classification_loss: 0.1655"
     ]
    },
    {
     "name": "stderr",
     "output_type": "stream",
     "text": [
      "Running network: 100% (180 of 180) |#####| Elapsed Time: 0:00:08 Time:  0:00:08\n",
      "Parsing annotations: 100% (180 of 180) |#| Elapsed Time: 0:00:00 Time:  0:00:00\n"
     ]
    },
    {
     "name": "stdout",
     "output_type": "stream",
     "text": [
      "198 instances of class polyp with average precision: 0.8613\n",
      "mAP: 0.8613\n",
      "\n",
      "Epoch 00047: mAP did not improve from 0.86713\n",
      "400/400 [==============================] - 41s 102ms/step - loss: 0.9039 - regression_loss: 0.7384 - classification_loss: 0.1655 - val_loss: 1.1355 - val_regression_loss: 0.9436 - val_classification_loss: 0.1920\n",
      "Epoch 48/50\n",
      "400/400 [==============================] - ETA: 0s - loss: 0.9121 - regression_loss: 0.7461 - classification_loss: 0.1660"
     ]
    },
    {
     "name": "stderr",
     "output_type": "stream",
     "text": [
      "Running network: 100% (180 of 180) |#####| Elapsed Time: 0:00:08 Time:  0:00:08\n",
      "Parsing annotations: 100% (180 of 180) |#| Elapsed Time: 0:00:00 Time:  0:00:00\n"
     ]
    },
    {
     "name": "stdout",
     "output_type": "stream",
     "text": [
      "198 instances of class polyp with average precision: 0.8675\n",
      "mAP: 0.8675\n",
      "\n",
      "Epoch 00048: mAP improved from 0.86713 to 0.86746, saving model to ./result\\retinanet_resnet50_aug.h5\n",
      "\n",
      "Epoch 00048: ReduceLROnPlateau reducing learning rate to 1.0000000474974514e-05.\n",
      "400/400 [==============================] - 42s 106ms/step - loss: 0.9121 - regression_loss: 0.7461 - classification_loss: 0.1660 - val_loss: 1.1741 - val_regression_loss: 0.9789 - val_classification_loss: 0.1952\n",
      "Epoch 49/50\n",
      "400/400 [==============================] - ETA: 0s - loss: 0.8402 - regression_loss: 0.6876 - classification_loss: 0.1526"
     ]
    },
    {
     "name": "stderr",
     "output_type": "stream",
     "text": [
      "Running network: 100% (180 of 180) |#####| Elapsed Time: 0:00:09 Time:  0:00:09\n",
      "Parsing annotations: 100% (180 of 180) |#| Elapsed Time: 0:00:00 Time:  0:00:00\n"
     ]
    },
    {
     "name": "stdout",
     "output_type": "stream",
     "text": [
      "198 instances of class polyp with average precision: 0.8614\n",
      "mAP: 0.8614\n",
      "\n",
      "Epoch 00049: mAP did not improve from 0.86746\n",
      "400/400 [==============================] - 41s 103ms/step - loss: 0.8402 - regression_loss: 0.6876 - classification_loss: 0.1526 - val_loss: 1.1600 - val_regression_loss: 0.9659 - val_classification_loss: 0.1940\n",
      "Epoch 50/50\n",
      "400/400 [==============================] - ETA: 0s - loss: 0.9197 - regression_loss: 0.7473 - classification_loss: 0.1724"
     ]
    },
    {
     "name": "stderr",
     "output_type": "stream",
     "text": [
      "Running network: 100% (180 of 180) |#####| Elapsed Time: 0:00:08 Time:  0:00:08\n",
      "Parsing annotations: 100% (180 of 180) |#| Elapsed Time: 0:00:00 Time:  0:00:00\n"
     ]
    },
    {
     "name": "stdout",
     "output_type": "stream",
     "text": [
      "198 instances of class polyp with average precision: 0.8664\n",
      "mAP: 0.8664\n",
      "\n",
      "Epoch 00050: mAP did not improve from 0.86746\n",
      "400/400 [==============================] - 41s 102ms/step - loss: 0.9197 - regression_loss: 0.7473 - classification_loss: 0.1724 - val_loss: 1.1640 - val_regression_loss: 0.9701 - val_classification_loss: 0.1939\n"
     ]
    }
   ],
   "source": [
    "history_aug = training_model_aug.fit(\n",
    "                x=train_generator_aug,\n",
    "                epochs=epochs,\n",
    "                verbose=1,\n",
    "                validation_data=val_generator,\n",
    "                callbacks=callback_aug,\n",
    "                steps_per_epoch = steps\n",
    "                )"
   ]
  },
  {
   "cell_type": "code",
   "execution_count": 19,
   "id": "4288b095-2db2-464e-909f-3d0aaac4180d",
   "metadata": {
    "collapsed": true,
    "jupyter": {
     "outputs_hidden": true,
     "source_hidden": true
    },
    "tags": []
   },
   "outputs": [
    {
     "data": {
      "image/png": "[encoded data removed]",
      "text/plain": [
       "<Figure size 936x1440 with 4 Axes>"
      ]
     },
     "metadata": {
      "needs_background": "light"
     },
     "output_type": "display_data"
    }
   ],
   "source": [
    "fig = './result/retinanet_resnet50_aug.png'\n",
    "plot_history(history_aug, fig, 'Polyp Detection Using RetinaNet (Backbone = ResNet50) with Data Augmentation', epochs)"
   ]
  },
  {
   "cell_type": "code",
   "execution_count": null,
   "id": "fb6e38ff-8b32-4207-8f52-e46ff4ba39dc",
   "metadata": {},
   "outputs": [],
   "source": []
  }
 ],
 "metadata": {
  "kernelspec": {
   "display_name": "Python 3 (ipykernel)",
   "language": "python",
   "name": "python3"
  },
  "language_info": {
   "codemirror_mode": {
    "name": "ipython",
    "version": 3
   },
   "file_extension": ".py",
   "mimetype": "text/x-python",
   "name": "python",
   "nbconvert_exporter": "python",
   "pygments_lexer": "ipython3",
   "version": "3.7.11"
  }
 },
 "nbformat": 4,
 "nbformat_minor": 5
}
