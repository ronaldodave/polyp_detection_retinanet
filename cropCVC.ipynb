{
 "cells": [
  {
   "cell_type": "code",
   "execution_count": 1,
   "id": "4d1b7287-e37f-4af9-a02b-76e065080365",
   "metadata": {},
   "outputs": [],
   "source": [
    "import numpy as np\n",
    "import matplotlib.pyplot as plt\n",
    "from skimage.io import imread, imshow, imsave\n",
    "from glob import glob\n",
    "import os\n",
    "from PIL import Image"
   ]
  },
  {
   "cell_type": "code",
   "execution_count": 2,
   "id": "be9d934c-5b4d-496b-8efd-308cced0570f",
   "metadata": {},
   "outputs": [],
   "source": [
    "dir_cvc = './CVC-ClinicDB'"
   ]
  },
  {
   "cell_type": "code",
   "execution_count": 3,
   "id": "cd4a43b3-657c-4ce2-aad2-954e36ff75f4",
   "metadata": {},
   "outputs": [],
   "source": [
    "images_cvc = sorted(glob(os.path.join(dir_cvc, \"Original/*\")))\n",
    "masks_cvc = sorted(glob(os.path.join(dir_cvc, \"Ground Truth/*\")))"
   ]
  },
  {
   "cell_type": "code",
   "execution_count": 4,
   "id": "1a453827-4e1d-4730-a920-1276a0d86ef5",
   "metadata": {},
   "outputs": [
    {
     "name": "stdout",
     "output_type": "stream",
     "text": [
      "Total data from CVC  612\n"
     ]
    }
   ],
   "source": [
    "print('Total data from CVC ', len(images_cvc))"
   ]
  },
  {
   "cell_type": "code",
   "execution_count": 5,
   "id": "2365be9f-b9fd-4b38-a2e4-33ed60de1c4c",
   "metadata": {},
   "outputs": [],
   "source": [
    "def read_image(image_path): \n",
    "    x = imread(image_path)\n",
    "    x = x[:, :,0:3]\n",
    "    return x\n",
    "\n",
    "def read_mask(mask_path):\n",
    "    x = imread(mask_path, as_gray=True)\n",
    "    return x"
   ]
  },
  {
   "cell_type": "code",
   "execution_count": 6,
   "id": "2fc5ba01-78a7-4266-a704-b0d58e558e9a",
   "metadata": {},
   "outputs": [],
   "source": [
    "img = np.ndarray((len(images_cvc), 288, 384, 3))\n",
    "labels = np.ndarray((len(images_cvc), 288, 384))\n",
    "for i in range(len(images_cvc)):\n",
    "    img[i]=read_image(images_cvc[i])\n",
    "    labels[i]=read_mask(masks_cvc[i])"
   ]
  },
  {
   "cell_type": "code",
   "execution_count": 7,
   "id": "de316f7f-bae8-4250-9a18-0d7862e160a1",
   "metadata": {},
   "outputs": [],
   "source": [
    "def crop(image, mask, img_thresh):\n",
    "    y_nonzero, x_nonzero, _ = np.nonzero(img_thresh)\n",
    "    img_crop = image[np.min(y_nonzero):np.max(y_nonzero), np.min(x_nonzero):np.max(x_nonzero)]\n",
    "    labels_crop = mask[np.min(y_nonzero):np.max(y_nonzero), np.min(x_nonzero):np.max(x_nonzero)]\n",
    "    return img_crop, labels_crop"
   ]
  },
  {
   "cell_type": "code",
   "execution_count": 8,
   "id": "41991a66-fcd6-4977-b91d-70a288966d34",
   "metadata": {},
   "outputs": [],
   "source": [
    "img_thresh = img.astype(np.float64).copy()\n",
    "img_thresh[img_thresh<50]=0"
   ]
  },
  {
   "cell_type": "code",
   "execution_count": 9,
   "id": "4c532194-3c9d-4a2a-9572-3db1164d37d3",
   "metadata": {},
   "outputs": [],
   "source": [
    "for i in range(len(img)):\n",
    "    img_crop, labels_crop = crop(img[i], labels[i], img_thresh[i])\n",
    "    Image.fromarray(img_crop.astype(np.uint8),'RGB').save(\"./CVC-ClinicDB-crop/Original/\"+ str(i+1)+\".png\")\n",
    "    Image.fromarray(labels_crop.astype(np.uint8),'L').save(\"./CVC-ClinicDB-crop/Ground Truth/\"+ str(i+1)+\".png\")"
   ]
  }
 ],
 "metadata": {
  "kernelspec": {
   "display_name": "Python 3 (ipykernel)",
   "language": "python",
   "name": "python3"
  },
  "language_info": {
   "codemirror_mode": {
    "name": "ipython",
    "version": 3
   },
   "file_extension": ".py",
   "mimetype": "text/x-python",
   "name": "python",
   "nbconvert_exporter": "python",
   "pygments_lexer": "ipython3",
   "version": "3.7.11"
  }
 },
 "nbformat": 4,
 "nbformat_minor": 5
}
