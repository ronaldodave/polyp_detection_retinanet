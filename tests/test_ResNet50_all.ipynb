{
 "cells": [
  {
   "cell_type": "markdown",
   "id": "799ab9d2-a700-4f98-95c6-0a9e17c3b197",
   "metadata": {
    "tags": []
   },
   "source": [
    "# Evaluate RetinaNet (Backbone = ResNet50)"
   ]
  },
  {
   "cell_type": "markdown",
   "id": "6f9b32ea-dd05-4e93-a635-4365f10b5fa4",
   "metadata": {},
   "source": [
    "# All Dataset"
   ]
  },
  {
   "cell_type": "code",
   "execution_count": 1,
   "id": "c2c772db-bb2e-42a1-aea1-793965895e16",
   "metadata": {},
   "outputs": [],
   "source": [
    "from keras_retinanet import models\n",
    "from keras_retinanet.models.retinanet import retinanet_bbox\n",
    "import os\n",
    "from keras_retinanet.preprocessing.csv_generator import CSVGenerator\n",
    "from keras_retinanet.utils.eval import evaluate, compute_iou"
   ]
  },
  {
   "cell_type": "code",
   "execution_count": 2,
   "id": "61bbc1d1-3188-4f25-b4d7-335a2a87ead0",
   "metadata": {},
   "outputs": [],
   "source": [
    "model_path = os.path.join('.', 'result', 'retinanet_resnet50.h5')\n",
    "model = models.load_model(model_path, backbone_name='resnet50')"
   ]
  },
  {
   "cell_type": "code",
   "execution_count": 3,
   "id": "7fd6f99c-d21a-47fc-a285-37a271970a78",
   "metadata": {},
   "outputs": [],
   "source": [
    "anchor_params = None\n",
    "num_anchors   = None\n",
    "pyramid_levels = None\n",
    "prediction_model = retinanet_bbox(model=model, anchor_params=anchor_params, pyramid_levels=pyramid_levels)"
   ]
  },
  {
   "cell_type": "code",
   "execution_count": 4,
   "id": "82dd83fd-232a-4a51-8f7c-fd2f56ab1cfd",
   "metadata": {},
   "outputs": [],
   "source": [
    "test_generator = CSVGenerator(\n",
    "    csv_data_file='./dataset/test.csv',\n",
    "    csv_class_file='./dataset/class.csv',\n",
    "    no_resize = True  \n",
    ")"
   ]
  },
  {
   "cell_type": "markdown",
   "id": "40470c07-f79b-4c8e-83d1-12ef28fdcf28",
   "metadata": {},
   "source": [
    "### Without Data Augmentation"
   ]
  },
  {
   "cell_type": "code",
   "execution_count": 5,
   "id": "b2a98feb-76c0-4ddf-9a51-5aec83774a39",
   "metadata": {
    "tags": []
   },
   "outputs": [
    {
     "name": "stderr",
     "output_type": "stream",
     "text": [
      "Running network: 100% (180 of 180) |#####| Elapsed Time: 0:00:15 Time:  0:00:15\n",
      "Parsing annotations: 100% (180 of 180) |#| Elapsed Time: 0:00:00 Time:  0:00:00\n"
     ]
    }
   ],
   "source": [
    "AP_25, inference_25 = evaluate(test_generator,\n",
    "                                prediction_model,\n",
    "                                iou_threshold=0.25,\n",
    "                                score_threshold=0.05,\n",
    "                                max_detections=100,\n",
    "                                save_path=None)"
   ]
  },
  {
   "cell_type": "code",
   "execution_count": 6,
   "id": "ab53ef44-3a73-4bef-94a0-ffafd8297d9d",
   "metadata": {},
   "outputs": [
    {
     "name": "stderr",
     "output_type": "stream",
     "text": [
      "Running network: 100% (180 of 180) |#####| Elapsed Time: 0:00:14 Time:  0:00:14\n",
      "Parsing annotations: 100% (180 of 180) |#| Elapsed Time: 0:00:00 Time:  0:00:00\n"
     ]
    }
   ],
   "source": [
    "AP_50, inference_50 = evaluate(test_generator,\n",
    "                                prediction_model,\n",
    "                                iou_threshold=0.50,\n",
    "                                score_threshold=0.05,\n",
    "                                max_detections=100,\n",
    "                                save_path='./example/resnet50')"
   ]
  },
  {
   "cell_type": "code",
   "execution_count": 7,
   "id": "f8dc00e8-5f90-465f-8c52-d43ff85a3d00",
   "metadata": {},
   "outputs": [
    {
     "name": "stderr",
     "output_type": "stream",
     "text": [
      "Running network: 100% (180 of 180) |#####| Elapsed Time: 0:00:11 Time:  0:00:11\n",
      "Parsing annotations: 100% (180 of 180) |#| Elapsed Time: 0:00:00 Time:  0:00:00\n"
     ]
    }
   ],
   "source": [
    "AP_75, inference_75 = evaluate(test_generator,\n",
    "                                prediction_model,\n",
    "                                iou_threshold=0.75,\n",
    "                                score_threshold=0.05,\n",
    "                                max_detections=100,\n",
    "                                save_path=None)"
   ]
  },
  {
   "cell_type": "code",
   "execution_count": 8,
   "id": "fc5cf2cb-13b2-40d9-a986-004acd747b95",
   "metadata": {},
   "outputs": [
    {
     "name": "stdout",
     "output_type": "stream",
     "text": [
      "{0: (0.9193893037812795, 193.0)}\n"
     ]
    }
   ],
   "source": [
    "print(AP_25)"
   ]
  },
  {
   "cell_type": "code",
   "execution_count": 9,
   "id": "7be53850-89fc-44b6-9e4d-b229b85cfed9",
   "metadata": {},
   "outputs": [
    {
     "name": "stdout",
     "output_type": "stream",
     "text": [
      "{0: (0.8842840578612245, 193.0)}\n"
     ]
    }
   ],
   "source": [
    "print(AP_50)"
   ]
  },
  {
   "cell_type": "code",
   "execution_count": 10,
   "id": "1e950bf7-ee3e-49a7-9349-287804657806",
   "metadata": {},
   "outputs": [
    {
     "name": "stdout",
     "output_type": "stream",
     "text": [
      "{0: (0.6531220708356069, 193.0)}\n"
     ]
    }
   ],
   "source": [
    "print(AP_75)"
   ]
  },
  {
   "cell_type": "code",
   "execution_count": 11,
   "id": "92f4cb83-51f7-456c-aeee-40e08d1e0d82",
   "metadata": {},
   "outputs": [
    {
     "name": "stderr",
     "output_type": "stream",
     "text": [
      "Running network: 100% (180 of 180) |#####| Elapsed Time: 0:00:11 Time:  0:00:11\n",
      "Parsing annotations: 100% (180 of 180) |#| Elapsed Time: 0:00:00 Time:  0:00:00\n"
     ]
    }
   ],
   "source": [
    "iou = compute_iou(test_generator,prediction_model)"
   ]
  },
  {
   "cell_type": "code",
   "execution_count": 12,
   "id": "010925b0-a03e-4348-aa1b-c0c833b3247f",
   "metadata": {},
   "outputs": [
    {
     "name": "stdout",
     "output_type": "stream",
     "text": [
      "[0.84145734]\n"
     ]
    }
   ],
   "source": [
    "print(iou)"
   ]
  },
  {
   "cell_type": "markdown",
   "id": "42bc71a7-155b-4791-8597-a8c8203c9916",
   "metadata": {},
   "source": [
    "### With Data Augmentation"
   ]
  },
  {
   "cell_type": "code",
   "execution_count": 13,
   "id": "31aab509-dbb0-4458-af61-b24d22c44cb3",
   "metadata": {},
   "outputs": [],
   "source": [
    "model_path_2 = os.path.join('.', 'result', 'retinanet_resnet50_aug.h5')\n",
    "model_2 = models.load_model(model_path_2, backbone_name='resnet50')\n",
    "prediction_model_2 = retinanet_bbox(model=model_2, anchor_params=anchor_params, pyramid_levels=pyramid_levels)"
   ]
  },
  {
   "cell_type": "code",
   "execution_count": 14,
   "id": "01a5ad68-14d4-4352-be65-155b2dd073bc",
   "metadata": {},
   "outputs": [
    {
     "name": "stderr",
     "output_type": "stream",
     "text": [
      "Running network: 100% (180 of 180) |#####| Elapsed Time: 0:00:13 Time:  0:00:13\n",
      "Parsing annotations: 100% (180 of 180) |#| Elapsed Time: 0:00:00 Time:  0:00:00\n"
     ]
    }
   ],
   "source": [
    "AP_25_aug, inference_25_aug = evaluate(test_generator,\n",
    "                                              prediction_model_2,\n",
    "                                              iou_threshold=0.25,\n",
    "                                              score_threshold=0.5,\n",
    "                                              max_detections=100,\n",
    "                                              save_path=None)"
   ]
  },
  {
   "cell_type": "code",
   "execution_count": 15,
   "id": "b7c6a7d8-2605-4b7c-ae79-2c7de870b3e6",
   "metadata": {},
   "outputs": [
    {
     "name": "stderr",
     "output_type": "stream",
     "text": [
      "Running network: 100% (180 of 180) |#####| Elapsed Time: 0:00:14 Time:  0:00:14\n",
      "Parsing annotations: 100% (180 of 180) |#| Elapsed Time: 0:00:00 Time:  0:00:00\n"
     ]
    }
   ],
   "source": [
    "AP_50_aug, inference_50_aug = evaluate(test_generator,\n",
    "                                        prediction_model_2,\n",
    "                                        iou_threshold=0.50,\n",
    "                                        score_threshold=0.05,\n",
    "                                        max_detections=100,\n",
    "                                        save_path='./example/resnet50_aug')"
   ]
  },
  {
   "cell_type": "code",
   "execution_count": 16,
   "id": "37aa32b1-e648-40a8-9032-24452377ade9",
   "metadata": {},
   "outputs": [
    {
     "name": "stderr",
     "output_type": "stream",
     "text": [
      "Running network: 100% (180 of 180) |#####| Elapsed Time: 0:00:11 Time:  0:00:11\n",
      "Parsing annotations: 100% (180 of 180) |#| Elapsed Time: 0:00:00 Time:  0:00:00\n"
     ]
    }
   ],
   "source": [
    "AP_75_aug, inference_75_aug = evaluate(test_generator,\n",
    "                                        prediction_model_2,\n",
    "                                        iou_threshold=0.75,\n",
    "                                        score_threshold=0.05,\n",
    "                                        max_detections=100,\n",
    "                                        save_path=None)"
   ]
  },
  {
   "cell_type": "code",
   "execution_count": 17,
   "id": "3ba561cc-4264-4c50-931c-7a7097eebb76",
   "metadata": {},
   "outputs": [
    {
     "name": "stdout",
     "output_type": "stream",
     "text": [
      "{0: (0.8326141043663958, 193.0)}\n"
     ]
    }
   ],
   "source": [
    "print(AP_25_aug)"
   ]
  },
  {
   "cell_type": "code",
   "execution_count": 18,
   "id": "1cb0574d-05d9-4dea-bd67-b7930cc09f52",
   "metadata": {},
   "outputs": [
    {
     "name": "stdout",
     "output_type": "stream",
     "text": [
      "{0: (0.8892816038684129, 193.0)}\n"
     ]
    }
   ],
   "source": [
    "print(AP_50_aug)"
   ]
  },
  {
   "cell_type": "code",
   "execution_count": 19,
   "id": "082be1b6-c6b6-4e34-b140-e411d21cb7a0",
   "metadata": {},
   "outputs": [
    {
     "name": "stdout",
     "output_type": "stream",
     "text": [
      "{0: (0.6316612323349954, 193.0)}\n"
     ]
    }
   ],
   "source": [
    "print(AP_75_aug)"
   ]
  },
  {
   "cell_type": "code",
   "execution_count": 20,
   "id": "8bd53848-63cc-4475-b450-074110ccac65",
   "metadata": {},
   "outputs": [
    {
     "name": "stderr",
     "output_type": "stream",
     "text": [
      "Running network: 100% (180 of 180) |#####| Elapsed Time: 0:00:11 Time:  0:00:11\n",
      "Parsing annotations: 100% (180 of 180) |#| Elapsed Time: 0:00:00 Time:  0:00:00\n"
     ]
    }
   ],
   "source": [
    "iou_aug = compute_iou(test_generator,prediction_model_2)"
   ]
  },
  {
   "cell_type": "code",
   "execution_count": 21,
   "id": "36a9ae52-b079-4c61-bab9-b1659982bdb1",
   "metadata": {},
   "outputs": [
    {
     "name": "stdout",
     "output_type": "stream",
     "text": [
      "[0.76775646]\n"
     ]
    }
   ],
   "source": [
    "print(iou_aug)"
   ]
  },
  {
   "cell_type": "code",
   "execution_count": null,
   "id": "c145133e-005b-47e2-a836-ace7c14be7db",
   "metadata": {},
   "outputs": [],
   "source": []
  }
 ],
 "metadata": {
  "kernelspec": {
   "display_name": "Python 3 (ipykernel)",
   "language": "python",
   "name": "python3"
  },
  "language_info": {
   "codemirror_mode": {
    "name": "ipython",
    "version": 3
   },
   "file_extension": ".py",
   "mimetype": "text/x-python",
   "name": "python",
   "nbconvert_exporter": "python",
   "pygments_lexer": "ipython3",
   "version": "3.7.11"
  }
 },
 "nbformat": 4,
 "nbformat_minor": 5
}
